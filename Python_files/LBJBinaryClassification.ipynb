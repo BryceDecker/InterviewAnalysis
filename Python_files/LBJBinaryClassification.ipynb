{
 "cells": [
  {
   "cell_type": "code",
   "execution_count": 1,
   "id": "293db8f8",
   "metadata": {},
   "outputs": [],
   "source": [
    "import numpy as np\n",
    "import pandas as pd\n",
    "import matplotlib.pyplot as plt\n",
    "import seaborn as sns\n",
    "import statsmodels.api as sm\n",
    "\n",
    "from sklearn.preprocessing import StandardScaler\n",
    "from sklearn.preprocessing import Normalizer\n",
    "\n",
    "from sklearn.model_selection import train_test_split\n",
    "from sklearn.model_selection import KFold\n",
    "from sklearn import tree\n",
    "from sklearn.linear_model import LinearRegression\n",
    "from sklearn.model_selection import StratifiedKFold\n",
    "from sklearn.model_selection import cross_val_score\n",
    "from sklearn.naive_bayes import GaussianNB\n",
    "from sklearn.linear_model import LogisticRegression\n",
    "from sklearn.neighbors import KNeighborsClassifier\n",
    "from sklearn.ensemble import RandomForestClassifier\n",
    "from sklearn.svm import SVC\n",
    "import xgboost\n",
    "from xgboost import XGBClassifier\n",
    "\n",
    "import keras \n",
    "from keras.models import Sequential\n",
    "from keras.layers import Dense\n",
    "from keras import layers, models, optimizers\n",
    "from keras.utils import np_utils\n",
    "from sklearn.preprocessing import LabelEncoder\n",
    "from scikeras.wrappers import KerasClassifier, KerasRegressor\n",
    "import scikeras\n",
    "\n",
    "from sklearn.metrics import confusion_matrix\n",
    "from sklearn.metrics import accuracy_score"
   ]
  },
  {
   "cell_type": "code",
   "execution_count": 2,
   "id": "54c28a52",
   "metadata": {},
   "outputs": [],
   "source": [
    "data = pd.read_csv('Interview_analysis_final.csv')\n",
    "df = data.copy()"
   ]
  },
  {
   "cell_type": "code",
   "execution_count": 3,
   "id": "a313356d",
   "metadata": {
    "scrolled": true
   },
   "outputs": [
    {
     "data": {
      "text/html": [
       "<div>\n",
       "<style scoped>\n",
       "    .dataframe tbody tr th:only-of-type {\n",
       "        vertical-align: middle;\n",
       "    }\n",
       "\n",
       "    .dataframe tbody tr th {\n",
       "        vertical-align: top;\n",
       "    }\n",
       "\n",
       "    .dataframe thead th {\n",
       "        text-align: right;\n",
       "    }\n",
       "</style>\n",
       "<table border=\"1\" class=\"dataframe\">\n",
       "  <thead>\n",
       "    <tr style=\"text-align: right;\">\n",
       "      <th></th>\n",
       "      <th>Date</th>\n",
       "      <th>interview length</th>\n",
       "      <th>Questions rating</th>\n",
       "      <th>Responses rating</th>\n",
       "      <th>practice</th>\n",
       "      <th>game</th>\n",
       "      <th>win_prac_loss</th>\n",
       "      <th>win</th>\n",
       "      <th>loss</th>\n",
       "      <th>home</th>\n",
       "      <th>away</th>\n",
       "      <th>series result</th>\n",
       "      <th>cumulative wins</th>\n",
       "      <th>cumulative losses</th>\n",
       "    </tr>\n",
       "  </thead>\n",
       "  <tbody>\n",
       "    <tr>\n",
       "      <th>0</th>\n",
       "      <td>2020-10-11</td>\n",
       "      <td>9</td>\n",
       "      <td>0.666667</td>\n",
       "      <td>0.777778</td>\n",
       "      <td>0</td>\n",
       "      <td>1</td>\n",
       "      <td>1</td>\n",
       "      <td>1</td>\n",
       "      <td>0</td>\n",
       "      <td>0</td>\n",
       "      <td>1</td>\n",
       "      <td>1</td>\n",
       "      <td>4</td>\n",
       "      <td>2</td>\n",
       "    </tr>\n",
       "    <tr>\n",
       "      <th>1</th>\n",
       "      <td>2020-10-09</td>\n",
       "      <td>8</td>\n",
       "      <td>0.250000</td>\n",
       "      <td>0.250000</td>\n",
       "      <td>0</td>\n",
       "      <td>1</td>\n",
       "      <td>-1</td>\n",
       "      <td>0</td>\n",
       "      <td>1</td>\n",
       "      <td>0</td>\n",
       "      <td>1</td>\n",
       "      <td>0</td>\n",
       "      <td>3</td>\n",
       "      <td>2</td>\n",
       "    </tr>\n",
       "    <tr>\n",
       "      <th>2</th>\n",
       "      <td>2020-10-08</td>\n",
       "      <td>10</td>\n",
       "      <td>0.600000</td>\n",
       "      <td>0.800000</td>\n",
       "      <td>1</td>\n",
       "      <td>0</td>\n",
       "      <td>0</td>\n",
       "      <td>0</td>\n",
       "      <td>0</td>\n",
       "      <td>0</td>\n",
       "      <td>1</td>\n",
       "      <td>0</td>\n",
       "      <td>3</td>\n",
       "      <td>1</td>\n",
       "    </tr>\n",
       "    <tr>\n",
       "      <th>3</th>\n",
       "      <td>2020-10-06</td>\n",
       "      <td>11</td>\n",
       "      <td>0.727273</td>\n",
       "      <td>0.909091</td>\n",
       "      <td>0</td>\n",
       "      <td>1</td>\n",
       "      <td>1</td>\n",
       "      <td>1</td>\n",
       "      <td>0</td>\n",
       "      <td>0</td>\n",
       "      <td>1</td>\n",
       "      <td>0</td>\n",
       "      <td>3</td>\n",
       "      <td>1</td>\n",
       "    </tr>\n",
       "    <tr>\n",
       "      <th>4</th>\n",
       "      <td>2020-10-05</td>\n",
       "      <td>9</td>\n",
       "      <td>0.222222</td>\n",
       "      <td>0.777778</td>\n",
       "      <td>1</td>\n",
       "      <td>0</td>\n",
       "      <td>0</td>\n",
       "      <td>0</td>\n",
       "      <td>0</td>\n",
       "      <td>0</td>\n",
       "      <td>1</td>\n",
       "      <td>0</td>\n",
       "      <td>2</td>\n",
       "      <td>1</td>\n",
       "    </tr>\n",
       "  </tbody>\n",
       "</table>\n",
       "</div>"
      ],
      "text/plain": [
       "         Date  interview length  Questions rating  Responses rating  practice  \\\n",
       "0  2020-10-11                 9          0.666667          0.777778         0   \n",
       "1  2020-10-09                 8          0.250000          0.250000         0   \n",
       "2  2020-10-08                10          0.600000          0.800000         1   \n",
       "3  2020-10-06                11          0.727273          0.909091         0   \n",
       "4  2020-10-05                 9          0.222222          0.777778         1   \n",
       "\n",
       "   game  win_prac_loss  win  loss  home  away  series result  cumulative wins  \\\n",
       "0     1              1    1     0     0     1              1                4   \n",
       "1     1             -1    0     1     0     1              0                3   \n",
       "2     0              0    0     0     0     1              0                3   \n",
       "3     1              1    1     0     0     1              0                3   \n",
       "4     0              0    0     0     0     1              0                2   \n",
       "\n",
       "   cumulative losses  \n",
       "0                  2  \n",
       "1                  2  \n",
       "2                  1  \n",
       "3                  1  \n",
       "4                  1  "
      ]
     },
     "execution_count": 3,
     "metadata": {},
     "output_type": "execute_result"
    }
   ],
   "source": [
    "df.head()"
   ]
  },
  {
   "cell_type": "markdown",
   "id": "daa41771",
   "metadata": {},
   "source": [
    "### As Lebron's response rating is contained in [0,1] we will be classifying his tone as either 'more neutral' or 'more positive'. Here 'more positive' corresponds to all interviews with a response rating greater than 0.5 and 'more neutral' corresponds to the rest."
   ]
  },
  {
   "cell_type": "code",
   "execution_count": 4,
   "id": "25dd37d6",
   "metadata": {},
   "outputs": [],
   "source": [
    "response_np = []\n",
    "for ele in df['Responses rating']:\n",
    "    if ele > 0.5:\n",
    "        response_np.append(1)\n",
    "    else:\n",
    "        response_np.append(0)"
   ]
  },
  {
   "cell_type": "code",
   "execution_count": 5,
   "id": "28358ce4",
   "metadata": {},
   "outputs": [
    {
     "data": {
      "text/html": [
       "<div>\n",
       "<style scoped>\n",
       "    .dataframe tbody tr th:only-of-type {\n",
       "        vertical-align: middle;\n",
       "    }\n",
       "\n",
       "    .dataframe tbody tr th {\n",
       "        vertical-align: top;\n",
       "    }\n",
       "\n",
       "    .dataframe thead th {\n",
       "        text-align: right;\n",
       "    }\n",
       "</style>\n",
       "<table border=\"1\" class=\"dataframe\">\n",
       "  <thead>\n",
       "    <tr style=\"text-align: right;\">\n",
       "      <th></th>\n",
       "      <th>Date</th>\n",
       "      <th>interview length</th>\n",
       "      <th>Questions rating</th>\n",
       "      <th>Responses rating</th>\n",
       "      <th>practice</th>\n",
       "      <th>game</th>\n",
       "      <th>win_prac_loss</th>\n",
       "      <th>win</th>\n",
       "      <th>loss</th>\n",
       "      <th>home</th>\n",
       "      <th>away</th>\n",
       "      <th>series result</th>\n",
       "      <th>cumulative wins</th>\n",
       "      <th>cumulative losses</th>\n",
       "      <th>Response classification</th>\n",
       "    </tr>\n",
       "  </thead>\n",
       "  <tbody>\n",
       "    <tr>\n",
       "      <th>0</th>\n",
       "      <td>2020-10-11</td>\n",
       "      <td>9</td>\n",
       "      <td>0.666667</td>\n",
       "      <td>0.777778</td>\n",
       "      <td>0</td>\n",
       "      <td>1</td>\n",
       "      <td>1</td>\n",
       "      <td>1</td>\n",
       "      <td>0</td>\n",
       "      <td>0</td>\n",
       "      <td>1</td>\n",
       "      <td>1</td>\n",
       "      <td>4</td>\n",
       "      <td>2</td>\n",
       "      <td>1</td>\n",
       "    </tr>\n",
       "    <tr>\n",
       "      <th>1</th>\n",
       "      <td>2020-10-09</td>\n",
       "      <td>8</td>\n",
       "      <td>0.250000</td>\n",
       "      <td>0.250000</td>\n",
       "      <td>0</td>\n",
       "      <td>1</td>\n",
       "      <td>-1</td>\n",
       "      <td>0</td>\n",
       "      <td>1</td>\n",
       "      <td>0</td>\n",
       "      <td>1</td>\n",
       "      <td>0</td>\n",
       "      <td>3</td>\n",
       "      <td>2</td>\n",
       "      <td>0</td>\n",
       "    </tr>\n",
       "    <tr>\n",
       "      <th>2</th>\n",
       "      <td>2020-10-08</td>\n",
       "      <td>10</td>\n",
       "      <td>0.600000</td>\n",
       "      <td>0.800000</td>\n",
       "      <td>1</td>\n",
       "      <td>0</td>\n",
       "      <td>0</td>\n",
       "      <td>0</td>\n",
       "      <td>0</td>\n",
       "      <td>0</td>\n",
       "      <td>1</td>\n",
       "      <td>0</td>\n",
       "      <td>3</td>\n",
       "      <td>1</td>\n",
       "      <td>1</td>\n",
       "    </tr>\n",
       "    <tr>\n",
       "      <th>3</th>\n",
       "      <td>2020-10-06</td>\n",
       "      <td>11</td>\n",
       "      <td>0.727273</td>\n",
       "      <td>0.909091</td>\n",
       "      <td>0</td>\n",
       "      <td>1</td>\n",
       "      <td>1</td>\n",
       "      <td>1</td>\n",
       "      <td>0</td>\n",
       "      <td>0</td>\n",
       "      <td>1</td>\n",
       "      <td>0</td>\n",
       "      <td>3</td>\n",
       "      <td>1</td>\n",
       "      <td>1</td>\n",
       "    </tr>\n",
       "    <tr>\n",
       "      <th>4</th>\n",
       "      <td>2020-10-05</td>\n",
       "      <td>9</td>\n",
       "      <td>0.222222</td>\n",
       "      <td>0.777778</td>\n",
       "      <td>1</td>\n",
       "      <td>0</td>\n",
       "      <td>0</td>\n",
       "      <td>0</td>\n",
       "      <td>0</td>\n",
       "      <td>0</td>\n",
       "      <td>1</td>\n",
       "      <td>0</td>\n",
       "      <td>2</td>\n",
       "      <td>1</td>\n",
       "      <td>1</td>\n",
       "    </tr>\n",
       "  </tbody>\n",
       "</table>\n",
       "</div>"
      ],
      "text/plain": [
       "         Date  interview length  Questions rating  Responses rating  practice  \\\n",
       "0  2020-10-11                 9          0.666667          0.777778         0   \n",
       "1  2020-10-09                 8          0.250000          0.250000         0   \n",
       "2  2020-10-08                10          0.600000          0.800000         1   \n",
       "3  2020-10-06                11          0.727273          0.909091         0   \n",
       "4  2020-10-05                 9          0.222222          0.777778         1   \n",
       "\n",
       "   game  win_prac_loss  win  loss  home  away  series result  cumulative wins  \\\n",
       "0     1              1    1     0     0     1              1                4   \n",
       "1     1             -1    0     1     0     1              0                3   \n",
       "2     0              0    0     0     0     1              0                3   \n",
       "3     1              1    1     0     0     1              0                3   \n",
       "4     0              0    0     0     0     1              0                2   \n",
       "\n",
       "   cumulative losses  Response classification  \n",
       "0                  2                        1  \n",
       "1                  2                        0  \n",
       "2                  1                        1  \n",
       "3                  1                        1  \n",
       "4                  1                        1  "
      ]
     },
     "execution_count": 5,
     "metadata": {},
     "output_type": "execute_result"
    }
   ],
   "source": [
    "df['Response classification'] = response_np\n",
    "df.head()"
   ]
  },
  {
   "cell_type": "code",
   "execution_count": 6,
   "id": "526f9cfc",
   "metadata": {},
   "outputs": [],
   "source": [
    "plt.rcParams['axes.facecolor'] = 'darkgray'"
   ]
  },
  {
   "cell_type": "code",
   "execution_count": 7,
   "id": "d6a59a84",
   "metadata": {},
   "outputs": [
    {
     "data": {
      "text/plain": [
       "<AxesSubplot: xlabel='Response classification', ylabel='Count'>"
      ]
     },
     "execution_count": 7,
     "metadata": {},
     "output_type": "execute_result"
    },
    {
     "data": {
      "image/png": "[encoded data removed]",
      "text/plain": [
       "<Figure size 640x480 with 1 Axes>"
      ]
     },
     "metadata": {},
     "output_type": "display_data"
    }
   ],
   "source": [
    "sns.histplot(df['Response classification'])"
   ]
  },
  {
   "cell_type": "markdown",
   "id": "d9fc8836",
   "metadata": {},
   "source": [
    "##### 60-40 split, can continue without removing data. \n",
    "##### Keep in mind if our model guesses positive every time it will reach around 60% accuracy. \n",
    "##### Also, note that Lebron's record in the finals is 22 wins and 33 losses. Meaning that loss is not indicative of a 'more neutral' tone."
   ]
  },
  {
   "cell_type": "markdown",
   "id": "bf4f9c3c",
   "metadata": {},
   "source": [
    "# Begin ML Testing"
   ]
  },
  {
   "cell_type": "code",
   "execution_count": 8,
   "id": "ed83995d",
   "metadata": {},
   "outputs": [],
   "source": [
    "y = df['Response classification']\n",
    "x = df[['win', 'loss', 'cumulative wins', 'cumulative losses']]"
   ]
  },
  {
   "cell_type": "code",
   "execution_count": 9,
   "id": "ffe76899",
   "metadata": {},
   "outputs": [],
   "source": [
    "scaler = StandardScaler()\n",
    "normalize = Normalizer()"
   ]
  },
  {
   "cell_type": "markdown",
   "id": "878cf28d",
   "metadata": {},
   "source": [
    "#### Train-test split"
   ]
  },
  {
   "cell_type": "code",
   "execution_count": 10,
   "id": "646bee02",
   "metadata": {},
   "outputs": [],
   "source": [
    "x_train, x_test, y_train, y_test = train_test_split(x, y, test_size=0.2, random_state=37)"
   ]
  },
  {
   "cell_type": "code",
   "execution_count": 11,
   "id": "cf481f96",
   "metadata": {},
   "outputs": [],
   "source": [
    "scaler.fit(x_train)\n",
    "x_train_s = scaler.transform(x_train)\n",
    "x_test_s = scaler.transform(x_test)"
   ]
  },
  {
   "cell_type": "code",
   "execution_count": 12,
   "id": "17b68ac7",
   "metadata": {},
   "outputs": [],
   "source": [
    "normalize.fit(x_train)\n",
    "x_train_n = normalize.transform(x_train)\n",
    "x_test_n = normalize.transform(x_test)"
   ]
  },
  {
   "cell_type": "code",
   "execution_count": 13,
   "id": "bb105c1c",
   "metadata": {},
   "outputs": [],
   "source": [
    "seed = 149\n",
    "np.random.seed(seed)"
   ]
  },
  {
   "cell_type": "code",
   "execution_count": 14,
   "id": "2834823a",
   "metadata": {
    "scrolled": false
   },
   "outputs": [
    {
     "name": "stdout",
     "output_type": "stream",
     "text": [
      "50\n",
      "82\n"
     ]
    },
    {
     "data": {
      "text/plain": [
       "[Text(0.5, 1.0, 'Train Data Distribution')]"
      ]
     },
     "execution_count": 14,
     "metadata": {},
     "output_type": "execute_result"
    },
    {
     "data": {
      "image/png": "[encoded data removed]",
      "text/plain": [
       "<Figure size 640x480 with 1 Axes>"
      ]
     },
     "metadata": {},
     "output_type": "display_data"
    }
   ],
   "source": [
    "print(y_train.sum())\n",
    "print(y_train.count())\n",
    "sns.histplot(y_train).set(title = 'Train Data Distribution')"
   ]
  },
  {
   "cell_type": "markdown",
   "id": "3b49f5ec",
   "metadata": {},
   "source": [
    "##### If our models guess positive everytime they would have an accuracy of 60.98% on the training data."
   ]
  },
  {
   "cell_type": "code",
   "execution_count": 15,
   "id": "e11e594f",
   "metadata": {
    "scrolled": false
   },
   "outputs": [
    {
     "name": "stdout",
     "output_type": "stream",
     "text": [
      "12\n",
      "21\n"
     ]
    },
    {
     "data": {
      "text/plain": [
       "[Text(0.5, 1.0, 'Test Data Distribution')]"
      ]
     },
     "execution_count": 15,
     "metadata": {},
     "output_type": "execute_result"
    },
    {
     "data": {
      "image/png": "[encoded data removed]",
      "text/plain": [
       "<Figure size 640x480 with 1 Axes>"
      ]
     },
     "metadata": {},
     "output_type": "display_data"
    }
   ],
   "source": [
    "print(y_test.sum())\n",
    "print(y_test.count())\n",
    "sns.histplot(y_test).set(title = 'Test Data Distribution')"
   ]
  },
  {
   "cell_type": "markdown",
   "id": "a6d51662",
   "metadata": {},
   "source": [
    "##### If our models chooses positive everytime they would have an accuracy of 57.14% on the testing data."
   ]
  },
  {
   "cell_type": "markdown",
   "id": "f68d6f50",
   "metadata": {},
   "source": [
    "### Notice that based on the training data our models are expecting to predict 'more positive' (proportionally) more often than in the testing set. We later look at another random state for our train-test-split which flips this scenario. What we notice is that when models are trained on data with less data points which are categorized as 'more positive' then they are more accurate on the testing data."
   ]
  },
  {
   "cell_type": "markdown",
   "id": "4be375ae",
   "metadata": {},
   "source": [
    "# ML Techniques\n",
    "##### We will use a stratifiedkfold to help reduce the impact of the 40-60 distribution of data on our models"
   ]
  },
  {
   "cell_type": "markdown",
   "id": "50108644",
   "metadata": {},
   "source": [
    "### Gaussian Naive Bayes"
   ]
  },
  {
   "cell_type": "code",
   "execution_count": 16,
   "id": "d947da03",
   "metadata": {
    "scrolled": true
   },
   "outputs": [
    {
     "name": "stdout",
     "output_type": "stream",
     "text": [
      "Gaussian Naive Bayes K-fold Scores:\n",
      "[0.77777778 0.55555556 0.375      0.875      0.875      0.5\n",
      " 0.875      0.75       1.         0.875     ]\n",
      "\n",
      "Gaussian Naive Bayes Average Score:\n",
      "0.7458333333333333\n",
      "\n"
     ]
    }
   ],
   "source": [
    "gnb = GaussianNB()\n",
    "kfold = StratifiedKFold(n_splits=10, shuffle=True, random_state=seed)\n",
    "cv_score = cross_val_score(gnb, x_train_s, y_train.values.ravel(), cv=kfold)\n",
    "gnb_score = cv_score.mean()\n",
    "print('Gaussian Naive Bayes K-fold Scores:')\n",
    "print(cv_score)\n",
    "print()\n",
    "print('Gaussian Naive Bayes Average Score:')\n",
    "print(gnb_score)\n",
    "print()"
   ]
  },
  {
   "cell_type": "markdown",
   "id": "6b314962",
   "metadata": {},
   "source": [
    "### Logistic Regression"
   ]
  },
  {
   "cell_type": "code",
   "execution_count": 17,
   "id": "50be38cb",
   "metadata": {
    "scrolled": true
   },
   "outputs": [
    {
     "name": "stdout",
     "output_type": "stream",
     "text": [
      "Logistic Regression K-fold Scores (training):\n",
      "[0.66666667 0.66666667 0.75       0.875      0.875      0.625\n",
      " 0.875      0.75       0.875      0.875     ]\n",
      "\n",
      "Logistic Regression Average Score:\n",
      "0.7833333333333333\n"
     ]
    }
   ],
   "source": [
    "lr = LogisticRegression(max_iter = 10000)\n",
    "cv_score = cross_val_score(lr, x_train_s, y_train.values.ravel(), cv=kfold)\n",
    "lr_score = cv_score.mean()\n",
    "print('Logistic Regression K-fold Scores (training):')\n",
    "print(cv_score)\n",
    "print()\n",
    "print('Logistic Regression Average Score:')\n",
    "print(lr_score)"
   ]
  },
  {
   "cell_type": "markdown",
   "id": "838e436d",
   "metadata": {},
   "source": [
    "### Decision Tree"
   ]
  },
  {
   "cell_type": "code",
   "execution_count": 18,
   "id": "14193299",
   "metadata": {
    "scrolled": true
   },
   "outputs": [
    {
     "name": "stdout",
     "output_type": "stream",
     "text": [
      "Decision Tree K-fold Scores:\n",
      "[0.66666667 0.66666667 0.875      0.875      0.875      0.75\n",
      " 0.75       0.875      0.875      0.625     ]\n",
      "\n",
      "Decision Tree Average Score:\n",
      "0.7833333333333333\n"
     ]
    }
   ],
   "source": [
    "dt = tree.DecisionTreeClassifier(random_state = 1)\n",
    "cv_score = cross_val_score(dt, x_train_n, y_train.values.ravel(), cv=kfold)\n",
    "dt_score = cv_score.mean()\n",
    "print('Decision Tree K-fold Scores:')\n",
    "print(cv_score)\n",
    "print()\n",
    "print('Decision Tree Average Score:')\n",
    "print(dt_score)"
   ]
  },
  {
   "cell_type": "markdown",
   "id": "c903f218",
   "metadata": {},
   "source": [
    "### KNN"
   ]
  },
  {
   "cell_type": "code",
   "execution_count": 19,
   "id": "8e4dbba7",
   "metadata": {
    "scrolled": true
   },
   "outputs": [
    {
     "name": "stdout",
     "output_type": "stream",
     "text": [
      "KNN K-fold Scores):\n",
      "[0.77777778 0.66666667 0.875      0.875      0.875      0.625\n",
      " 0.875      0.75       1.         0.75      ]\n",
      "\n",
      "KNN Average Score:\n",
      "0.8069444444444445\n"
     ]
    }
   ],
   "source": [
    "knn = KNeighborsClassifier()\n",
    "cv_score = cross_val_score(knn, x_train_n, y_train.values.ravel(), cv=kfold)\n",
    "knn_score = cv_score.mean()\n",
    "print('KNN K-fold Scores):')\n",
    "print(cv_score)\n",
    "print()\n",
    "print('KNN Average Score:')\n",
    "print(knn_score)"
   ]
  },
  {
   "cell_type": "markdown",
   "id": "8ef61561",
   "metadata": {},
   "source": [
    "### Random Forest"
   ]
  },
  {
   "cell_type": "code",
   "execution_count": 20,
   "id": "d21a669d",
   "metadata": {},
   "outputs": [
    {
     "name": "stdout",
     "output_type": "stream",
     "text": [
      "Random Forest K-fold Scores:\n",
      "[0.77777778 0.66666667 0.75       0.875      0.875      0.625\n",
      " 0.875      0.875      0.875      0.625     ]\n",
      "\n",
      "Random Forest Average Score:\n",
      "0.7819444444444444\n"
     ]
    }
   ],
   "source": [
    "rf = RandomForestClassifier(random_state = 1)\n",
    "cv_score = cross_val_score(rf, x_train, y_train.values.ravel(), cv=kfold)\n",
    "rf_score = cv_score.mean()\n",
    "print('Random Forest K-fold Scores:')\n",
    "print(cv_score)\n",
    "print()\n",
    "print('Random Forest Average Score:')\n",
    "print(rf_score)"
   ]
  },
  {
   "cell_type": "markdown",
   "id": "d647deaf",
   "metadata": {},
   "source": [
    "### Support Vector Classification"
   ]
  },
  {
   "cell_type": "code",
   "execution_count": 21,
   "id": "22687f9b",
   "metadata": {
    "scrolled": true
   },
   "outputs": [
    {
     "name": "stdout",
     "output_type": "stream",
     "text": [
      "Support Vector Classification K-fold Scores:\n",
      "[0.66666667 0.66666667 0.875      0.875      0.875      0.625\n",
      " 0.875      0.75       0.875      0.875     ]\n",
      "\n",
      "Support Vector Classification Average Score:\n",
      "0.7958333333333333\n"
     ]
    }
   ],
   "source": [
    "svc = SVC(probability = True)\n",
    "cv_score = cross_val_score(svc, x_train_s, y_train.values.ravel(), cv=kfold)\n",
    "svc_score = cv_score.mean()\n",
    "print('Support Vector Classification K-fold Scores:')\n",
    "print(cv_score)\n",
    "print()\n",
    "print('Support Vector Classification Average Score:')\n",
    "print(svc_score)"
   ]
  },
  {
   "cell_type": "markdown",
   "id": "027c52db",
   "metadata": {},
   "source": [
    "### XGBoost Classifier"
   ]
  },
  {
   "cell_type": "code",
   "execution_count": 22,
   "id": "73558a28",
   "metadata": {
    "scrolled": false
   },
   "outputs": [
    {
     "name": "stdout",
     "output_type": "stream",
     "text": [
      "XGBoost Classifier K-fold Scores:\n",
      "[0.77777778 0.66666667 0.75       0.875      0.875      0.75\n",
      " 0.875      0.875      1.         0.625     ]\n",
      "\n",
      "XGBoost Classifier Average Score:\n",
      "0.8069444444444445\n"
     ]
    }
   ],
   "source": [
    "xgb = XGBClassifier(objective='binary:logistic',random_state =1)\n",
    "cv_score = cross_val_score(xgb, x_train_n, y_train.values.ravel(), cv=kfold)\n",
    "xgb_score = cv_score.mean()\n",
    "print('XGBoost Classifier K-fold Scores:')\n",
    "print(cv_score)\n",
    "print()\n",
    "print('XGBoost Classifier Average Score:')\n",
    "print(xgb_score)"
   ]
  },
  {
   "cell_type": "markdown",
   "id": "3282a20d",
   "metadata": {},
   "source": [
    "### Neural Network"
   ]
  },
  {
   "cell_type": "code",
   "execution_count": 23,
   "id": "d1eecc47",
   "metadata": {},
   "outputs": [],
   "source": [
    "encoder = LabelEncoder()\n",
    "encoder.fit(y_train)\n",
    "encoded_Y = encoder.transform(y_train)\n",
    "y_Train = np_utils.to_categorical(encoded_Y)"
   ]
  },
  {
   "cell_type": "code",
   "execution_count": 24,
   "id": "9c7e63fd",
   "metadata": {},
   "outputs": [],
   "source": [
    "def create_model():\n",
    "    model = Sequential()\n",
    "    \n",
    "    model.add(Dense(16, input_dim=x_train_n.shape[1], activation='relu'))\n",
    "    model.add(Dense(8, activation='relu'))    \n",
    "    model.add(Dense(4, activation='relu'))\n",
    "    model.add(Dense(2, activation='sigmoid'))\n",
    "    model.compile(loss='binary_crossentropy', optimizer='adam', metrics = ['accuracy'])\n",
    "    return model"
   ]
  },
  {
   "cell_type": "code",
   "execution_count": 25,
   "id": "8ecf3f11",
   "metadata": {
    "scrolled": false
   },
   "outputs": [
    {
     "name": "stdout",
     "output_type": "stream",
     "text": [
      "Neural Network K-fold Scores:\n",
      "[0.88888889 0.66666667 0.5        0.875      1.         0.625\n",
      " 0.75       0.625      0.5        0.875     ]\n",
      "\n",
      "Neural Network Average Score:\n",
      "0.7305555555555555\n"
     ]
    }
   ],
   "source": [
    "model = KerasClassifier(model=create_model, epochs=20, batch_size=2, verbose=0)\n",
    "##### Had to change batch size to be a factor of total test data points to stop retracing.\n",
    "kfold = KFold(n_splits=10, random_state=seed, shuffle=True)\n",
    "cv_score = cross_val_score(model, x_train_n, y_Train, cv=kfold, scoring='accuracy')\n",
    "nn_score = cv_score.mean()\n",
    "print('Neural Network K-fold Scores:')\n",
    "print(cv_score)\n",
    "print()\n",
    "print('Neural Network Average Score:')\n",
    "print(nn_score)"
   ]
  },
  {
   "cell_type": "markdown",
   "id": "8c7b3bc9",
   "metadata": {},
   "source": [
    "### Summary of training results"
   ]
  },
  {
   "cell_type": "code",
   "execution_count": 26,
   "id": "7fe55b60",
   "metadata": {},
   "outputs": [
    {
     "data": {
      "text/html": [
       "<div>\n",
       "<style scoped>\n",
       "    .dataframe tbody tr th:only-of-type {\n",
       "        vertical-align: middle;\n",
       "    }\n",
       "\n",
       "    .dataframe tbody tr th {\n",
       "        vertical-align: top;\n",
       "    }\n",
       "\n",
       "    .dataframe thead th {\n",
       "        text-align: right;\n",
       "    }\n",
       "</style>\n",
       "<table border=\"1\" class=\"dataframe\">\n",
       "  <thead>\n",
       "    <tr style=\"text-align: right;\">\n",
       "      <th></th>\n",
       "      <th>Model</th>\n",
       "      <th>Accuracy Average</th>\n",
       "    </tr>\n",
       "  </thead>\n",
       "  <tbody>\n",
       "    <tr>\n",
       "      <th>0</th>\n",
       "      <td>Gaussian Naive Bayes</td>\n",
       "      <td>0.745833</td>\n",
       "    </tr>\n",
       "    <tr>\n",
       "      <th>1</th>\n",
       "      <td>Logistic Regression</td>\n",
       "      <td>0.783333</td>\n",
       "    </tr>\n",
       "    <tr>\n",
       "      <th>2</th>\n",
       "      <td>Random Forest</td>\n",
       "      <td>0.781944</td>\n",
       "    </tr>\n",
       "    <tr>\n",
       "      <th>3</th>\n",
       "      <td>Decision Tree</td>\n",
       "      <td>0.783333</td>\n",
       "    </tr>\n",
       "    <tr>\n",
       "      <th>4</th>\n",
       "      <td>K-Nearest Neighbor</td>\n",
       "      <td>0.806944</td>\n",
       "    </tr>\n",
       "    <tr>\n",
       "      <th>5</th>\n",
       "      <td>Support Vector Classifier</td>\n",
       "      <td>0.795833</td>\n",
       "    </tr>\n",
       "    <tr>\n",
       "      <th>6</th>\n",
       "      <td>XGBoost</td>\n",
       "      <td>0.806944</td>\n",
       "    </tr>\n",
       "    <tr>\n",
       "      <th>7</th>\n",
       "      <td>Neural Network</td>\n",
       "      <td>0.730556</td>\n",
       "    </tr>\n",
       "  </tbody>\n",
       "</table>\n",
       "</div>"
      ],
      "text/plain": [
       "                       Model  Accuracy Average\n",
       "0       Gaussian Naive Bayes          0.745833\n",
       "1        Logistic Regression          0.783333\n",
       "2              Random Forest          0.781944\n",
       "3              Decision Tree          0.783333\n",
       "4         K-Nearest Neighbor          0.806944\n",
       "5  Support Vector Classifier          0.795833\n",
       "6                    XGBoost          0.806944\n",
       "7             Neural Network          0.730556"
      ]
     },
     "execution_count": 26,
     "metadata": {},
     "output_type": "execute_result"
    }
   ],
   "source": [
    "scores = [['Gaussian Naive Bayes', gnb_score],\n",
    " ['Logistic Regression', lr_score],\n",
    " ['Random Forest', rf_score],\n",
    " ['Decision Tree', dt_score],\n",
    " ['K-Nearest Neighbor', knn_score],\n",
    " ['Support Vector Classifier', svc_score],\n",
    " ['XGBoost', xgb_score],\n",
    " ['Neural Network', nn_score]]\n",
    "\n",
    "df_scores = pd.DataFrame(scores,\n",
    "                         columns = ['Model', 'Accuracy Average']\n",
    "                        )\n",
    "df_scores"
   ]
  },
  {
   "cell_type": "markdown",
   "id": "acd6c84d",
   "metadata": {},
   "source": [
    "### As this is a smaller dataset we will test Logistic regression and SVC. Due to accuracy test we will also test KNN and XGBoost."
   ]
  },
  {
   "cell_type": "code",
   "execution_count": 27,
   "id": "ace29881",
   "metadata": {
    "scrolled": false
   },
   "outputs": [
    {
     "data": {
      "image/png": "[encoded data removed]",
      "text/plain": [
       "<Figure size 640x480 with 2 Axes>"
      ]
     },
     "metadata": {},
     "output_type": "display_data"
    },
    {
     "name": "stdout",
     "output_type": "stream",
     "text": [
      "Logistic Regression Model Accuracy (on testing set): \n",
      "0.7619047619047619\n"
     ]
    }
   ],
   "source": [
    "lr = LogisticRegression(max_iter = 10000)\n",
    "lr_model = lr.fit(x_train_s, y_train.values.ravel())\n",
    "y_pred = lr_model.predict(x_test_s)\n",
    "\n",
    "disp = sns.heatmap(confusion_matrix(y_test, y_pred), annot=True)\n",
    "disp.set_title('Logistic Regression Confusion Matrix')\n",
    "plt.show()\n",
    "\n",
    "print('Logistic Regression Model Accuracy (on testing set): ')\n",
    "print(accuracy_score(y_test, y_pred))"
   ]
  },
  {
   "cell_type": "code",
   "execution_count": 28,
   "id": "c0607df7",
   "metadata": {},
   "outputs": [
    {
     "data": {
      "image/png": "[encoded data removed]",
      "text/plain": [
       "<Figure size 640x480 with 2 Axes>"
      ]
     },
     "metadata": {},
     "output_type": "display_data"
    },
    {
     "name": "stdout",
     "output_type": "stream",
     "text": [
      "SVC Model Accuracy (on testing set): \n",
      "0.7619047619047619\n"
     ]
    }
   ],
   "source": [
    "svc = SVC(probability = True)\n",
    "svc_model = svc.fit(x_train_s, y_train.values.ravel())\n",
    "y_pred = svc_model.predict(x_test_s)\n",
    "\n",
    "disp = sns.heatmap(confusion_matrix(y_test, y_pred), annot=True)\n",
    "disp.set_title('SVC Confusion Matrix')\n",
    "plt.show()\n",
    "\n",
    "print('SVC Model Accuracy (on testing set): ')\n",
    "print(accuracy_score(y_test, y_pred))"
   ]
  },
  {
   "cell_type": "code",
   "execution_count": 29,
   "id": "a0f7386d",
   "metadata": {},
   "outputs": [
    {
     "data": {
      "image/png": "[encoded data removed]",
      "text/plain": [
       "<Figure size 640x480 with 2 Axes>"
      ]
     },
     "metadata": {},
     "output_type": "display_data"
    },
    {
     "name": "stdout",
     "output_type": "stream",
     "text": [
      "KNN Model Accuracy (on testing set): \n",
      "0.7142857142857143\n"
     ]
    }
   ],
   "source": [
    "knn = KNeighborsClassifier()\n",
    "knn_model = knn.fit(x_train_n, y_train.values.ravel())\n",
    "y_pred = knn_model.predict(x_test_n)\n",
    "\n",
    "disp = sns.heatmap(confusion_matrix(y_test, y_pred), annot=True)\n",
    "disp.set_title('KNN Confusion Matrix')\n",
    "plt.show()\n",
    "\n",
    "print('KNN Model Accuracy (on testing set): ')\n",
    "print(accuracy_score(y_test, y_pred))"
   ]
  },
  {
   "cell_type": "code",
   "execution_count": 30,
   "id": "c8d26a65",
   "metadata": {},
   "outputs": [
    {
     "data": {
      "image/png": "[encoded data removed]",
      "text/plain": [
       "<Figure size 640x480 with 2 Axes>"
      ]
     },
     "metadata": {},
     "output_type": "display_data"
    },
    {
     "name": "stdout",
     "output_type": "stream",
     "text": [
      "XGBoost Model Accuracy (on testing set): \n",
      "0.7142857142857143\n"
     ]
    }
   ],
   "source": [
    "xgb = XGBClassifier(objective='binary:logistic',random_state =1)\n",
    "xgb_model = xgb.fit(x_train_n, y_train.values.ravel())\n",
    "y_pred = xgb_model.predict(x_test_n)\n",
    "\n",
    "disp = sns.heatmap(confusion_matrix(y_test, y_pred), annot=True)\n",
    "disp.set_title('XGBoost Confusion Matrix')\n",
    "plt.show()\n",
    "\n",
    "print('XGBoost Model Accuracy (on testing set): ')\n",
    "print(accuracy_score(y_test, y_pred))"
   ]
  },
  {
   "cell_type": "markdown",
   "id": "62425f8e",
   "metadata": {},
   "source": [
    "# Random_State = 2"
   ]
  },
  {
   "cell_type": "markdown",
   "id": "cb598976",
   "metadata": {},
   "source": [
    "### Let's run through the ML methods again with a different random state for our train_test_split"
   ]
  },
  {
   "cell_type": "code",
   "execution_count": 31,
   "id": "90a79056",
   "metadata": {},
   "outputs": [],
   "source": [
    "x_train1, x_test1, y_train1, y_test1 = train_test_split(x, y, test_size=0.2, random_state=2)"
   ]
  },
  {
   "cell_type": "code",
   "execution_count": 32,
   "id": "744a7fdf",
   "metadata": {},
   "outputs": [],
   "source": [
    "scaler.fit(x_train1)\n",
    "x_train_s1 = scaler.transform(x_train1)\n",
    "x_test_s1 = scaler.transform(x_test1)"
   ]
  },
  {
   "cell_type": "code",
   "execution_count": 33,
   "id": "ce6da314",
   "metadata": {},
   "outputs": [],
   "source": [
    "normalize.fit(x_train1)\n",
    "x_train_n1 = normalize.transform(x_train1)\n",
    "x_test_n1 = normalize.transform(x_test1)"
   ]
  },
  {
   "cell_type": "code",
   "execution_count": 34,
   "id": "8d0370be",
   "metadata": {
    "scrolled": false
   },
   "outputs": [
    {
     "name": "stdout",
     "output_type": "stream",
     "text": [
      "48\n",
      "82\n"
     ]
    },
    {
     "data": {
      "text/plain": [
       "[Text(0.5, 1.0, 'Train Data Distribution')]"
      ]
     },
     "execution_count": 34,
     "metadata": {},
     "output_type": "execute_result"
    },
    {
     "data": {
      "image/png": "[encoded data removed]",
      "text/plain": [
       "<Figure size 640x480 with 1 Axes>"
      ]
     },
     "metadata": {},
     "output_type": "display_data"
    }
   ],
   "source": [
    "print(y_train1.sum())\n",
    "print(y_train1.count())\n",
    "sns.histplot(y_train1).set(title = 'Train Data Distribution')"
   ]
  },
  {
   "cell_type": "markdown",
   "id": "804097d9",
   "metadata": {},
   "source": [
    "##### If our models chooses positive everytime they would have an accuracy of 58.54% on the training data."
   ]
  },
  {
   "cell_type": "code",
   "execution_count": 35,
   "id": "038f25ff",
   "metadata": {},
   "outputs": [
    {
     "name": "stdout",
     "output_type": "stream",
     "text": [
      "14\n",
      "21\n"
     ]
    },
    {
     "data": {
      "text/plain": [
       "[Text(0.5, 1.0, 'Test Data Distribution')]"
      ]
     },
     "execution_count": 35,
     "metadata": {},
     "output_type": "execute_result"
    },
    {
     "data": {
      "image/png": "[encoded data removed]",
      "text/plain": [
       "<Figure size 640x480 with 1 Axes>"
      ]
     },
     "metadata": {},
     "output_type": "display_data"
    }
   ],
   "source": [
    "print(y_test1.sum())\n",
    "print(y_test1.count())\n",
    "sns.histplot(y_test1).set(title = 'Test Data Distribution')"
   ]
  },
  {
   "cell_type": "markdown",
   "id": "9e73901d",
   "metadata": {},
   "source": [
    "##### If our models chooses positive everytime they would have an accuracy of 66.67% on the testing data."
   ]
  },
  {
   "cell_type": "markdown",
   "id": "ac491d82",
   "metadata": {},
   "source": [
    "### Gaussian Naive Bayes"
   ]
  },
  {
   "cell_type": "code",
   "execution_count": 36,
   "id": "0ef7f192",
   "metadata": {},
   "outputs": [
    {
     "name": "stdout",
     "output_type": "stream",
     "text": [
      "Gaussian Naive Bayes K-fold Scores:\n",
      "[0.88888889 0.77777778 0.875      0.625      0.75       0.75\n",
      " 0.75       0.875      0.75       0.875     ]\n",
      "\n",
      "Gaussian Naive Bayes Average Score:\n",
      "0.7916666666666666\n",
      "\n"
     ]
    }
   ],
   "source": [
    "gnb = GaussianNB()\n",
    "kfold = StratifiedKFold(n_splits=10, shuffle=True, random_state=seed)\n",
    "cv_score1 = cross_val_score(gnb, x_train_s1, y_train1.values.ravel(), cv=kfold)\n",
    "gnb_score1 = cv_score1.mean()\n",
    "print('Gaussian Naive Bayes K-fold Scores:')\n",
    "print(cv_score1)\n",
    "print()\n",
    "print('Gaussian Naive Bayes Average Score:')\n",
    "print(gnb_score1)\n",
    "print()"
   ]
  },
  {
   "cell_type": "markdown",
   "id": "52d5d47a",
   "metadata": {},
   "source": [
    "### Logistic Regression"
   ]
  },
  {
   "cell_type": "code",
   "execution_count": 37,
   "id": "c675145c",
   "metadata": {},
   "outputs": [
    {
     "name": "stdout",
     "output_type": "stream",
     "text": [
      "Logistic Regression K-fold Scores (training):\n",
      "[0.66666667 0.77777778 0.875      0.625      0.75       0.75\n",
      " 0.75       0.75       1.         0.75      ]\n",
      "\n",
      "Logistic Regression Average Score:\n",
      "0.7694444444444445\n"
     ]
    }
   ],
   "source": [
    "lr = LogisticRegression(max_iter = 10000)\n",
    "cv_score1 = cross_val_score(lr, x_train_s1, y_train1.values.ravel(), cv=kfold)\n",
    "lr_score1 = cv_score1.mean()\n",
    "print('Logistic Regression K-fold Scores (training):')\n",
    "print(cv_score1)\n",
    "print()\n",
    "print('Logistic Regression Average Score:')\n",
    "print(lr_score1)\n"
   ]
  },
  {
   "cell_type": "markdown",
   "id": "66e0f8fd",
   "metadata": {},
   "source": [
    "### Decision Tree"
   ]
  },
  {
   "cell_type": "code",
   "execution_count": 38,
   "id": "5df87183",
   "metadata": {},
   "outputs": [
    {
     "name": "stdout",
     "output_type": "stream",
     "text": [
      "Decision Tree K-fold Scores:\n",
      "[0.66666667 0.66666667 0.75       0.625      0.75       0.875\n",
      " 0.625      0.75       0.625      0.625     ]\n",
      "\n",
      "Decision Tree Average Score:\n",
      "0.6958333333333333\n"
     ]
    }
   ],
   "source": [
    "dt = tree.DecisionTreeClassifier(random_state = 1)\n",
    "cv_score1 = cross_val_score(dt, x_train_n1, y_train1.values.ravel(), cv=kfold)\n",
    "dt_score1 = cv_score1.mean()\n",
    "print('Decision Tree K-fold Scores:')\n",
    "print(cv_score1)\n",
    "print()\n",
    "print('Decision Tree Average Score:')\n",
    "print(dt_score1)"
   ]
  },
  {
   "cell_type": "markdown",
   "id": "2beb407d",
   "metadata": {},
   "source": [
    "### KNN"
   ]
  },
  {
   "cell_type": "code",
   "execution_count": 39,
   "id": "90372366",
   "metadata": {},
   "outputs": [
    {
     "name": "stdout",
     "output_type": "stream",
     "text": [
      "KNN K-fold Scores):\n",
      "[0.88888889 0.77777778 0.75       0.75       0.875      0.75\n",
      " 0.5        0.625      0.75       0.75      ]\n",
      "\n",
      "KNN Average Score:\n",
      "0.7416666666666666\n"
     ]
    }
   ],
   "source": [
    "knn = KNeighborsClassifier()\n",
    "cv_score1 = cross_val_score(knn, x_train_n1, y_train1.values.ravel(), cv=kfold)\n",
    "knn_score1 = cv_score1.mean()\n",
    "print('KNN K-fold Scores):')\n",
    "print(cv_score1)\n",
    "print()\n",
    "print('KNN Average Score:')\n",
    "print(knn_score1)"
   ]
  },
  {
   "cell_type": "markdown",
   "id": "dfde1436",
   "metadata": {},
   "source": [
    "### Random Forest"
   ]
  },
  {
   "cell_type": "code",
   "execution_count": 40,
   "id": "485067a6",
   "metadata": {},
   "outputs": [
    {
     "name": "stdout",
     "output_type": "stream",
     "text": [
      "Random Forest K-fold Scores:\n",
      "[0.88888889 0.77777778 0.875      0.625      0.75       0.875\n",
      " 0.5        0.5        0.625      0.75      ]\n",
      "\n",
      "Random Forest Average Score:\n",
      "0.7166666666666666\n"
     ]
    }
   ],
   "source": [
    "rf = RandomForestClassifier(random_state = 1)\n",
    "cv_score1 = cross_val_score(rf, x_train1, y_train1.values.ravel(), cv=kfold)\n",
    "rf_score1 = cv_score1.mean()\n",
    "print('Random Forest K-fold Scores:')\n",
    "print(cv_score1)\n",
    "print()\n",
    "print('Random Forest Average Score:')\n",
    "print(rf_score1)"
   ]
  },
  {
   "cell_type": "markdown",
   "id": "8d834f77",
   "metadata": {},
   "source": [
    "### Support Vector Classification"
   ]
  },
  {
   "cell_type": "code",
   "execution_count": 41,
   "id": "195dd1d1",
   "metadata": {},
   "outputs": [
    {
     "name": "stdout",
     "output_type": "stream",
     "text": [
      "Support Vector Classification K-fold Scores:\n",
      "[0.66666667 0.77777778 0.875      0.625      0.75       0.75\n",
      " 0.75       0.75       0.75       0.875     ]\n",
      "\n",
      "Support Vector Classification Average Score:\n",
      "0.7569444444444444\n"
     ]
    }
   ],
   "source": [
    "svc = SVC(probability = True)\n",
    "cv_score1 = cross_val_score(svc, x_train_s1, y_train1.values.ravel(), cv=kfold)\n",
    "svc_score1 = cv_score1.mean()\n",
    "print('Support Vector Classification K-fold Scores:')\n",
    "print(cv_score1)\n",
    "print()\n",
    "print('Support Vector Classification Average Score:')\n",
    "print(svc_score1)"
   ]
  },
  {
   "cell_type": "markdown",
   "id": "cea21024",
   "metadata": {},
   "source": [
    "### XGBoost Classifier"
   ]
  },
  {
   "cell_type": "code",
   "execution_count": 42,
   "id": "024bb7d7",
   "metadata": {},
   "outputs": [
    {
     "name": "stdout",
     "output_type": "stream",
     "text": [
      "XGBoost Classifier K-fold Scores:\n",
      "[0.88888889 0.77777778 0.875      0.625      0.75       0.875\n",
      " 0.625      0.75       0.625      0.625     ]\n",
      "\n",
      "XGBoost Classifier Average Score:\n",
      "0.7416666666666666\n"
     ]
    }
   ],
   "source": [
    "xgb = XGBClassifier(objective='binary:logistic',random_state =1)\n",
    "cv_score1 = cross_val_score(xgb, x_train_n1, y_train1.values.ravel(), cv=kfold)\n",
    "xgb_score1 = cv_score1.mean()\n",
    "print('XGBoost Classifier K-fold Scores:')\n",
    "print(cv_score1)\n",
    "print()\n",
    "print('XGBoost Classifier Average Score:')\n",
    "print(xgb_score1)"
   ]
  },
  {
   "cell_type": "markdown",
   "id": "96068978",
   "metadata": {},
   "source": [
    "### Neural Network"
   ]
  },
  {
   "cell_type": "code",
   "execution_count": 43,
   "id": "93dca380",
   "metadata": {},
   "outputs": [],
   "source": [
    "encoder = LabelEncoder()\n",
    "encoder.fit(y_train1)\n",
    "encoded_Y1 = encoder.transform(y_train1)\n",
    "y_Train1 = np_utils.to_categorical(encoded_Y1)"
   ]
  },
  {
   "cell_type": "code",
   "execution_count": 44,
   "id": "ec29c19a",
   "metadata": {},
   "outputs": [
    {
     "name": "stdout",
     "output_type": "stream",
     "text": [
      "Neural Network K-fold Scores:\n",
      "[0.66666667 0.88888889 0.625      0.375      0.75       0.75\n",
      " 0.5        0.75       0.75       0.75      ]\n",
      "\n",
      "Neural Network Average Score:\n",
      "0.6805555555555556\n"
     ]
    }
   ],
   "source": [
    "model = KerasClassifier(model=create_model, epochs=20, batch_size=2, verbose=0)\n",
    "kfold = KFold(n_splits=10, random_state=seed, shuffle=True)\n",
    "cv_score1 = cross_val_score(model, x_train_n1, y_Train1, cv=kfold, scoring='accuracy')\n",
    "nn_score1 = cv_score1.mean()\n",
    "print('Neural Network K-fold Scores:')\n",
    "print(cv_score1)\n",
    "print()\n",
    "print('Neural Network Average Score:')\n",
    "print(nn_score1)"
   ]
  },
  {
   "cell_type": "markdown",
   "id": "497cf82a",
   "metadata": {},
   "source": [
    "### Summary on training (random state = 2)"
   ]
  },
  {
   "cell_type": "code",
   "execution_count": 45,
   "id": "ffe0af66",
   "metadata": {},
   "outputs": [
    {
     "data": {
      "text/html": [
       "<div>\n",
       "<style scoped>\n",
       "    .dataframe tbody tr th:only-of-type {\n",
       "        vertical-align: middle;\n",
       "    }\n",
       "\n",
       "    .dataframe tbody tr th {\n",
       "        vertical-align: top;\n",
       "    }\n",
       "\n",
       "    .dataframe thead th {\n",
       "        text-align: right;\n",
       "    }\n",
       "</style>\n",
       "<table border=\"1\" class=\"dataframe\">\n",
       "  <thead>\n",
       "    <tr style=\"text-align: right;\">\n",
       "      <th></th>\n",
       "      <th>Model</th>\n",
       "      <th>Accuracy Average</th>\n",
       "    </tr>\n",
       "  </thead>\n",
       "  <tbody>\n",
       "    <tr>\n",
       "      <th>0</th>\n",
       "      <td>Gaussian Naive Bayes</td>\n",
       "      <td>0.791667</td>\n",
       "    </tr>\n",
       "    <tr>\n",
       "      <th>1</th>\n",
       "      <td>Logistic Regression</td>\n",
       "      <td>0.769444</td>\n",
       "    </tr>\n",
       "    <tr>\n",
       "      <th>2</th>\n",
       "      <td>Random Forest</td>\n",
       "      <td>0.716667</td>\n",
       "    </tr>\n",
       "    <tr>\n",
       "      <th>3</th>\n",
       "      <td>Decision Tree</td>\n",
       "      <td>0.695833</td>\n",
       "    </tr>\n",
       "    <tr>\n",
       "      <th>4</th>\n",
       "      <td>K-Nearest Neighbor</td>\n",
       "      <td>0.741667</td>\n",
       "    </tr>\n",
       "    <tr>\n",
       "      <th>5</th>\n",
       "      <td>Support Vector Classifier</td>\n",
       "      <td>0.756944</td>\n",
       "    </tr>\n",
       "    <tr>\n",
       "      <th>6</th>\n",
       "      <td>XGBoost</td>\n",
       "      <td>0.741667</td>\n",
       "    </tr>\n",
       "    <tr>\n",
       "      <th>7</th>\n",
       "      <td>Neural Network</td>\n",
       "      <td>0.680556</td>\n",
       "    </tr>\n",
       "  </tbody>\n",
       "</table>\n",
       "</div>"
      ],
      "text/plain": [
       "                       Model  Accuracy Average\n",
       "0       Gaussian Naive Bayes          0.791667\n",
       "1        Logistic Regression          0.769444\n",
       "2              Random Forest          0.716667\n",
       "3              Decision Tree          0.695833\n",
       "4         K-Nearest Neighbor          0.741667\n",
       "5  Support Vector Classifier          0.756944\n",
       "6                    XGBoost          0.741667\n",
       "7             Neural Network          0.680556"
      ]
     },
     "execution_count": 45,
     "metadata": {},
     "output_type": "execute_result"
    }
   ],
   "source": [
    "scores1 = [['Gaussian Naive Bayes', gnb_score1],\n",
    " ['Logistic Regression', lr_score1],\n",
    " ['Random Forest', rf_score1],\n",
    " ['Decision Tree', dt_score1],\n",
    " ['K-Nearest Neighbor', knn_score1],\n",
    " ['Support Vector Classifier', svc_score1],\n",
    " ['XGBoost', xgb_score1],\n",
    " ['Neural Network', nn_score1]]\n",
    "\n",
    "df_scores1 = pd.DataFrame(scores1,\n",
    "                         columns = ['Model', 'Accuracy Average']\n",
    "                        )\n",
    "df_scores1"
   ]
  },
  {
   "cell_type": "markdown",
   "id": "4a59aae7",
   "metadata": {},
   "source": [
    "### Lets use all of our ML techniques (except NN) to make predictions on the test data and find their best results using different scaler options."
   ]
  },
  {
   "cell_type": "code",
   "execution_count": 46,
   "id": "d70751ce",
   "metadata": {},
   "outputs": [],
   "source": [
    "models = {}\n",
    "\n",
    "# Naive Bayes\n",
    "models['Naive Bayes'] = GaussianNB()\n",
    "\n",
    "# Logistic Regression\n",
    "models['Logistic Regression'] = LogisticRegression(max_iter = 10000)\n",
    "\n",
    "# Random Forest\n",
    "models['Random Forest'] = RandomForestClassifier(random_state = 1)\n",
    "\n",
    "# Decision Trees\n",
    "models['Decision Trees'] = tree.DecisionTreeClassifier(random_state = 1)\n",
    "\n",
    "# K-Nearest Neighbors\n",
    "models['K-Nearest Neighbor'] = KNeighborsClassifier()\n",
    "\n",
    "# Support Vector Machines\n",
    "models['Support Vector Machines'] = SVC(probability = True)\n",
    "\n",
    "# XGboost (gradient descent)\n",
    "models['XGBoost'] = XGBClassifier(objective='binary:logistic',random_state =1)"
   ]
  },
  {
   "cell_type": "code",
   "execution_count": 47,
   "id": "1d7a1dab",
   "metadata": {},
   "outputs": [],
   "source": [
    "from sklearn.metrics import accuracy_score, precision_score, recall_score\n",
    "\n",
    "accuracy, precision, recall = {}, {}, {}\n",
    "\n",
    "for key in models.keys():\n",
    "    \n",
    "    # Fit the classifier\n",
    "    models[key].fit(x_train1, y_train1)\n",
    "    \n",
    "    # Make predictions\n",
    "    predictions = models[key].predict(x_test1)\n",
    "    \n",
    "    # Calculate metrics\n",
    "    accuracy[key] = accuracy_score(predictions, y_test1)\n",
    "    precision[key] = precision_score(predictions, y_test1)\n",
    "    recall[key] = recall_score(predictions, y_test1)"
   ]
  },
  {
   "cell_type": "markdown",
   "id": "bdc48809",
   "metadata": {},
   "source": [
    "#### No scaler is applied to the data"
   ]
  },
  {
   "cell_type": "code",
   "execution_count": 48,
   "id": "6d0e63b4",
   "metadata": {},
   "outputs": [
    {
     "data": {
      "text/html": [
       "<div>\n",
       "<style scoped>\n",
       "    .dataframe tbody tr th:only-of-type {\n",
       "        vertical-align: middle;\n",
       "    }\n",
       "\n",
       "    .dataframe tbody tr th {\n",
       "        vertical-align: top;\n",
       "    }\n",
       "\n",
       "    .dataframe thead th {\n",
       "        text-align: right;\n",
       "    }\n",
       "</style>\n",
       "<table border=\"1\" class=\"dataframe\">\n",
       "  <thead>\n",
       "    <tr style=\"text-align: right;\">\n",
       "      <th></th>\n",
       "      <th>Accuracy</th>\n",
       "      <th>Precision</th>\n",
       "      <th>Recall</th>\n",
       "    </tr>\n",
       "  </thead>\n",
       "  <tbody>\n",
       "    <tr>\n",
       "      <th>Naive Bayes</th>\n",
       "      <td>0.714286</td>\n",
       "      <td>0.714286</td>\n",
       "      <td>0.833333</td>\n",
       "    </tr>\n",
       "    <tr>\n",
       "      <th>Logistic Regression</th>\n",
       "      <td>0.761905</td>\n",
       "      <td>0.785714</td>\n",
       "      <td>0.846154</td>\n",
       "    </tr>\n",
       "    <tr>\n",
       "      <th>Random Forest</th>\n",
       "      <td>0.666667</td>\n",
       "      <td>0.642857</td>\n",
       "      <td>0.818182</td>\n",
       "    </tr>\n",
       "    <tr>\n",
       "      <th>Decision Trees</th>\n",
       "      <td>0.666667</td>\n",
       "      <td>0.642857</td>\n",
       "      <td>0.818182</td>\n",
       "    </tr>\n",
       "    <tr>\n",
       "      <th>K-Nearest Neighbor</th>\n",
       "      <td>0.666667</td>\n",
       "      <td>0.642857</td>\n",
       "      <td>0.818182</td>\n",
       "    </tr>\n",
       "    <tr>\n",
       "      <th>Support Vector Machines</th>\n",
       "      <td>0.761905</td>\n",
       "      <td>0.785714</td>\n",
       "      <td>0.846154</td>\n",
       "    </tr>\n",
       "    <tr>\n",
       "      <th>XGBoost</th>\n",
       "      <td>0.714286</td>\n",
       "      <td>0.714286</td>\n",
       "      <td>0.833333</td>\n",
       "    </tr>\n",
       "  </tbody>\n",
       "</table>\n",
       "</div>"
      ],
      "text/plain": [
       "                         Accuracy  Precision    Recall\n",
       "Naive Bayes              0.714286   0.714286  0.833333\n",
       "Logistic Regression      0.761905   0.785714  0.846154\n",
       "Random Forest            0.666667   0.642857  0.818182\n",
       "Decision Trees           0.666667   0.642857  0.818182\n",
       "K-Nearest Neighbor       0.666667   0.642857  0.818182\n",
       "Support Vector Machines  0.761905   0.785714  0.846154\n",
       "XGBoost                  0.714286   0.714286  0.833333"
      ]
     },
     "execution_count": 48,
     "metadata": {},
     "output_type": "execute_result"
    }
   ],
   "source": [
    "df_model = pd.DataFrame(index=models.keys(), columns=['Accuracy', 'Precision', 'Recall'])\n",
    "df_model['Accuracy'] = accuracy.values()\n",
    "df_model['Precision'] = precision.values()\n",
    "df_model['Recall'] = recall.values()\n",
    "\n",
    "df_model"
   ]
  },
  {
   "cell_type": "markdown",
   "id": "3c8ab868",
   "metadata": {},
   "source": [
    "#### The StandardScaler() is applied to the data"
   ]
  },
  {
   "cell_type": "code",
   "execution_count": 49,
   "id": "03710580",
   "metadata": {},
   "outputs": [],
   "source": [
    "accuracy_s, precision_s, recall_s = {}, {}, {}\n",
    "\n",
    "for key in models.keys():\n",
    "    \n",
    "    # Fit the classifier\n",
    "    models[key].fit(x_train_s1, y_train1)\n",
    "    \n",
    "    # Make predictions\n",
    "    predictions_s = models[key].predict(x_test_s1)\n",
    "    \n",
    "    # Calculate metrics\n",
    "    accuracy_s[key] = accuracy_score(predictions_s, y_test1)\n",
    "    precision_s[key] = precision_score(predictions_s, y_test1)\n",
    "    recall_s[key] = recall_score(predictions_s, y_test1)"
   ]
  },
  {
   "cell_type": "code",
   "execution_count": 50,
   "id": "d7da4116",
   "metadata": {},
   "outputs": [
    {
     "data": {
      "text/html": [
       "<div>\n",
       "<style scoped>\n",
       "    .dataframe tbody tr th:only-of-type {\n",
       "        vertical-align: middle;\n",
       "    }\n",
       "\n",
       "    .dataframe tbody tr th {\n",
       "        vertical-align: top;\n",
       "    }\n",
       "\n",
       "    .dataframe thead th {\n",
       "        text-align: right;\n",
       "    }\n",
       "</style>\n",
       "<table border=\"1\" class=\"dataframe\">\n",
       "  <thead>\n",
       "    <tr style=\"text-align: right;\">\n",
       "      <th></th>\n",
       "      <th>Accuracy_s</th>\n",
       "      <th>Precision_s</th>\n",
       "      <th>Recall_s</th>\n",
       "    </tr>\n",
       "  </thead>\n",
       "  <tbody>\n",
       "    <tr>\n",
       "      <th>Naive Bayes</th>\n",
       "      <td>0.714286</td>\n",
       "      <td>0.714286</td>\n",
       "      <td>0.833333</td>\n",
       "    </tr>\n",
       "    <tr>\n",
       "      <th>Logistic Regression</th>\n",
       "      <td>0.809524</td>\n",
       "      <td>0.857143</td>\n",
       "      <td>0.857143</td>\n",
       "    </tr>\n",
       "    <tr>\n",
       "      <th>Random Forest</th>\n",
       "      <td>0.666667</td>\n",
       "      <td>0.642857</td>\n",
       "      <td>0.818182</td>\n",
       "    </tr>\n",
       "    <tr>\n",
       "      <th>Decision Trees</th>\n",
       "      <td>0.666667</td>\n",
       "      <td>0.642857</td>\n",
       "      <td>0.818182</td>\n",
       "    </tr>\n",
       "    <tr>\n",
       "      <th>K-Nearest Neighbor</th>\n",
       "      <td>0.619048</td>\n",
       "      <td>0.500000</td>\n",
       "      <td>0.875000</td>\n",
       "    </tr>\n",
       "    <tr>\n",
       "      <th>Support Vector Machines</th>\n",
       "      <td>0.714286</td>\n",
       "      <td>0.714286</td>\n",
       "      <td>0.833333</td>\n",
       "    </tr>\n",
       "    <tr>\n",
       "      <th>XGBoost</th>\n",
       "      <td>0.714286</td>\n",
       "      <td>0.714286</td>\n",
       "      <td>0.833333</td>\n",
       "    </tr>\n",
       "  </tbody>\n",
       "</table>\n",
       "</div>"
      ],
      "text/plain": [
       "                         Accuracy_s  Precision_s  Recall_s\n",
       "Naive Bayes                0.714286     0.714286  0.833333\n",
       "Logistic Regression        0.809524     0.857143  0.857143\n",
       "Random Forest              0.666667     0.642857  0.818182\n",
       "Decision Trees             0.666667     0.642857  0.818182\n",
       "K-Nearest Neighbor         0.619048     0.500000  0.875000\n",
       "Support Vector Machines    0.714286     0.714286  0.833333\n",
       "XGBoost                    0.714286     0.714286  0.833333"
      ]
     },
     "execution_count": 50,
     "metadata": {},
     "output_type": "execute_result"
    }
   ],
   "source": [
    "df_model_s = pd.DataFrame(index=models.keys(), columns=['Accuracy_s', 'Precision_s', 'Recall_s'])\n",
    "df_model_s['Accuracy_s'] = accuracy_s.values()\n",
    "df_model_s['Precision_s'] = precision_s.values()\n",
    "df_model_s['Recall_s'] = recall_s.values()\n",
    "\n",
    "df_model_s"
   ]
  },
  {
   "cell_type": "markdown",
   "id": "4bb939c4",
   "metadata": {},
   "source": [
    "#### The Normalizer() scaler is applied to the data"
   ]
  },
  {
   "cell_type": "code",
   "execution_count": 51,
   "id": "2c6715f8",
   "metadata": {},
   "outputs": [],
   "source": [
    "accuracy_n, precision_n, recall_n = {}, {}, {}\n",
    "\n",
    "for key in models.keys():\n",
    "    \n",
    "    # Fit the classifier\n",
    "    models[key].fit(x_train_n1, y_train1)\n",
    "    \n",
    "    # Make predictions\n",
    "    predictions_n = models[key].predict(x_test_n1)\n",
    "    \n",
    "    # Calculate metrics\n",
    "    accuracy_n[key] = accuracy_score(predictions_n, y_test1)\n",
    "    precision_n[key] = precision_score(predictions_n, y_test1)\n",
    "    recall_n[key] = recall_score(predictions_n, y_test1)"
   ]
  },
  {
   "cell_type": "code",
   "execution_count": 52,
   "id": "5e85ce05",
   "metadata": {},
   "outputs": [
    {
     "data": {
      "text/html": [
       "<div>\n",
       "<style scoped>\n",
       "    .dataframe tbody tr th:only-of-type {\n",
       "        vertical-align: middle;\n",
       "    }\n",
       "\n",
       "    .dataframe tbody tr th {\n",
       "        vertical-align: top;\n",
       "    }\n",
       "\n",
       "    .dataframe thead th {\n",
       "        text-align: right;\n",
       "    }\n",
       "</style>\n",
       "<table border=\"1\" class=\"dataframe\">\n",
       "  <thead>\n",
       "    <tr style=\"text-align: right;\">\n",
       "      <th></th>\n",
       "      <th>Accuracy_n</th>\n",
       "      <th>Precision_n</th>\n",
       "      <th>Recall_n</th>\n",
       "    </tr>\n",
       "  </thead>\n",
       "  <tbody>\n",
       "    <tr>\n",
       "      <th>Naive Bayes</th>\n",
       "      <td>0.666667</td>\n",
       "      <td>0.571429</td>\n",
       "      <td>0.888889</td>\n",
       "    </tr>\n",
       "    <tr>\n",
       "      <th>Logistic Regression</th>\n",
       "      <td>0.619048</td>\n",
       "      <td>0.571429</td>\n",
       "      <td>0.800000</td>\n",
       "    </tr>\n",
       "    <tr>\n",
       "      <th>Random Forest</th>\n",
       "      <td>0.761905</td>\n",
       "      <td>0.785714</td>\n",
       "      <td>0.846154</td>\n",
       "    </tr>\n",
       "    <tr>\n",
       "      <th>Decision Trees</th>\n",
       "      <td>0.761905</td>\n",
       "      <td>0.785714</td>\n",
       "      <td>0.846154</td>\n",
       "    </tr>\n",
       "    <tr>\n",
       "      <th>K-Nearest Neighbor</th>\n",
       "      <td>0.809524</td>\n",
       "      <td>0.857143</td>\n",
       "      <td>0.857143</td>\n",
       "    </tr>\n",
       "    <tr>\n",
       "      <th>Support Vector Machines</th>\n",
       "      <td>0.666667</td>\n",
       "      <td>0.571429</td>\n",
       "      <td>0.888889</td>\n",
       "    </tr>\n",
       "    <tr>\n",
       "      <th>XGBoost</th>\n",
       "      <td>0.761905</td>\n",
       "      <td>0.785714</td>\n",
       "      <td>0.846154</td>\n",
       "    </tr>\n",
       "  </tbody>\n",
       "</table>\n",
       "</div>"
      ],
      "text/plain": [
       "                         Accuracy_n  Precision_n  Recall_n\n",
       "Naive Bayes                0.666667     0.571429  0.888889\n",
       "Logistic Regression        0.619048     0.571429  0.800000\n",
       "Random Forest              0.761905     0.785714  0.846154\n",
       "Decision Trees             0.761905     0.785714  0.846154\n",
       "K-Nearest Neighbor         0.809524     0.857143  0.857143\n",
       "Support Vector Machines    0.666667     0.571429  0.888889\n",
       "XGBoost                    0.761905     0.785714  0.846154"
      ]
     },
     "execution_count": 52,
     "metadata": {},
     "output_type": "execute_result"
    }
   ],
   "source": [
    "df_model_n = pd.DataFrame(index=models.keys(), columns=['Accuracy_n', 'Precision_n', 'Recall_n'])\n",
    "df_model_n['Accuracy_n'] = accuracy_n.values()\n",
    "df_model_n['Precision_n'] = precision_n.values()\n",
    "df_model_n['Recall_n'] = recall_n.values()\n",
    "\n",
    "df_model_n"
   ]
  },
  {
   "cell_type": "markdown",
   "id": "7467ca06",
   "metadata": {},
   "source": [
    "#### Combine all results into one df"
   ]
  },
  {
   "cell_type": "code",
   "execution_count": 53,
   "id": "dccb7d0f",
   "metadata": {},
   "outputs": [
    {
     "data": {
      "text/html": [
       "<div>\n",
       "<style scoped>\n",
       "    .dataframe tbody tr th:only-of-type {\n",
       "        vertical-align: middle;\n",
       "    }\n",
       "\n",
       "    .dataframe tbody tr th {\n",
       "        vertical-align: top;\n",
       "    }\n",
       "\n",
       "    .dataframe thead th {\n",
       "        text-align: right;\n",
       "    }\n",
       "</style>\n",
       "<table border=\"1\" class=\"dataframe\">\n",
       "  <thead>\n",
       "    <tr style=\"text-align: right;\">\n",
       "      <th></th>\n",
       "      <th>Accuracy</th>\n",
       "      <th>Precision</th>\n",
       "      <th>Recall</th>\n",
       "      <th>Accuracy_s</th>\n",
       "      <th>Precision_s</th>\n",
       "      <th>Recall_s</th>\n",
       "      <th>Accuracy_n</th>\n",
       "      <th>Precision_n</th>\n",
       "      <th>Recall_n</th>\n",
       "    </tr>\n",
       "  </thead>\n",
       "  <tbody>\n",
       "    <tr>\n",
       "      <th>Naive Bayes</th>\n",
       "      <td>0.714286</td>\n",
       "      <td>0.714286</td>\n",
       "      <td>0.833333</td>\n",
       "      <td>0.714286</td>\n",
       "      <td>0.714286</td>\n",
       "      <td>0.833333</td>\n",
       "      <td>0.666667</td>\n",
       "      <td>0.571429</td>\n",
       "      <td>0.888889</td>\n",
       "    </tr>\n",
       "    <tr>\n",
       "      <th>Logistic Regression</th>\n",
       "      <td>0.761905</td>\n",
       "      <td>0.785714</td>\n",
       "      <td>0.846154</td>\n",
       "      <td>0.809524</td>\n",
       "      <td>0.857143</td>\n",
       "      <td>0.857143</td>\n",
       "      <td>0.619048</td>\n",
       "      <td>0.571429</td>\n",
       "      <td>0.800000</td>\n",
       "    </tr>\n",
       "    <tr>\n",
       "      <th>Random Forest</th>\n",
       "      <td>0.666667</td>\n",
       "      <td>0.642857</td>\n",
       "      <td>0.818182</td>\n",
       "      <td>0.666667</td>\n",
       "      <td>0.642857</td>\n",
       "      <td>0.818182</td>\n",
       "      <td>0.761905</td>\n",
       "      <td>0.785714</td>\n",
       "      <td>0.846154</td>\n",
       "    </tr>\n",
       "    <tr>\n",
       "      <th>Decision Trees</th>\n",
       "      <td>0.666667</td>\n",
       "      <td>0.642857</td>\n",
       "      <td>0.818182</td>\n",
       "      <td>0.666667</td>\n",
       "      <td>0.642857</td>\n",
       "      <td>0.818182</td>\n",
       "      <td>0.761905</td>\n",
       "      <td>0.785714</td>\n",
       "      <td>0.846154</td>\n",
       "    </tr>\n",
       "    <tr>\n",
       "      <th>K-Nearest Neighbor</th>\n",
       "      <td>0.666667</td>\n",
       "      <td>0.642857</td>\n",
       "      <td>0.818182</td>\n",
       "      <td>0.619048</td>\n",
       "      <td>0.500000</td>\n",
       "      <td>0.875000</td>\n",
       "      <td>0.809524</td>\n",
       "      <td>0.857143</td>\n",
       "      <td>0.857143</td>\n",
       "    </tr>\n",
       "    <tr>\n",
       "      <th>Support Vector Machines</th>\n",
       "      <td>0.761905</td>\n",
       "      <td>0.785714</td>\n",
       "      <td>0.846154</td>\n",
       "      <td>0.714286</td>\n",
       "      <td>0.714286</td>\n",
       "      <td>0.833333</td>\n",
       "      <td>0.666667</td>\n",
       "      <td>0.571429</td>\n",
       "      <td>0.888889</td>\n",
       "    </tr>\n",
       "    <tr>\n",
       "      <th>XGBoost</th>\n",
       "      <td>0.714286</td>\n",
       "      <td>0.714286</td>\n",
       "      <td>0.833333</td>\n",
       "      <td>0.714286</td>\n",
       "      <td>0.714286</td>\n",
       "      <td>0.833333</td>\n",
       "      <td>0.761905</td>\n",
       "      <td>0.785714</td>\n",
       "      <td>0.846154</td>\n",
       "    </tr>\n",
       "  </tbody>\n",
       "</table>\n",
       "</div>"
      ],
      "text/plain": [
       "                         Accuracy  Precision    Recall  Accuracy_s  \\\n",
       "Naive Bayes              0.714286   0.714286  0.833333    0.714286   \n",
       "Logistic Regression      0.761905   0.785714  0.846154    0.809524   \n",
       "Random Forest            0.666667   0.642857  0.818182    0.666667   \n",
       "Decision Trees           0.666667   0.642857  0.818182    0.666667   \n",
       "K-Nearest Neighbor       0.666667   0.642857  0.818182    0.619048   \n",
       "Support Vector Machines  0.761905   0.785714  0.846154    0.714286   \n",
       "XGBoost                  0.714286   0.714286  0.833333    0.714286   \n",
       "\n",
       "                         Precision_s  Recall_s  Accuracy_n  Precision_n  \\\n",
       "Naive Bayes                 0.714286  0.833333    0.666667     0.571429   \n",
       "Logistic Regression         0.857143  0.857143    0.619048     0.571429   \n",
       "Random Forest               0.642857  0.818182    0.761905     0.785714   \n",
       "Decision Trees              0.642857  0.818182    0.761905     0.785714   \n",
       "K-Nearest Neighbor          0.500000  0.875000    0.809524     0.857143   \n",
       "Support Vector Machines     0.714286  0.833333    0.666667     0.571429   \n",
       "XGBoost                     0.714286  0.833333    0.761905     0.785714   \n",
       "\n",
       "                         Recall_n  \n",
       "Naive Bayes              0.888889  \n",
       "Logistic Regression      0.800000  \n",
       "Random Forest            0.846154  \n",
       "Decision Trees           0.846154  \n",
       "K-Nearest Neighbor       0.857143  \n",
       "Support Vector Machines  0.888889  \n",
       "XGBoost                  0.846154  "
      ]
     },
     "execution_count": 53,
     "metadata": {},
     "output_type": "execute_result"
    }
   ],
   "source": [
    "df_model_all = pd.concat([df_model, df_model_s, df_model_n], axis=1)\n",
    "df_model_all"
   ]
  },
  {
   "cell_type": "code",
   "execution_count": 54,
   "id": "87ac1901",
   "metadata": {},
   "outputs": [
    {
     "data": {
      "text/html": [
       "<div>\n",
       "<style scoped>\n",
       "    .dataframe tbody tr th:only-of-type {\n",
       "        vertical-align: middle;\n",
       "    }\n",
       "\n",
       "    .dataframe tbody tr th {\n",
       "        vertical-align: top;\n",
       "    }\n",
       "\n",
       "    .dataframe thead th {\n",
       "        text-align: right;\n",
       "    }\n",
       "</style>\n",
       "<table border=\"1\" class=\"dataframe\">\n",
       "  <thead>\n",
       "    <tr style=\"text-align: right;\">\n",
       "      <th></th>\n",
       "      <th>Accuracy</th>\n",
       "      <th>Precision</th>\n",
       "      <th>Recall</th>\n",
       "      <th>Accuracy_s</th>\n",
       "      <th>Precision_s</th>\n",
       "      <th>Recall_s</th>\n",
       "      <th>Accuracy_n</th>\n",
       "      <th>Precision_n</th>\n",
       "      <th>Recall_n</th>\n",
       "      <th>max_acc</th>\n",
       "      <th>max_prec</th>\n",
       "      <th>max_recal</th>\n",
       "    </tr>\n",
       "  </thead>\n",
       "  <tbody>\n",
       "    <tr>\n",
       "      <th>Naive Bayes</th>\n",
       "      <td>0.714286</td>\n",
       "      <td>0.714286</td>\n",
       "      <td>0.833333</td>\n",
       "      <td>0.714286</td>\n",
       "      <td>0.714286</td>\n",
       "      <td>0.833333</td>\n",
       "      <td>0.666667</td>\n",
       "      <td>0.571429</td>\n",
       "      <td>0.888889</td>\n",
       "      <td>0.714286</td>\n",
       "      <td>0.714286</td>\n",
       "      <td>0.888889</td>\n",
       "    </tr>\n",
       "    <tr>\n",
       "      <th>Logistic Regression</th>\n",
       "      <td>0.761905</td>\n",
       "      <td>0.785714</td>\n",
       "      <td>0.846154</td>\n",
       "      <td>0.809524</td>\n",
       "      <td>0.857143</td>\n",
       "      <td>0.857143</td>\n",
       "      <td>0.619048</td>\n",
       "      <td>0.571429</td>\n",
       "      <td>0.800000</td>\n",
       "      <td>0.809524</td>\n",
       "      <td>0.857143</td>\n",
       "      <td>0.857143</td>\n",
       "    </tr>\n",
       "    <tr>\n",
       "      <th>Random Forest</th>\n",
       "      <td>0.666667</td>\n",
       "      <td>0.642857</td>\n",
       "      <td>0.818182</td>\n",
       "      <td>0.666667</td>\n",
       "      <td>0.642857</td>\n",
       "      <td>0.818182</td>\n",
       "      <td>0.761905</td>\n",
       "      <td>0.785714</td>\n",
       "      <td>0.846154</td>\n",
       "      <td>0.761905</td>\n",
       "      <td>0.785714</td>\n",
       "      <td>0.846154</td>\n",
       "    </tr>\n",
       "    <tr>\n",
       "      <th>Decision Trees</th>\n",
       "      <td>0.666667</td>\n",
       "      <td>0.642857</td>\n",
       "      <td>0.818182</td>\n",
       "      <td>0.666667</td>\n",
       "      <td>0.642857</td>\n",
       "      <td>0.818182</td>\n",
       "      <td>0.761905</td>\n",
       "      <td>0.785714</td>\n",
       "      <td>0.846154</td>\n",
       "      <td>0.761905</td>\n",
       "      <td>0.785714</td>\n",
       "      <td>0.846154</td>\n",
       "    </tr>\n",
       "    <tr>\n",
       "      <th>K-Nearest Neighbor</th>\n",
       "      <td>0.666667</td>\n",
       "      <td>0.642857</td>\n",
       "      <td>0.818182</td>\n",
       "      <td>0.619048</td>\n",
       "      <td>0.500000</td>\n",
       "      <td>0.875000</td>\n",
       "      <td>0.809524</td>\n",
       "      <td>0.857143</td>\n",
       "      <td>0.857143</td>\n",
       "      <td>0.809524</td>\n",
       "      <td>0.857143</td>\n",
       "      <td>0.875000</td>\n",
       "    </tr>\n",
       "    <tr>\n",
       "      <th>Support Vector Machines</th>\n",
       "      <td>0.761905</td>\n",
       "      <td>0.785714</td>\n",
       "      <td>0.846154</td>\n",
       "      <td>0.714286</td>\n",
       "      <td>0.714286</td>\n",
       "      <td>0.833333</td>\n",
       "      <td>0.666667</td>\n",
       "      <td>0.571429</td>\n",
       "      <td>0.888889</td>\n",
       "      <td>0.761905</td>\n",
       "      <td>0.785714</td>\n",
       "      <td>0.888889</td>\n",
       "    </tr>\n",
       "    <tr>\n",
       "      <th>XGBoost</th>\n",
       "      <td>0.714286</td>\n",
       "      <td>0.714286</td>\n",
       "      <td>0.833333</td>\n",
       "      <td>0.714286</td>\n",
       "      <td>0.714286</td>\n",
       "      <td>0.833333</td>\n",
       "      <td>0.761905</td>\n",
       "      <td>0.785714</td>\n",
       "      <td>0.846154</td>\n",
       "      <td>0.761905</td>\n",
       "      <td>0.785714</td>\n",
       "      <td>0.846154</td>\n",
       "    </tr>\n",
       "  </tbody>\n",
       "</table>\n",
       "</div>"
      ],
      "text/plain": [
       "                         Accuracy  Precision    Recall  Accuracy_s  \\\n",
       "Naive Bayes              0.714286   0.714286  0.833333    0.714286   \n",
       "Logistic Regression      0.761905   0.785714  0.846154    0.809524   \n",
       "Random Forest            0.666667   0.642857  0.818182    0.666667   \n",
       "Decision Trees           0.666667   0.642857  0.818182    0.666667   \n",
       "K-Nearest Neighbor       0.666667   0.642857  0.818182    0.619048   \n",
       "Support Vector Machines  0.761905   0.785714  0.846154    0.714286   \n",
       "XGBoost                  0.714286   0.714286  0.833333    0.714286   \n",
       "\n",
       "                         Precision_s  Recall_s  Accuracy_n  Precision_n  \\\n",
       "Naive Bayes                 0.714286  0.833333    0.666667     0.571429   \n",
       "Logistic Regression         0.857143  0.857143    0.619048     0.571429   \n",
       "Random Forest               0.642857  0.818182    0.761905     0.785714   \n",
       "Decision Trees              0.642857  0.818182    0.761905     0.785714   \n",
       "K-Nearest Neighbor          0.500000  0.875000    0.809524     0.857143   \n",
       "Support Vector Machines     0.714286  0.833333    0.666667     0.571429   \n",
       "XGBoost                     0.714286  0.833333    0.761905     0.785714   \n",
       "\n",
       "                         Recall_n   max_acc  max_prec  max_recal  \n",
       "Naive Bayes              0.888889  0.714286  0.714286   0.888889  \n",
       "Logistic Regression      0.800000  0.809524  0.857143   0.857143  \n",
       "Random Forest            0.846154  0.761905  0.785714   0.846154  \n",
       "Decision Trees           0.846154  0.761905  0.785714   0.846154  \n",
       "K-Nearest Neighbor       0.857143  0.809524  0.857143   0.875000  \n",
       "Support Vector Machines  0.888889  0.761905  0.785714   0.888889  \n",
       "XGBoost                  0.846154  0.761905  0.785714   0.846154  "
      ]
     },
     "execution_count": 54,
     "metadata": {},
     "output_type": "execute_result"
    }
   ],
   "source": [
    "df_model_all['max_acc'] = df_model_all[['Accuracy', 'Accuracy_s', 'Accuracy_n']].max(axis=1)\n",
    "df_model_all['max_prec'] = df_model_all[['Precision', 'Precision_s', 'Precision_n']].max(axis=1)\n",
    "df_model_all['max_recal'] = df_model_all[['Recall', 'Recall_s', 'Recall_n']].max(axis=1)\n",
    "df_model_all"
   ]
  },
  {
   "cell_type": "markdown",
   "id": "c59de615",
   "metadata": {},
   "source": [
    "### Identify metrics from best performing scaler"
   ]
  },
  {
   "cell_type": "code",
   "execution_count": 55,
   "id": "89953f97",
   "metadata": {},
   "outputs": [
    {
     "data": {
      "text/html": [
       "<div>\n",
       "<style scoped>\n",
       "    .dataframe tbody tr th:only-of-type {\n",
       "        vertical-align: middle;\n",
       "    }\n",
       "\n",
       "    .dataframe tbody tr th {\n",
       "        vertical-align: top;\n",
       "    }\n",
       "\n",
       "    .dataframe thead th {\n",
       "        text-align: right;\n",
       "    }\n",
       "</style>\n",
       "<table border=\"1\" class=\"dataframe\">\n",
       "  <thead>\n",
       "    <tr style=\"text-align: right;\">\n",
       "      <th></th>\n",
       "      <th>Accuracy</th>\n",
       "      <th>Precision</th>\n",
       "      <th>Recall</th>\n",
       "    </tr>\n",
       "  </thead>\n",
       "  <tbody>\n",
       "    <tr>\n",
       "      <th>Naive Bayes</th>\n",
       "      <td>0.714286</td>\n",
       "      <td>0.714286</td>\n",
       "      <td>0.833333</td>\n",
       "    </tr>\n",
       "    <tr>\n",
       "      <th>Logistic Regression</th>\n",
       "      <td>0.809524</td>\n",
       "      <td>0.857143</td>\n",
       "      <td>0.857143</td>\n",
       "    </tr>\n",
       "    <tr>\n",
       "      <th>Random Forest</th>\n",
       "      <td>0.761905</td>\n",
       "      <td>0.785714</td>\n",
       "      <td>0.846154</td>\n",
       "    </tr>\n",
       "    <tr>\n",
       "      <th>Decision Trees</th>\n",
       "      <td>0.761905</td>\n",
       "      <td>0.785714</td>\n",
       "      <td>0.846154</td>\n",
       "    </tr>\n",
       "    <tr>\n",
       "      <th>K-Nearest Neighbor</th>\n",
       "      <td>0.809524</td>\n",
       "      <td>0.857143</td>\n",
       "      <td>0.857143</td>\n",
       "    </tr>\n",
       "    <tr>\n",
       "      <th>Support Vector Machines</th>\n",
       "      <td>0.761905</td>\n",
       "      <td>0.785714</td>\n",
       "      <td>0.846154</td>\n",
       "    </tr>\n",
       "    <tr>\n",
       "      <th>XGBoost</th>\n",
       "      <td>0.761905</td>\n",
       "      <td>0.785714</td>\n",
       "      <td>0.846154</td>\n",
       "    </tr>\n",
       "  </tbody>\n",
       "</table>\n",
       "</div>"
      ],
      "text/plain": [
       "                         Accuracy  Precision    Recall\n",
       "Naive Bayes              0.714286   0.714286  0.833333\n",
       "Logistic Regression      0.809524   0.857143  0.857143\n",
       "Random Forest            0.761905   0.785714  0.846154\n",
       "Decision Trees           0.761905   0.785714  0.846154\n",
       "K-Nearest Neighbor       0.809524   0.857143  0.857143\n",
       "Support Vector Machines  0.761905   0.785714  0.846154\n",
       "XGBoost                  0.761905   0.785714  0.846154"
      ]
     },
     "execution_count": 55,
     "metadata": {},
     "output_type": "execute_result"
    }
   ],
   "source": [
    "df_bestmodels = pd.DataFrame(index=models.keys(), columns = ['Accuracy','Precision','Recall'])\n",
    "df_bestmodels['Accuracy'] = df_model_all['max_acc']\n",
    "df_bestmodels['Precision'] = df_model_all['max_prec']\n",
    "df_bestmodels['Recall'] = [0.833333, 0.857143, 0.846154, 0.846154, 0.857143, 0.846154, 0.846154] \n",
    "\n",
    "df_bestmodels"
   ]
  },
  {
   "cell_type": "code",
   "execution_count": 56,
   "id": "8a346adb",
   "metadata": {},
   "outputs": [],
   "source": [
    "plt.style.use('seaborn-v0_8-deep')"
   ]
  },
  {
   "cell_type": "code",
   "execution_count": 57,
   "id": "76787c2f",
   "metadata": {},
   "outputs": [
    {
     "data": {
      "text/plain": [
       "<matplotlib.legend.Legend at 0x25184d0eb00>"
      ]
     },
     "execution_count": 57,
     "metadata": {},
     "output_type": "execute_result"
    },
    {
     "data": {
      "image/png": "[encoded data removed]",
      "text/plain": [
       "<Figure size 640x480 with 1 Axes>"
      ]
     },
     "metadata": {},
     "output_type": "display_data"
    }
   ],
   "source": [
    "ax = df_bestmodels.plot.barh()\n",
    "ax.set(title = 'Results on Test Data')\n",
    "labels = ax.get_yticklabels()\n",
    "plt.setp(labels, rotation=45, horizontalalignment='right')\n",
    "ax.legend(  \n",
    "    loc='lower right', \n",
    "    prop={'size': 8}\n",
    ")"
   ]
  },
  {
   "cell_type": "markdown",
   "id": "adc4adaf",
   "metadata": {},
   "source": [
    "### Let's take a closer look at the results on some of our better performing models."
   ]
  },
  {
   "cell_type": "code",
   "execution_count": 58,
   "id": "a721db29",
   "metadata": {},
   "outputs": [
    {
     "data": {
      "image/png": "[encoded data removed]",
      "text/plain": [
       "<Figure size 640x480 with 2 Axes>"
      ]
     },
     "metadata": {},
     "output_type": "display_data"
    },
    {
     "name": "stdout",
     "output_type": "stream",
     "text": [
      "Logistic Regression Model Accuracy (on testing set): \n",
      "0.8095238095238095\n"
     ]
    }
   ],
   "source": [
    "lr = LogisticRegression(max_iter = 10000)\n",
    "lr_model = lr.fit(x_train_s1, y_train1.values.ravel())\n",
    "y_pred1 = lr_model.predict(x_test_s1)\n",
    "\n",
    "disp = sns.heatmap(confusion_matrix(y_test1, y_pred1), annot=True)\n",
    "disp.set_title('Logistic Regression Confusion Matrix')\n",
    "plt.show()\n",
    "\n",
    "print('Logistic Regression Model Accuracy (on testing set): ')\n",
    "print(accuracy_score(y_test1, y_pred1))"
   ]
  },
  {
   "cell_type": "code",
   "execution_count": 59,
   "id": "7b704e14",
   "metadata": {},
   "outputs": [
    {
     "data": {
      "image/png": "[encoded data removed]",
      "text/plain": [
       "<Figure size 640x480 with 2 Axes>"
      ]
     },
     "metadata": {},
     "output_type": "display_data"
    },
    {
     "name": "stdout",
     "output_type": "stream",
     "text": [
      "SVC Model Accuracy (on testing set): \n",
      "0.7619047619047619\n"
     ]
    }
   ],
   "source": [
    "svc = SVC(probability = True)\n",
    "svc_model = svc.fit(x_train1, y_train1.values.ravel())\n",
    "y_pred1 = svc_model.predict(x_test1)\n",
    "\n",
    "disp = sns.heatmap(confusion_matrix(y_test1, y_pred1), annot=True)\n",
    "disp.set_title('SVC Confusion Matrix')\n",
    "plt.show()\n",
    "\n",
    "print('SVC Model Accuracy (on testing set): ')\n",
    "print(accuracy_score(y_test1, y_pred1))"
   ]
  },
  {
   "cell_type": "code",
   "execution_count": 60,
   "id": "1675f2b6",
   "metadata": {},
   "outputs": [
    {
     "data": {
      "image/png": "[encoded data removed]",
      "text/plain": [
       "<Figure size 640x480 with 2 Axes>"
      ]
     },
     "metadata": {},
     "output_type": "display_data"
    },
    {
     "name": "stdout",
     "output_type": "stream",
     "text": [
      "KNN Model Accuracy (on testing set): \n",
      "0.8095238095238095\n"
     ]
    }
   ],
   "source": [
    "knn = KNeighborsClassifier()\n",
    "knn_model = knn.fit(x_train_n1, y_train1.values.ravel())\n",
    "y_pred1 = knn_model.predict(x_test_n1)\n",
    "\n",
    "disp = sns.heatmap(confusion_matrix(y_test1, y_pred1), annot=True)\n",
    "disp.set_title('KNN Confusion Matrix')\n",
    "plt.show()\n",
    "\n",
    "print('KNN Model Accuracy (on testing set): ')\n",
    "print(accuracy_score(y_test1, y_pred1))"
   ]
  },
  {
   "cell_type": "code",
   "execution_count": 61,
   "id": "35f5b440",
   "metadata": {},
   "outputs": [
    {
     "data": {
      "image/png": "[encoded data removed]",
      "text/plain": [
       "<Figure size 640x480 with 2 Axes>"
      ]
     },
     "metadata": {},
     "output_type": "display_data"
    },
    {
     "name": "stdout",
     "output_type": "stream",
     "text": [
      "XGBoost Model Accuracy (on testing set): \n",
      "0.7619047619047619\n"
     ]
    }
   ],
   "source": [
    "xgb = XGBClassifier(objective='binary:logistic',random_state =1)\n",
    "xgb_model = xgb.fit(x_train_n1, y_train1.values.ravel())\n",
    "y_pred1 = xgb_model.predict(x_test_n1)\n",
    "\n",
    "disp = sns.heatmap(confusion_matrix(y_test1, y_pred1), annot=True)\n",
    "disp.set_title('XGBoost Confusion Matrix')\n",
    "plt.show()\n",
    "\n",
    "print('XGBoost Model Accuracy (on testing set): ')\n",
    "print(accuracy_score(y_test1, y_pred1))"
   ]
  },
  {
   "cell_type": "markdown",
   "id": "6c6f5d63",
   "metadata": {},
   "source": [
    "# Conclusion"
   ]
  },
  {
   "cell_type": "markdown",
   "id": "d14a54af",
   "metadata": {},
   "source": [
    "##### We converted our quantitative variable, 'Response Rating', to a categorical varaible by splitting the data into two groups. Now our data is ready for binary classification. With our data set on the smaller size we identify logistic regression (LR) and SVC as viable methods. We test eight different binary classification methods to identify the best performing. SVC, LR, and KNN were regularly our top performing techniques. When evaluating results on different random states (for test-train-split) we identified a trend between test data which had larger amounts of 'more positive' data points and better the accuracy on the test data set.  Ultimatively, we saw accuracy ranging from 70% up to 90%+ on the train and test data. For our selected random state, we obtained 80.95% accuracy using our LR and KNN models and 76.19% accuracy using the SVC model on our test data. These values are in excess of 25% more accurate than choosing 'more positive' every time and given our limitations on features (due to practice interviews having no associated statistics unlike post-game interviews) we find these results to be fairly strong."
   ]
  }
 ],
 "metadata": {
  "kernelspec": {
   "display_name": "py3-TF2.0",
   "language": "python",
   "name": "py3-tf2.0"
  },
  "language_info": {
   "codemirror_mode": {
    "name": "ipython",
    "version": 3
   },
   "file_extension": ".py",
   "mimetype": "text/x-python",
   "name": "python",
   "nbconvert_exporter": "python",
   "pygments_lexer": "ipython3",
   "version": "3.10.9"
  }
 },
 "nbformat": 4,
 "nbformat_minor": 5
}
