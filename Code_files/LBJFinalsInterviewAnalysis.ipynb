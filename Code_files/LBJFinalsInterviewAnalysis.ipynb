{
 "cells": [
  {
   "cell_type": "markdown",
   "id": "22c82963",
   "metadata": {},
   "source": [
    "### Load relevant libraries"
   ]
  },
  {
   "cell_type": "code",
   "execution_count": 1,
   "id": "ddec131b",
   "metadata": {
    "scrolled": true
   },
   "outputs": [
    {
     "name": "stderr",
     "output_type": "stream",
     "text": [
      "C:\\Users\\Bryce\\anaconda3\\lib\\site-packages\\scipy\\__init__.py:146: UserWarning: A NumPy version >=1.16.5 and <1.23.0 is required for this version of SciPy (detected version 1.24.2\n",
      "  warnings.warn(f\"A NumPy version >={np_minversion} and <{np_maxversion}\"\n"
     ]
    }
   ],
   "source": [
    "from bs4 import BeautifulSoup\n",
    "from bs4.dammit import EncodingDetector\n",
    "import requests\n",
    "from os import path, getcwd\n",
    "import numpy as np\n",
    "import openai\n",
    "import pandas as pd\n",
    "import matplotlib.pyplot as plt\n",
    "import statsmodels.api as sm\n",
    "import seaborn as sns\n",
    "sns.set()\n",
    "\n",
    "from sklearn.linear_model import LinearRegression\n",
    "from sklearn.preprocessing import StandardScaler\n",
    "from sklearn.model_selection import train_test_split"
   ]
  },
  {
   "cell_type": "markdown",
   "id": "b051f903",
   "metadata": {},
   "source": [
    "### identify links on webpage"
   ]
  },
  {
   "cell_type": "code",
   "execution_count": 2,
   "id": "dfc2823c",
   "metadata": {},
   "outputs": [],
   "source": [
    "def get_soup(html):\n",
    "    resp = requests.get(html)\n",
    "    http_encoding = resp.encoding if 'charset' in resp.headers.get('content-type', '').lower() else None\n",
    "    html_encoding = EncodingDetector.find_declared_encoding(resp.content, is_html=True)\n",
    "    encoding = html_encoding or http_encoding\n",
    "    soup = BeautifulSoup(resp.content, from_encoding=encoding)\n",
    "    return soup"
   ]
  },
  {
   "cell_type": "markdown",
   "id": "783319de",
   "metadata": {},
   "source": [
    "### create list with links from webpage"
   ]
  },
  {
   "cell_type": "code",
   "execution_count": 3,
   "id": "47617a58",
   "metadata": {},
   "outputs": [],
   "source": [
    "def get_links(soup):\n",
    "    http_link_list = [] \n",
    "    for link in soup.find_all('a', href=True):\n",
    "        if link['href'][0] != '/': \n",
    "            http_link_list.append(link['href'].strip(\"'\"))\n",
    "    return http_link_list "
   ]
  },
  {
   "cell_type": "markdown",
   "id": "2ebdd7d0",
   "metadata": {},
   "source": [
    "### pull tags from webpage"
   ]
  },
  {
   "cell_type": "code",
   "execution_count": 4,
   "id": "37c7c854",
   "metadata": {},
   "outputs": [],
   "source": [
    "def get_ps(soup):\n",
    "    http_link_list = [] \n",
    "    for link in soup.find_all('b'):\n",
    "        http_link_list.append(link.get_text())\n",
    "    return http_link_list "
   ]
  },
  {
   "cell_type": "code",
   "execution_count": 5,
   "id": "af2a6775",
   "metadata": {},
   "outputs": [],
   "source": [
    "def get_ps_i(soup):\n",
    "    game_header_list = [] \n",
    "    for link in soup.find_all('i'):\n",
    "        game_header_list.append(link.get_text())\n",
    "    return game_header_list "
   ]
  },
  {
   "cell_type": "code",
   "execution_count": 6,
   "id": "b68a8564",
   "metadata": {},
   "outputs": [],
   "source": [
    "def get_ps_td(soup):\n",
    "    td_text = [] \n",
    "    for link in soup.find_all('td'):\n",
    "        td_text.append(link.get_text())\n",
    "    return td_text"
   ]
  },
  {
   "cell_type": "code",
   "execution_count": 7,
   "id": "59f3387b",
   "metadata": {},
   "outputs": [],
   "source": [
    "def get_ps_h3(soup):\n",
    "    h3_text = [] \n",
    "    for link in soup.find_all('h3'):\n",
    "        h3_text.append(link.get_text())\n",
    "    return h3_text"
   ]
  },
  {
   "cell_type": "markdown",
   "id": "7364893d",
   "metadata": {},
   "source": [
    "### get text from an array"
   ]
  },
  {
   "cell_type": "code",
   "execution_count": 8,
   "id": "53896312",
   "metadata": {},
   "outputs": [],
   "source": [
    "def get_text(text_array):\n",
    "    text = \" \".join(text_array)\n",
    "    return text"
   ]
  },
  {
   "cell_type": "markdown",
   "id": "d0a5d197",
   "metadata": {},
   "source": [
    "### get text from all interviews in list"
   ]
  },
  {
   "cell_type": "code",
   "execution_count": 9,
   "id": "47a00aac",
   "metadata": {},
   "outputs": [],
   "source": [
    "def get_interview_text_t(interview_list):\n",
    "    text_return_t = []\n",
    "    for i in interview_list:\n",
    "        soup = get_soup(i)\n",
    "        interview = get_ps_td(soup)[13]\n",
    "        c = interview.find('Q.')\n",
    "        d = interview.find('FastScripts')  \n",
    "        text_array_t = interview[c:d]\n",
    "        text_return_t.append(text_array_t)\n",
    "    return text_return_t"
   ]
  },
  {
   "cell_type": "markdown",
   "id": "ad717701",
   "metadata": {},
   "source": [
    "### clean transcript text"
   ]
  },
  {
   "cell_type": "code",
   "execution_count": 10,
   "id": "76f74c26",
   "metadata": {},
   "outputs": [],
   "source": [
    "def clean_text(interview_text):\n",
    "    clean_text_n = []\n",
    "    for ele in interview_text:\n",
    "        ele = ele.strip()\n",
    "        ele = ele.replace('\\r','')\n",
    "        ele = ele.replace('Ã‚Â\\xa0','')\n",
    "        clean_text_n.append(ele)\n",
    "    return clean_text_n"
   ]
  },
  {
   "cell_type": "markdown",
   "id": "d59da0f7",
   "metadata": {},
   "source": [
    "### split questions"
   ]
  },
  {
   "cell_type": "code",
   "execution_count": 11,
   "id": "90b3c7d7",
   "metadata": {},
   "outputs": [],
   "source": [
    "def sort_q(filtered_text):\n",
    "    questions = []\n",
    "    for ele in filtered_text:\n",
    "        if ele == filtered_text[0]:\n",
    "            questions.append(ele)\n",
    "        elif 'Q.' in ele:\n",
    "            questions.append(ele)\n",
    "        else:\n",
    "            None\n",
    "    return questions      "
   ]
  },
  {
   "cell_type": "markdown",
   "id": "098ce8b5",
   "metadata": {},
   "source": [
    "### identify question indices"
   ]
  },
  {
   "cell_type": "code",
   "execution_count": 12,
   "id": "f24e8e78",
   "metadata": {},
   "outputs": [],
   "source": [
    "def q_index(filtered_text):\n",
    "    q_index = []\n",
    "    for ele in filtered_text:\n",
    "        if ele == filtered_text[0]:\n",
    "            q_index.append(filtered_text.index(ele))\n",
    "        elif 'Q.' in ele:\n",
    "            q_index.append(filtered_text.index(ele))\n",
    "        else:\n",
    "            None\n",
    "    return q_index"
   ]
  },
  {
   "cell_type": "markdown",
   "id": "ce97fe5c",
   "metadata": {},
   "source": [
    "### split responses"
   ]
  },
  {
   "cell_type": "code",
   "execution_count": 13,
   "id": "a156c75f",
   "metadata": {},
   "outputs": [],
   "source": [
    "def group_responses(cleaned_text, q_index):\n",
    "    grouped_responses = []\n",
    "    i = 1\n",
    "    j = 0\n",
    "    while i < len(q_index):\n",
    "        if q_index[i] - q_index[j] == 2:\n",
    "            a_j = q_index[j]\n",
    "            response = ''.join(cleaned_text[a_j+1])\n",
    "            grouped_responses.append(response)\n",
    "            i+=1\n",
    "            j+=1\n",
    "        elif q_index[i] - q_index[j] > 2:\n",
    "            a_j = q_index[j]\n",
    "            a_i = q_index[i]\n",
    "            response = ''.join(cleaned_text[a_j+1:a_i])\n",
    "            grouped_responses.append(response)\n",
    "            i+=1\n",
    "            j+=1\n",
    "        else:\n",
    "            i+=1\n",
    "            j+=1\n",
    "    a_last = (q_index[-1] + 1)\n",
    "    rr_last = len(cleaned_text)\n",
    "    last_response = ''.join(cleaned_text[a_last: rr_last])\n",
    "    grouped_responses.append(last_response)\n",
    "        \n",
    "    return grouped_responses"
   ]
  },
  {
   "cell_type": "code",
   "execution_count": 14,
   "id": "0de1ec33",
   "metadata": {},
   "outputs": [],
   "source": [
    "def clean_responses(grouped_responses):\n",
    "    cleaned_responses = []\n",
    "    for i in grouped_responses:\n",
    "        i = i.replace('   ', ' ')\n",
    "        i = i.replace('  ', ' ')\n",
    "        cleaned_responses.append(i)\n",
    "    return cleaned_responses"
   ]
  },
  {
   "cell_type": "markdown",
   "id": "83f98efe",
   "metadata": {},
   "source": [
    "### clean and sort transcript"
   ]
  },
  {
   "cell_type": "code",
   "execution_count": 15,
   "id": "60f82104",
   "metadata": {},
   "outputs": [],
   "source": [
    "def get_qandr(transcripts):\n",
    "    questions = []\n",
    "    responses = []\n",
    "    for i in transcripts:\n",
    "        cleaned_text = clean_text(i)\n",
    "        question_text = sort_q(cleaned_text)\n",
    "        questions.append(question_text)\n",
    "        q_indexes = q_index(cleaned_text)\n",
    "        grouped_text = group_responses(cleaned_text, q_indexes)\n",
    "        response_text = clean_responses(grouped_text)\n",
    "        responses.append(response_text)\n",
    "        if len(question_text) == len(response_text):\n",
    "            None\n",
    "        else:\n",
    "            print(transcripts.index(i))\n",
    "    return questions, responses"
   ]
  },
  {
   "cell_type": "markdown",
   "id": "dcc726ee",
   "metadata": {},
   "source": [
    "### Integrate chatgpt ---- dont forget to declare model engine and api key!"
   ]
  },
  {
   "cell_type": "code",
   "execution_count": 16,
   "id": "f0a517b5",
   "metadata": {},
   "outputs": [],
   "source": [
    "def get_question_tone(questions):\n",
    "    question_tone = []\n",
    "    i = 0\n",
    "    while 5*i <= len(questions):\n",
    "        if 5*(i+1) <= len(questions):\n",
    "            lk = questions[5*i: 5*(i+1)]\n",
    "            prompt = f\"Let 1 = positive, 0 = neutral, and -1 = negative. Identify the tone of the 5 questions using the given values. Output the list of values in order of the questions.~~~~~~~ {lk}\"\n",
    "            completion = openai.Completion.create(\n",
    "            engine=model_engine,\n",
    "            prompt=prompt,\n",
    "            max_tokens=1024,\n",
    "            n=1,\n",
    "            stop=None,\n",
    "            temperature=0.5,\n",
    "            )\n",
    "            question = completion.choices[0].text\n",
    "            question_tone.append(question)\n",
    "            i+=1\n",
    "        elif 5*i == (len(questions)-1):\n",
    "            lk = questions[5*i]\n",
    "            prompt = f\"Let 1 = positive, 0 = neutral, and -1 = negative. Identify the overall tone of the question using the given values. Only output the numerical response.~~~~~~~ {lk}\"\n",
    "            completion = openai.Completion.create(\n",
    "            engine=model_engine,\n",
    "            prompt=prompt,\n",
    "            max_tokens=1024,\n",
    "            n=1,\n",
    "            stop=None,\n",
    "            temperature=0.5,\n",
    "            )\n",
    "            question = completion.choices[0].text\n",
    "            question_tone.append(question)\n",
    "            i+=1\n",
    "        elif 5*i == (len(questions)-2):\n",
    "            lk = questions[5*i: len(questions)]\n",
    "            prompt = f\"Let 1 = positive, 0 = neutral, and -1 = negative. Identify the tone of the 2 questions using the given values. Output the list of values in order of the questions.~~~~~~~ {lk}\"\n",
    "            completion = openai.Completion.create(\n",
    "            engine=model_engine,\n",
    "            prompt=prompt,\n",
    "            max_tokens=1024,\n",
    "            n=1,\n",
    "            stop=None,\n",
    "            temperature=0.5,\n",
    "            )\n",
    "            question = completion.choices[0].text\n",
    "            question_tone.append(question)\n",
    "            i+=1\n",
    "        elif 5*i == (len(questions)-3):\n",
    "            lk = questions[5*i: len(questions)]\n",
    "            prompt = f\"Let 1 = positive, 0 = neutral, and -1 = negative. Identify the tone of the 3 questions using the given values. Output the list of values in order of the questions.~~~~~~~ {lk}\"\n",
    "            completion = openai.Completion.create(\n",
    "            engine=model_engine,\n",
    "            prompt=prompt,\n",
    "            max_tokens=1024,\n",
    "            n=1,\n",
    "            stop=None,\n",
    "            temperature=0.5,\n",
    "            )\n",
    "            question = completion.choices[0].text\n",
    "            question_tone.append(question)\n",
    "            i+=1\n",
    "        elif 5*i == (len(questions)-4):\n",
    "            lk = questions[5*i: len(questions)]\n",
    "            prompt = f\"Let 1 = positive, 0 = neutral, and -1 = negative. Identify the tone of the 4 questions using the given values. Output the list of values in order of the questions.~~~~~~~ {lk}\"\n",
    "            completion = openai.Completion.create(\n",
    "            engine=model_engine,\n",
    "            prompt=prompt,\n",
    "            max_tokens=1024,\n",
    "            n=1,\n",
    "            stop=None,\n",
    "            temperature=0.5,\n",
    "            )\n",
    "            question = completion.choices[0].text\n",
    "            question_tone.append(question)\n",
    "            i+=1\n",
    "        else:\n",
    "            i+=1\n",
    "    return question_tone"
   ]
  },
  {
   "cell_type": "code",
   "execution_count": 17,
   "id": "8a0604eb",
   "metadata": {},
   "outputs": [],
   "source": [
    "def get_response_tone(responses):\n",
    "    response_tone = []\n",
    "    i = 0\n",
    "    while 5*i <= len(responses):\n",
    "        if 5*(i+1) <= len(responses):\n",
    "            lk = responses[5*i: 5*(i+1)]\n",
    "            prompt = f\"Let 1 = positive, 0 = neutral, and -1 = negative. Identify the tone of the 5 statements using the given values. Output the list of values in order of the statements.~~~~~~~ {lk}\"\n",
    "            completion = openai.Completion.create(\n",
    "            engine=model_engine,\n",
    "            prompt=prompt,\n",
    "            max_tokens=1024,\n",
    "            n=1,\n",
    "            stop=None,\n",
    "            temperature=0.5,\n",
    "            )\n",
    "            response = completion.choices[0].text\n",
    "            response_tone.append(response)\n",
    "            i+=1\n",
    "        elif 5*i == (len(responses)-1):\n",
    "            lk = responses[5*i]\n",
    "            prompt = f\"Let 1 = positive, 0 = neutral, and -1 = negative. Identify the tone of the statement using the given values. Restrict your output to the numerical value only.~~~~~~~ {lk}\"\n",
    "            completion = openai.Completion.create(\n",
    "            engine=model_engine,\n",
    "            prompt=prompt,\n",
    "            max_tokens=1024,\n",
    "            n=1,\n",
    "            stop=None,\n",
    "            temperature=0.5,\n",
    "            )\n",
    "            response = completion.choices[0].text\n",
    "            response_tone.append(response)\n",
    "            i+=1\n",
    "        elif 5*i == (len(responses)-2):\n",
    "            lk = responses[5*i]\n",
    "            prompt = f\"Let 1 = positive, 0 = neutral, and -1 = negative. Identify the tone of the 2 statements using the given values. Output the list of values in order of the statements.~~~~~~~ {lk}\"\n",
    "            completion = openai.Completion.create(\n",
    "            engine=model_engine,\n",
    "            prompt=prompt,\n",
    "            max_tokens=1024,\n",
    "            n=1,\n",
    "            stop=None,\n",
    "            temperature=0.5,\n",
    "            )\n",
    "            response = completion.choices[0].text\n",
    "            response_tone.append(response)\n",
    "            i+=1\n",
    "        elif 5*i == (len(responses)-3):\n",
    "            lk = responses[5*i]\n",
    "            prompt = f\"Let 1 = positive, 0 = neutral, and -1 = negative. Identify the tone of the 3 statements using the given values. Output the list of values in order of the statements.~~~~~~~ {lk}\"\n",
    "            completion = openai.Completion.create(\n",
    "            engine=model_engine,\n",
    "            prompt=prompt,\n",
    "            max_tokens=1024,\n",
    "            n=1,\n",
    "            stop=None,\n",
    "            temperature=0.5,\n",
    "            )\n",
    "            response = completion.choices[0].text\n",
    "            response_tone.append(response)\n",
    "            i+=1\n",
    "        elif 5*i == (len(responses)-4):\n",
    "            lk = responses[5*i: len(responses)]\n",
    "            number = int(len(responses) - 5*i)\n",
    "            prompt = f\"Let 1 = positive, 0 = neutral, and -1 = negative. Identify the tone of the 4 statements using the given values. Output the list of values in order of the statements.~~~~~~~ {lk}\"\n",
    "            completion = openai.Completion.create(\n",
    "            engine=model_engine,\n",
    "            prompt=prompt,\n",
    "            max_tokens=1024,\n",
    "            n=1,\n",
    "            stop=None,\n",
    "            temperature=0.5,\n",
    "            )\n",
    "            response = completion.choices[0].text\n",
    "            response_tone.append(response)\n",
    "            i+=1\n",
    "        else:\n",
    "            i+=1\n",
    "    return response_tone"
   ]
  },
  {
   "cell_type": "markdown",
   "id": "13d2efed",
   "metadata": {},
   "source": [
    "### clean response from chatgpt"
   ]
  },
  {
   "cell_type": "code",
   "execution_count": 18,
   "id": "4cedb8b6",
   "metadata": {},
   "outputs": [],
   "source": [
    "def clean_tone(x_tone):\n",
    "    x_t = []\n",
    "    for ele in x_tone:\n",
    "        ele = ele.replace('\\n', '')\n",
    "        ele = ele.replace('= ', '')\n",
    "        ele = ele.replace(\"'\", \"\")\n",
    "        ele = ele.replace(\"[\", \"\")\n",
    "        ele = ele.replace(\"]\", \"\")\n",
    "        ele = ele.replace(\" statement\", \"\")\n",
    "        ele = ele.replace(\"Answer:\", \"\")\n",
    "        ele = ele.replace(\"Im feeling tired\", \"\")\n",
    "        ele = ele.strip()\n",
    "        x_t.append(ele)\n",
    "    x_tones = ', '.join(x_t)\n",
    "    return x_tones"
   ]
  },
  {
   "cell_type": "markdown",
   "id": "9c95f730",
   "metadata": {},
   "source": [
    "### sum elements in a list"
   ]
  },
  {
   "cell_type": "code",
   "execution_count": 19,
   "id": "fafd59c9",
   "metadata": {},
   "outputs": [],
   "source": [
    "def sum_digits(digit):\n",
    "    return sum(int(x) for x in digit if x.isdigit())"
   ]
  },
  {
   "cell_type": "markdown",
   "id": "c00181f7",
   "metadata": {},
   "source": [
    "### end of function declarations"
   ]
  },
  {
   "cell_type": "markdown",
   "id": "073f2a49",
   "metadata": {},
   "source": [
    "### webpage"
   ]
  },
  {
   "cell_type": "code",
   "execution_count": 20,
   "id": "96d0ef06",
   "metadata": {},
   "outputs": [],
   "source": [
    "lj_transcripts = 'http://www.asapsports.com/show_player.php?id=13888'"
   ]
  },
  {
   "cell_type": "markdown",
   "id": "5018f107",
   "metadata": {},
   "source": [
    "### get word soup from webpage"
   ]
  },
  {
   "cell_type": "code",
   "execution_count": 21,
   "id": "eab038d7",
   "metadata": {},
   "outputs": [],
   "source": [
    "soupout = get_soup(lj_transcripts)"
   ]
  },
  {
   "cell_type": "markdown",
   "id": "38de2e0f",
   "metadata": {},
   "source": [
    "### get links from webpage"
   ]
  },
  {
   "cell_type": "code",
   "execution_count": 22,
   "id": "d80b1e85",
   "metadata": {},
   "outputs": [],
   "source": [
    "all_links = get_links(soupout)"
   ]
  },
  {
   "cell_type": "markdown",
   "id": "bf19f720",
   "metadata": {},
   "source": [
    "### trim links to only interviews"
   ]
  },
  {
   "cell_type": "code",
   "execution_count": 23,
   "id": "cd833c61",
   "metadata": {},
   "outputs": [],
   "source": [
    "interview_links = all_links[15:-14]"
   ]
  },
  {
   "cell_type": "markdown",
   "id": "96d2fe18",
   "metadata": {},
   "source": [
    "### display title of transcript associated with links"
   ]
  },
  {
   "cell_type": "code",
   "execution_count": 24,
   "id": "ace6f66d",
   "metadata": {
    "scrolled": true
   },
   "outputs": [
    {
     "data": {
      "text/plain": [
       "['NBA ALL-STAR GAME 2023',\n",
       " 'ALL-STAR GAME: TEAM GIANNIS VS. TEAM LEBRON',\n",
       " 'ALL-STAR GAME: TEAM GIANNIS VS. TEAM LEBRON',\n",
       " 'ALL-STAR GAME: TEAM DURANT VS. TEAM LEBRON',\n",
       " 'NBA ALL-STAR MEDIA DAY',\n",
       " 'NBA ALL STAR',\n",
       " 'NBA FINALS: LAKERS VS. HEAT',\n",
       " 'NBA FINALS: LAKERS VS. HEAT',\n",
       " 'NBA FINALS: LAKERS VS. HEAT',\n",
       " 'NBA FINALS: LAKERS VS. HEAT']"
      ]
     },
     "execution_count": 24,
     "metadata": {},
     "output_type": "execute_result"
    }
   ],
   "source": [
    "raw_titles = get_ps(soupout)\n",
    "dates = raw_titles[0::2]\n",
    "titles = raw_titles[1::2]\n",
    "titles[0:10]"
   ]
  },
  {
   "cell_type": "markdown",
   "id": "f3134f4d",
   "metadata": {},
   "source": [
    "### identify Finals link index"
   ]
  },
  {
   "cell_type": "code",
   "execution_count": 25,
   "id": "f78a8a04",
   "metadata": {},
   "outputs": [],
   "source": [
    "finals_check_list = []\n",
    "for i in titles:\n",
    "    finals_check = i.find(\"NBA FINALS:\")  \n",
    "    finals_check_list.append(finals_check)"
   ]
  },
  {
   "cell_type": "code",
   "execution_count": 26,
   "id": "83a3faed",
   "metadata": {},
   "outputs": [],
   "source": [
    "finals_index = []\n",
    "i = 0\n",
    "while i < len(finals_check_list):\n",
    "    if finals_check_list[i] != -1:\n",
    "        finals_index.append(i)\n",
    "        i+=1\n",
    "    else:\n",
    "        i+=1"
   ]
  },
  {
   "cell_type": "code",
   "execution_count": 27,
   "id": "cf3bedd6",
   "metadata": {
    "scrolled": true
   },
   "outputs": [
    {
     "data": {
      "text/plain": [
       "[6, 7, 8, 9, 10]"
      ]
     },
     "execution_count": 27,
     "metadata": {},
     "output_type": "execute_result"
    }
   ],
   "source": [
    "finals_index[0:5]"
   ]
  },
  {
   "cell_type": "code",
   "execution_count": 28,
   "id": "905c56bb",
   "metadata": {},
   "outputs": [],
   "source": [
    "interview_dates = []\n",
    "for ele in finals_index:\n",
    "    et = dates[ele]\n",
    "    eit = et.replace('[ ', '')\n",
    "    it = eit.replace(' ]', '')\n",
    "    interview_dates.append(it)"
   ]
  },
  {
   "cell_type": "code",
   "execution_count": 29,
   "id": "388e8ed0",
   "metadata": {},
   "outputs": [
    {
     "data": {
      "text/plain": [
       "['October 11, 2020',\n",
       " 'October 9, 2020',\n",
       " 'October 8, 2020',\n",
       " 'October 6, 2020',\n",
       " 'October 5, 2020',\n",
       " 'October 4, 2020',\n",
       " 'October 2, 2020',\n",
       " 'October 1, 2020',\n",
       " 'September 30, 2020',\n",
       " 'September 29, 2020']"
      ]
     },
     "execution_count": 29,
     "metadata": {},
     "output_type": "execute_result"
    }
   ],
   "source": [
    "interview_dates[0:10]"
   ]
  },
  {
   "cell_type": "markdown",
   "id": "324f0b67",
   "metadata": {},
   "source": [
    "### Finals links"
   ]
  },
  {
   "cell_type": "code",
   "execution_count": 30,
   "id": "93613194",
   "metadata": {},
   "outputs": [],
   "source": [
    "finals_links = []\n",
    "i = 0\n",
    "while i < len(finals_index):\n",
    "    a_i = int(finals_index[i])\n",
    "    finals_links.append(interview_links[a_i])\n",
    "    i += 1"
   ]
  },
  {
   "cell_type": "code",
   "execution_count": 31,
   "id": "8e6a1263",
   "metadata": {},
   "outputs": [
    {
     "data": {
      "text/plain": [
       "['http://www.asapsports.com/show_interview.php?id=160601',\n",
       " 'http://www.asapsports.com/show_interview.php?id=160301',\n",
       " 'http://www.asapsports.com/show_interview.php?id=160224',\n",
       " 'http://www.asapsports.com/show_interview.php?id=160174',\n",
       " 'http://www.asapsports.com/show_interview.php?id=160149',\n",
       " 'http://www.asapsports.com/show_interview.php?id=160135',\n",
       " 'http://www.asapsports.com/show_interview.php?id=160070',\n",
       " 'http://www.asapsports.com/show_interview.php?id=160005',\n",
       " 'http://www.asapsports.com/show_interview.php?id=159983',\n",
       " 'http://www.asapsports.com/show_interview.php?id=159954']"
      ]
     },
     "execution_count": 31,
     "metadata": {},
     "output_type": "execute_result"
    }
   ],
   "source": [
    "finals_links[0:10]"
   ]
  },
  {
   "cell_type": "markdown",
   "id": "13f20ddd",
   "metadata": {},
   "source": [
    "### Sort interviews based on type (post game or practice)"
   ]
  },
  {
   "cell_type": "code",
   "execution_count": 32,
   "id": "a12fc894",
   "metadata": {},
   "outputs": [
    {
     "name": "stdout",
     "output_type": "stream",
     "text": [
      "0\n",
      "1\n",
      "2\n",
      "3\n",
      "4\n",
      "5\n",
      "6\n",
      "7\n",
      "8\n",
      "9\n"
     ]
    }
   ],
   "source": [
    "practice_interview_index = []\n",
    "game_interview_index = []\n",
    "for ele in finals_links:\n",
    "    index_i = finals_links.index(ele)\n",
    "    soup_i = get_soup(ele)\n",
    "    ps_i = get_ps_i(soup_i)\n",
    "    header_i = ' '.join(ps_i)\n",
    "    if \"Game\" in header_i:\n",
    "        game_interview_index.append(index_i)\n",
    "    elif \"Postgame\" in header_i:\n",
    "        game_interview_index.append(index_i)\n",
    "    elif \"Gam\" in header_i:\n",
    "        game_interview_index.append(index_i)\n",
    "    elif \"Practice\" in header_i:\n",
    "        practice_interview_index.append(index_i)\n",
    "    else:\n",
    "        print(index_i)"
   ]
  },
  {
   "cell_type": "code",
   "execution_count": 33,
   "id": "0f2b6eb7",
   "metadata": {},
   "outputs": [],
   "source": [
    "for ele in finals_links:\n",
    "    index_h3 = finals_links.index(ele)\n",
    "    soup_h3 = get_soup(ele)\n",
    "    ps_h3 = get_ps_h3(soup_h3)\n",
    "    header_h3 = ' '.join(ps_h3)\n",
    "    if \"Practice\" in header_h3:\n",
    "        if index_h3 not in practice_interview_index:\n",
    "            practice_interview_index.append(index_h3)\n",
    "        else:\n",
    "            None\n",
    "    elif \"Game\" in header_h3:\n",
    "        if index_h3 not in game_interview_index:\n",
    "            game_interview_index.append(index_h3)\n",
    "        else: None\n",
    "    else:\n",
    "        None"
   ]
  },
  {
   "cell_type": "code",
   "execution_count": 34,
   "id": "6f9eca79",
   "metadata": {},
   "outputs": [],
   "source": [
    "game_interview_index.sort()\n",
    "practice_interview_index.sort()"
   ]
  },
  {
   "cell_type": "markdown",
   "id": "f6ecce29",
   "metadata": {},
   "source": [
    "### Check we have every interview"
   ]
  },
  {
   "cell_type": "code",
   "execution_count": 35,
   "id": "ea749f98",
   "metadata": {
    "scrolled": false
   },
   "outputs": [
    {
     "data": {
      "text/plain": [
       "True"
      ]
     },
     "execution_count": 35,
     "metadata": {},
     "output_type": "execute_result"
    }
   ],
   "source": [
    "len(game_interview_index) + len(practice_interview_index) == len(finals_links)"
   ]
  },
  {
   "cell_type": "markdown",
   "id": "b38dd66b",
   "metadata": {},
   "source": [
    "### get all text from finals links"
   ]
  },
  {
   "cell_type": "code",
   "execution_count": 36,
   "id": "b35d154d",
   "metadata": {},
   "outputs": [],
   "source": [
    "all_text = get_interview_text_t(finals_links)"
   ]
  },
  {
   "cell_type": "markdown",
   "id": "77b5088d",
   "metadata": {},
   "source": [
    "### add line breaks to form transcript"
   ]
  },
  {
   "cell_type": "code",
   "execution_count": 37,
   "id": "ca02ac85",
   "metadata": {},
   "outputs": [],
   "source": [
    "transcripts = []\n",
    "for ele in all_text:\n",
    "    transcript_ele = ele.split('\\n')\n",
    "    transcripts.append(transcript_ele)           "
   ]
  },
  {
   "cell_type": "code",
   "execution_count": 38,
   "id": "64eafcb8",
   "metadata": {
    "scrolled": true
   },
   "outputs": [
    {
     "data": {
      "text/plain": [
       "[\"Q. Three seasons ago after you beat Toronto, you told Cleveland.com that you didn't have anything left to prove when you were asked what you have left to prove. I wanted to know if that's changed over the past three years.  Did you feel you had something to prove, and why is this one so important for you?\",\n",
       " \"LeBRON JAMES:   I think personally thinking I have something to prove fuels me.  It fueled me over this last year and a half since the injury.  It fueled me because no matter what I've done in my career to this point, there's still little rumblings of doubt or comparing me to the history of the game and has he done this, has he done that.\",\n",
       " 'So having that in my head, having that in my mind, saying to myself, why not still have something to prove, I think it fuels me.',\n",
       " 'Q. All the circumstances surrounding this one, being in Orlando, having a four-and-a-half-month hiatus away from family, everything going on in the country, how does that add context to this fourth ring versus the other three?',\n",
       " 'LeBRON JAMES:   I think they are all special in their own right.  They all have their obstacles, things that went on throughout the course of the year, both on and off the floor.',\n",
       " \"But one is not less than the other, because when you're able to put yourself in this position to be able to win a championship, first thing you start to think about is how much work you've put in over the course of the year.  How much you've sacrificed, how much you've dedicated to the game and to your craft.  That's always been the most fulfilling thing for me, besides seeing my teammates as happy as they are.  Being able to know that you can put the work in, literally trust the process, live about the process and then see the results.  I think not only from a basketball player, but from everybody, whatever craft, whatever workspace you're in, to be able to put the work in and live along the process and build along the process and be able to see results, I think we all live for that moment.\",\n",
       " \"Q. Could you sense with the mental wear of the bubble that it was getting to other teams?  And in the last few days, was there kind of a weird feeling of you're reaching not just possibly winning a championship but reaching the end of this journey?  Did that feel different than the other title runs?\",\n",
       " \"LeBRON JAMES:   To answer your first question, with so much going on inside the bubble and everything and us going into the unknown, it was kind of hard for me personally -- once I got inside here, I said, okay, this is my mission: I want to win a championship; this is why I'm here.  It was hard for me to focus on other teams and what other players were feeling.  I didn't engage in that.  I didn't look for it.  I wanted to keep my energy in the right space.\",\n",
       " \"And over the last couple days, you definitely thought about it.  You thought about just being here, how successful it is.  I commend Adam Silver and the NBA, Michele Roberts, Chris Paul and everybody at the NBPA to make this happen and to make this work.  I think we can all say from the social injustice conversations, the voter suppression, police brutality, to have this platform, have our players be able to unite like that, it's something that you will miss.  You will think back on it.\",\n",
       " \"I think one of the biggest things, besides the social injustice, all the things I mentioned, we had zero positive tests.  We had zero positives tests for as long as we were here, 90-some days, 95 days maybe for myself.  I had a little calendar I was checking off.  But on a serious note, no positive tests.  That's a success for everybody that was involved.\",\n",
       " 'Q. What about this partnership that you have with Anthony makes it particularly special to you?',\n",
       " \"LeBRON JAMES:   I can't really explain it.  There's just certain things you just know.  And any type of relationship, you kind of just feel, you know that vibe.  You have that respect.  You have that drive.  Sometimes you can't explain what links you with somebody, and then it's that organic.\",\n",
       " \"Sometimes, you don't even try to explain it.  You guys ask me about my relationship with AD, the first thing I think about is the respect, the no ego, the challenging each other.  We want each other to be better than actually ourselves.  I want AD to be better than me.  AD want me to be better than him.  Every single night, every single day.  And we challenge ourselves.  I think that's a part of it.\",\n",
       " \"Q. With about three minutes left, you looked over and you saw Anthony sitting there, probably the realization of what you guys accomplished hitting him for the first time.  I'm wondering, how much of that reminded you of 2012 for you?  And what did that first title do for your career and what can this do for AD moving forward?\",\n",
       " 'LeBRON JAMES:   It definitely reminded me of it, just the excitement, the \"I can\\'t believe this.\"   I definitely saw myself, 27 LeBron, 27 AD.  I definitely saw myself in that.',\n",
       " \"And what it did for me in my career, it basically let me know that the work I put in on my craft, and the way I play the game, how I was taught to play the game when I picked up a basketball when I was eight years old, it's okay to play that way and be able to win.  No matter how many people tell you, you should maybe shoot more, you should maybe do this more, you should maybe be like him more, it let me know that the way I play basketball and the way I was taught to play basketball is the right way to play it, because you do see results.\",\n",
       " \"And then it just continues to boost your confidence.  Not saying that AD doesn't already have confidence, but it takes it to another level.\",\n",
       " \"Q. You talk about how you can't focus on other teams and their bubble experience, but for you outside looking in, it seemed like you were locked in from the beginning of the entire journey to now. I imagine you had your days off the court when it comes to the personal sacrifice, when it comes to keeping this group together.  Is that the case?  Were there ups and downs?  How different is just is this championship feeling?\",\n",
       " \"LeBRON JAMES:   To answer your first question, absolutely.  I think you wouldn't be human if you didn't have ups and downs in the bubble.  At times I was questioning myself, should I be here?  Is this worth sacrificing my family?  So many things.  I've never been without my family this long.  Missing the days of my daughter being in kindergarten, even though it's through Zoom.  Missing my son's 16th birthday, which we all know is a big birthday if you have kids. Seeing my middle child continue to grow and be who he is.  First of all, big-time shoutout to the late great Steve Jobs, because without him, without his vision, those FaceTime calls wouldn't be possible.\",\n",
       " \"Absolutely, I've had ups and downs throughout this journey.  For some odd reason, I was able to keep the main thing the main thing.  When I talked about all the stuff that I missed, they understood that, too, and that made it a lot easier for me.\",\n",
       " \"To answer your second question, it doesn't matter where it is if you win a championship.  A bubble, Miami, Golden State -- it doesn't matter.  When you get to this point, it's one of the greatest feelings in the world for a basketball player to be able to win at the highest level.\",\n",
       " 'Q. Does any one of your championships stand out in terms of the difficulty?',\n",
       " \"LeBRON JAMES:   Well, I can't sit here and say one is more challenging than the other or one is more difficult than the other.  I can just say that I've never won with this atmosphere.  None of us have.  We've never been a part of this.  If you've been here throughout the start -- I mean, we got here July 9th.  Our ballclub got here July 9th.  It's October what -- I don't even , October 11th now.\",\n",
       " \"So this was very challenging and difficult.  It played with your mind.  It played with your body.  You're away from some of the things that you're so accustomed to to make you be the professional that you are.  So this is right up there.\",\n",
       " \"I heard some rumblings from people that are not in the bubble, oh, you don't have to travel, whatever. People just doubting what goes on in here.  This is right up there with one of the greatest accomplishments I've had.\",\n",
       " 'Q. When you signed with the Lakers, over the course of the first year, Magic stepping down and everything that went into your start here, was there ever a moment where your mind wandered or you thought maybe the hill would be too high or hard to climb to get back to this point in L.A., or if not, how did you know or what gave you faith that you guys would get here?',\n",
       " \"LeBRON JAMES:   What gave me faith is that Rob Pelinka told me he would do whatever it takes to make sure that we would become a winning franchise once again.  Obviously, championships are not promised, and I don't expect that.  But he said he would do whatever it takes to make this franchise, whatever personnel changes he needs to make, any part of our organization, he would do it, because he wanted to win just as much.\",\n",
       " \"And for me, being able to get Jeanie back to this point, that's something that fueled me as well.  This is a historic franchise and to be a part of this is something that I'll be able to talk about and my grandkids and kids will be able to talk about; their pawpaw played for the Los Angeles Lakers.  It's like playing for the Yankees and winning or playing for the Cowboys and winning a Super Bowl, or the Patriots.  It's like playing for the Red Sox.\",\n",
       " \"So to be able to win with a historical franchise is something that, no matter if your mind wavers away, you can always remember what you're doing it for.\",\n",
       " 'Q. You and Jeanie shared a long hug right after as the trophy presentation was being prepared.  Did you say anything to her?',\n",
       " 'LeBRON JAMES:   I don\\'t want to lie to you.  I did, but if Jeanie at some point would ever want to reveal what I said to her, that\\'s up to her.  It was just a special moment and I know how special it was for her.  So it was just in the words of, \"I\\'m proud to be a Laker.\"',\n",
       " '']"
      ]
     },
     "execution_count": 38,
     "metadata": {},
     "output_type": "execute_result"
    }
   ],
   "source": [
    "transcripts[0]"
   ]
  },
  {
   "cell_type": "markdown",
   "id": "4eb82b8f",
   "metadata": {},
   "source": [
    "### sort transcript"
   ]
  },
  {
   "cell_type": "code",
   "execution_count": 39,
   "id": "3d7a4821",
   "metadata": {},
   "outputs": [
    {
     "name": "stdout",
     "output_type": "stream",
     "text": [
      "24\n"
     ]
    }
   ],
   "source": [
    "interview_tuple = get_qandr(transcripts)"
   ]
  },
  {
   "cell_type": "markdown",
   "id": "a0dc44a3",
   "metadata": {},
   "source": [
    "#### note: index 24 has returned one more response than questions. this will not have a large enough impact to remove from data set."
   ]
  },
  {
   "cell_type": "code",
   "execution_count": 40,
   "id": "7b45b474",
   "metadata": {},
   "outputs": [],
   "source": [
    "questions = interview_tuple[0]\n",
    "responses = interview_tuple[1]"
   ]
  },
  {
   "cell_type": "markdown",
   "id": "0403039a",
   "metadata": {},
   "source": [
    "### get tone of questions and responses from chatgpt"
   ]
  },
  {
   "cell_type": "markdown",
   "id": "51c6ebc3",
   "metadata": {},
   "source": [
    "openai.api_key = \"###YOUR_API_KEY####\""
   ]
  },
  {
   "cell_type": "markdown",
   "id": "2d8c576a",
   "metadata": {},
   "source": [
    "model_engine = 'text-davinci-003'"
   ]
  },
  {
   "cell_type": "markdown",
   "id": "58998148",
   "metadata": {},
   "source": [
    "q_rating = []\n",
    "q_tones = []"
   ]
  },
  {
   "cell_type": "markdown",
   "id": "c96818c5",
   "metadata": {
    "scrolled": false
   },
   "source": [
    "def q_rt(questions):\n",
    "    for ele in questions:    \n",
    "        q_tone = get_question_tone(ele)\n",
    "        clean_t = clean_tone(q_tone)\n",
    "        rj = questions.index(ele)\n",
    "        if sum(c.isdigit() for c in clean_t) == len(questions[rj]):\n",
    "            None\n",
    "        else:\n",
    "            print(rj)\n",
    "        clean_t_list = clean_t.split(',')\n",
    "        t_list= []\n",
    "        for i in clean_t_list:\n",
    "            ft = int(i)\n",
    "            t_list.append(ft)\n",
    "        qr = (sum(t_list)/len(t_list))\n",
    "        q_rating.append(qr)\n",
    "        q_tones.append(t_list)"
   ]
  },
  {
   "cell_type": "markdown",
   "id": "959e670d",
   "metadata": {},
   "source": [
    "r_rating = []\n",
    "r_tones = []"
   ]
  },
  {
   "cell_type": "markdown",
   "id": "478b2edf",
   "metadata": {
    "scrolled": true
   },
   "source": [
    "def r_rt(responses):\n",
    "    for ele in responses:    \n",
    "        r_tone = get_response_tone(ele)\n",
    "        clean_t = clean_tone(r_tone)\n",
    "        rj = responses.index(ele)\n",
    "        if sum(c.isdigit() for c in clean_t) == len(responses[rj]):\n",
    "            None\n",
    "        else:\n",
    "            print(rj)\n",
    "        clean_t_list = clean_t.split(',')\n",
    "        t_list= []\n",
    "        for i in clean_t_list:\n",
    "            ft = int(i)\n",
    "            t_list.append(ft)\n",
    "        rr = (sum(t_list)/len(t_list))\n",
    "        r_rating.append(rr)\n",
    "        r_tones.append(t_list)"
   ]
  },
  {
   "cell_type": "markdown",
   "id": "b20600ec",
   "metadata": {},
   "source": [
    "q_rt(questions)"
   ]
  },
  {
   "cell_type": "markdown",
   "id": "e25ff390",
   "metadata": {
    "scrolled": true
   },
   "source": [
    "q_rating"
   ]
  },
  {
   "cell_type": "markdown",
   "id": "c4ece6fe",
   "metadata": {},
   "source": [
    "q_tones"
   ]
  },
  {
   "cell_type": "markdown",
   "id": "637e9ed2",
   "metadata": {},
   "source": [
    "r_rt(responses)"
   ]
  },
  {
   "cell_type": "markdown",
   "id": "8043b5bb",
   "metadata": {},
   "source": [
    "r_rating"
   ]
  },
  {
   "cell_type": "markdown",
   "id": "e5a8d044",
   "metadata": {},
   "source": [
    "r_tones"
   ]
  },
  {
   "cell_type": "markdown",
   "id": "48af797e",
   "metadata": {},
   "source": [
    "### Had to skip/remove indices 7, 74,75 because of chatgpt output response"
   ]
  },
  {
   "cell_type": "markdown",
   "id": "3f225bdc",
   "metadata": {},
   "source": [
    "skipped 74 and 75 in the retrieval process. It is best to query chatgpt in batches as opposed to all 'questions' at once."
   ]
  },
  {
   "cell_type": "markdown",
   "id": "971459ca",
   "metadata": {},
   "source": [
    "q_tones.pop(7)"
   ]
  },
  {
   "cell_type": "markdown",
   "id": "5dc01338",
   "metadata": {
    "scrolled": true
   },
   "source": [
    "q_rating.pop(7)"
   ]
  },
  {
   "cell_type": "markdown",
   "id": "d71db590",
   "metadata": {},
   "source": [
    "### length check"
   ]
  },
  {
   "cell_type": "markdown",
   "id": "6c218c6f",
   "metadata": {},
   "source": [
    "len(q_rating) == len(q_tones)"
   ]
  },
  {
   "cell_type": "markdown",
   "id": "edd77008",
   "metadata": {
    "scrolled": true
   },
   "source": [
    "len(r_tones) == len(r_rating)"
   ]
  },
  {
   "cell_type": "markdown",
   "id": "59081a91",
   "metadata": {},
   "source": [
    "### DF creation"
   ]
  },
  {
   "cell_type": "markdown",
   "id": "8feff81b",
   "metadata": {},
   "source": [
    "df_tuple = q_rating, r_rating\n",
    "df = pd.DataFrame(df_tuple, index = [\"Questions rating\", \"Responses rating\"])\n",
    "df_rating = df.T\n",
    "df_rating.to_csv('Interview_Tone_Rating.csv')"
   ]
  },
  {
   "cell_type": "markdown",
   "id": "a6398b22",
   "metadata": {},
   "source": [
    "df_q = pd.DataFrame(q_tones)\n",
    "df_qtones = df_q.T\n",
    "df_qtones.to_csv('Question_tones.csv', index = False)"
   ]
  },
  {
   "cell_type": "markdown",
   "id": "e1fbd432",
   "metadata": {},
   "source": [
    "df_r = pd.DataFrame(r_tones)\n",
    "df_rtones = df_r.T\n",
    "df_rtones.to_csv('Response_tones.csv', index = False)"
   ]
  },
  {
   "cell_type": "markdown",
   "id": "630d68a9",
   "metadata": {},
   "source": [
    "### Dont forget to remove 7,74,75 from other lists (list.pop(index))"
   ]
  },
  {
   "cell_type": "code",
   "execution_count": 41,
   "id": "fd7f5693",
   "metadata": {},
   "outputs": [],
   "source": [
    "df_1 = pd.read_csv('Interview_Tone_Rating.csv')\n",
    "df_rating = df_1.copy()"
   ]
  },
  {
   "cell_type": "code",
   "execution_count": 42,
   "id": "2df8e392",
   "metadata": {},
   "outputs": [
    {
     "data": {
      "text/html": [
       "<div>\n",
       "<style scoped>\n",
       "    .dataframe tbody tr th:only-of-type {\n",
       "        vertical-align: middle;\n",
       "    }\n",
       "\n",
       "    .dataframe tbody tr th {\n",
       "        vertical-align: top;\n",
       "    }\n",
       "\n",
       "    .dataframe thead th {\n",
       "        text-align: right;\n",
       "    }\n",
       "</style>\n",
       "<table border=\"1\" class=\"dataframe\">\n",
       "  <thead>\n",
       "    <tr style=\"text-align: right;\">\n",
       "      <th></th>\n",
       "      <th>Unnamed: 0</th>\n",
       "      <th>Questions rating</th>\n",
       "      <th>Responses rating</th>\n",
       "    </tr>\n",
       "  </thead>\n",
       "  <tbody>\n",
       "    <tr>\n",
       "      <th>0</th>\n",
       "      <td>0</td>\n",
       "      <td>0.666667</td>\n",
       "      <td>0.777778</td>\n",
       "    </tr>\n",
       "    <tr>\n",
       "      <th>1</th>\n",
       "      <td>1</td>\n",
       "      <td>0.250000</td>\n",
       "      <td>0.250000</td>\n",
       "    </tr>\n",
       "    <tr>\n",
       "      <th>2</th>\n",
       "      <td>2</td>\n",
       "      <td>0.600000</td>\n",
       "      <td>0.800000</td>\n",
       "    </tr>\n",
       "    <tr>\n",
       "      <th>3</th>\n",
       "      <td>3</td>\n",
       "      <td>0.727273</td>\n",
       "      <td>0.909091</td>\n",
       "    </tr>\n",
       "    <tr>\n",
       "      <th>4</th>\n",
       "      <td>4</td>\n",
       "      <td>0.222222</td>\n",
       "      <td>0.777778</td>\n",
       "    </tr>\n",
       "  </tbody>\n",
       "</table>\n",
       "</div>"
      ],
      "text/plain": [
       "   Unnamed: 0  Questions rating  Responses rating\n",
       "0           0          0.666667          0.777778\n",
       "1           1          0.250000          0.250000\n",
       "2           2          0.600000          0.800000\n",
       "3           3          0.727273          0.909091\n",
       "4           4          0.222222          0.777778"
      ]
     },
     "execution_count": 42,
     "metadata": {},
     "output_type": "execute_result"
    }
   ],
   "source": [
    "df_rating.head()"
   ]
  },
  {
   "cell_type": "code",
   "execution_count": 43,
   "id": "4ba238ff",
   "metadata": {
    "scrolled": true
   },
   "outputs": [],
   "source": [
    "df_rating = df_rating.drop(columns = 'Unnamed: 0')"
   ]
  },
  {
   "cell_type": "markdown",
   "id": "8a201222",
   "metadata": {},
   "source": [
    "### pop in descending order to delete wrong item from the list re-indexing"
   ]
  },
  {
   "cell_type": "code",
   "execution_count": 44,
   "id": "751e1164",
   "metadata": {},
   "outputs": [
    {
     "data": {
      "text/plain": [
       "'October 1, 2020'"
      ]
     },
     "execution_count": 44,
     "metadata": {},
     "output_type": "execute_result"
    }
   ],
   "source": [
    "interview_dates.pop(75)\n",
    "interview_dates.pop(74)\n",
    "interview_dates.pop(7)"
   ]
  },
  {
   "cell_type": "code",
   "execution_count": 45,
   "id": "843afbbb",
   "metadata": {},
   "outputs": [],
   "source": [
    "df_rating.insert(0,'Date', interview_dates)"
   ]
  },
  {
   "cell_type": "code",
   "execution_count": 46,
   "id": "ac1d4de2",
   "metadata": {},
   "outputs": [],
   "source": [
    "### notice that oct 1 (old index 7) is gone."
   ]
  },
  {
   "cell_type": "code",
   "execution_count": 47,
   "id": "3582c96c",
   "metadata": {},
   "outputs": [
    {
     "data": {
      "text/html": [
       "<div>\n",
       "<style scoped>\n",
       "    .dataframe tbody tr th:only-of-type {\n",
       "        vertical-align: middle;\n",
       "    }\n",
       "\n",
       "    .dataframe tbody tr th {\n",
       "        vertical-align: top;\n",
       "    }\n",
       "\n",
       "    .dataframe thead th {\n",
       "        text-align: right;\n",
       "    }\n",
       "</style>\n",
       "<table border=\"1\" class=\"dataframe\">\n",
       "  <thead>\n",
       "    <tr style=\"text-align: right;\">\n",
       "      <th></th>\n",
       "      <th>Date</th>\n",
       "      <th>Questions rating</th>\n",
       "      <th>Responses rating</th>\n",
       "    </tr>\n",
       "  </thead>\n",
       "  <tbody>\n",
       "    <tr>\n",
       "      <th>0</th>\n",
       "      <td>October 11, 2020</td>\n",
       "      <td>0.666667</td>\n",
       "      <td>0.777778</td>\n",
       "    </tr>\n",
       "    <tr>\n",
       "      <th>1</th>\n",
       "      <td>October 9, 2020</td>\n",
       "      <td>0.250000</td>\n",
       "      <td>0.250000</td>\n",
       "    </tr>\n",
       "    <tr>\n",
       "      <th>2</th>\n",
       "      <td>October 8, 2020</td>\n",
       "      <td>0.600000</td>\n",
       "      <td>0.800000</td>\n",
       "    </tr>\n",
       "    <tr>\n",
       "      <th>3</th>\n",
       "      <td>October 6, 2020</td>\n",
       "      <td>0.727273</td>\n",
       "      <td>0.909091</td>\n",
       "    </tr>\n",
       "    <tr>\n",
       "      <th>4</th>\n",
       "      <td>October 5, 2020</td>\n",
       "      <td>0.222222</td>\n",
       "      <td>0.777778</td>\n",
       "    </tr>\n",
       "    <tr>\n",
       "      <th>5</th>\n",
       "      <td>October 4, 2020</td>\n",
       "      <td>-0.111111</td>\n",
       "      <td>0.444444</td>\n",
       "    </tr>\n",
       "    <tr>\n",
       "      <th>6</th>\n",
       "      <td>October 2, 2020</td>\n",
       "      <td>0.666667</td>\n",
       "      <td>0.666667</td>\n",
       "    </tr>\n",
       "    <tr>\n",
       "      <th>7</th>\n",
       "      <td>September 30, 2020</td>\n",
       "      <td>0.375000</td>\n",
       "      <td>0.500000</td>\n",
       "    </tr>\n",
       "    <tr>\n",
       "      <th>8</th>\n",
       "      <td>September 29, 2020</td>\n",
       "      <td>0.250000</td>\n",
       "      <td>0.833333</td>\n",
       "    </tr>\n",
       "    <tr>\n",
       "      <th>9</th>\n",
       "      <td>June 8, 2018</td>\n",
       "      <td>0.571429</td>\n",
       "      <td>0.285714</td>\n",
       "    </tr>\n",
       "  </tbody>\n",
       "</table>\n",
       "</div>"
      ],
      "text/plain": [
       "                 Date  Questions rating  Responses rating\n",
       "0    October 11, 2020          0.666667          0.777778\n",
       "1     October 9, 2020          0.250000          0.250000\n",
       "2     October 8, 2020          0.600000          0.800000\n",
       "3     October 6, 2020          0.727273          0.909091\n",
       "4     October 5, 2020          0.222222          0.777778\n",
       "5     October 4, 2020         -0.111111          0.444444\n",
       "6     October 2, 2020          0.666667          0.666667\n",
       "7  September 30, 2020          0.375000          0.500000\n",
       "8  September 29, 2020          0.250000          0.833333\n",
       "9        June 8, 2018          0.571429          0.285714"
      ]
     },
     "execution_count": 47,
     "metadata": {},
     "output_type": "execute_result"
    }
   ],
   "source": [
    "df_rating.head(10)"
   ]
  },
  {
   "cell_type": "code",
   "execution_count": 48,
   "id": "f58a7828",
   "metadata": {
    "scrolled": true
   },
   "outputs": [
    {
     "data": {
      "text/html": [
       "<div>\n",
       "<style scoped>\n",
       "    .dataframe tbody tr th:only-of-type {\n",
       "        vertical-align: middle;\n",
       "    }\n",
       "\n",
       "    .dataframe tbody tr th {\n",
       "        vertical-align: top;\n",
       "    }\n",
       "\n",
       "    .dataframe thead th {\n",
       "        text-align: right;\n",
       "    }\n",
       "</style>\n",
       "<table border=\"1\" class=\"dataframe\">\n",
       "  <thead>\n",
       "    <tr style=\"text-align: right;\">\n",
       "      <th></th>\n",
       "      <th>Questions rating</th>\n",
       "      <th>Responses rating</th>\n",
       "    </tr>\n",
       "  </thead>\n",
       "  <tbody>\n",
       "    <tr>\n",
       "      <th>count</th>\n",
       "      <td>103.000000</td>\n",
       "      <td>103.000000</td>\n",
       "    </tr>\n",
       "    <tr>\n",
       "      <th>mean</th>\n",
       "      <td>0.252095</td>\n",
       "      <td>0.584845</td>\n",
       "    </tr>\n",
       "    <tr>\n",
       "      <th>std</th>\n",
       "      <td>0.230707</td>\n",
       "      <td>0.210398</td>\n",
       "    </tr>\n",
       "    <tr>\n",
       "      <th>min</th>\n",
       "      <td>-0.250000</td>\n",
       "      <td>0.000000</td>\n",
       "    </tr>\n",
       "    <tr>\n",
       "      <th>25%</th>\n",
       "      <td>0.069048</td>\n",
       "      <td>0.449495</td>\n",
       "    </tr>\n",
       "    <tr>\n",
       "      <th>50%</th>\n",
       "      <td>0.222222</td>\n",
       "      <td>0.600000</td>\n",
       "    </tr>\n",
       "    <tr>\n",
       "      <th>75%</th>\n",
       "      <td>0.408333</td>\n",
       "      <td>0.777778</td>\n",
       "    </tr>\n",
       "    <tr>\n",
       "      <th>max</th>\n",
       "      <td>0.727273</td>\n",
       "      <td>1.000000</td>\n",
       "    </tr>\n",
       "  </tbody>\n",
       "</table>\n",
       "</div>"
      ],
      "text/plain": [
       "       Questions rating  Responses rating\n",
       "count        103.000000        103.000000\n",
       "mean           0.252095          0.584845\n",
       "std            0.230707          0.210398\n",
       "min           -0.250000          0.000000\n",
       "25%            0.069048          0.449495\n",
       "50%            0.222222          0.600000\n",
       "75%            0.408333          0.777778\n",
       "max            0.727273          1.000000"
      ]
     },
     "execution_count": 48,
     "metadata": {},
     "output_type": "execute_result"
    }
   ],
   "source": [
    "df_rating.describe()"
   ]
  },
  {
   "cell_type": "markdown",
   "id": "5ee2923f",
   "metadata": {},
   "source": [
    "### remove indices"
   ]
  },
  {
   "cell_type": "code",
   "execution_count": 49,
   "id": "0ea5ce41",
   "metadata": {},
   "outputs": [
    {
     "data": {
      "text/plain": [
       "'http://www.asapsports.com/show_interview.php?id=160005'"
      ]
     },
     "execution_count": 49,
     "metadata": {},
     "output_type": "execute_result"
    }
   ],
   "source": [
    "finals_links.pop(75)\n",
    "finals_links.pop(74)\n",
    "finals_links.pop(7)"
   ]
  },
  {
   "cell_type": "markdown",
   "id": "45cab7d9",
   "metadata": {},
   "source": [
    "### rerun game/practice_interview_index"
   ]
  },
  {
   "cell_type": "code",
   "execution_count": 50,
   "id": "a7f46931",
   "metadata": {},
   "outputs": [],
   "source": [
    "game_int = []\n",
    "prac_int = []\n",
    "for ele in finals_links:\n",
    "    if finals_links.index(ele) in game_interview_index:\n",
    "        game_int.append(1)\n",
    "        prac_int.append(0)\n",
    "    else:\n",
    "        prac_int.append(1)\n",
    "        game_int.append(0)"
   ]
  },
  {
   "cell_type": "code",
   "execution_count": 51,
   "id": "cca49f63",
   "metadata": {},
   "outputs": [],
   "source": [
    "df_rating[\"practice\"] = prac_int\n",
    "df_rating[\"game\"] = game_int"
   ]
  },
  {
   "cell_type": "code",
   "execution_count": 52,
   "id": "9d8775a5",
   "metadata": {
    "scrolled": true
   },
   "outputs": [
    {
     "data": {
      "text/html": [
       "<div>\n",
       "<style scoped>\n",
       "    .dataframe tbody tr th:only-of-type {\n",
       "        vertical-align: middle;\n",
       "    }\n",
       "\n",
       "    .dataframe tbody tr th {\n",
       "        vertical-align: top;\n",
       "    }\n",
       "\n",
       "    .dataframe thead th {\n",
       "        text-align: right;\n",
       "    }\n",
       "</style>\n",
       "<table border=\"1\" class=\"dataframe\">\n",
       "  <thead>\n",
       "    <tr style=\"text-align: right;\">\n",
       "      <th></th>\n",
       "      <th>Date</th>\n",
       "      <th>Questions rating</th>\n",
       "      <th>Responses rating</th>\n",
       "      <th>practice</th>\n",
       "      <th>game</th>\n",
       "    </tr>\n",
       "  </thead>\n",
       "  <tbody>\n",
       "    <tr>\n",
       "      <th>0</th>\n",
       "      <td>October 11, 2020</td>\n",
       "      <td>0.666667</td>\n",
       "      <td>0.777778</td>\n",
       "      <td>0</td>\n",
       "      <td>1</td>\n",
       "    </tr>\n",
       "    <tr>\n",
       "      <th>1</th>\n",
       "      <td>October 9, 2020</td>\n",
       "      <td>0.250000</td>\n",
       "      <td>0.250000</td>\n",
       "      <td>0</td>\n",
       "      <td>1</td>\n",
       "    </tr>\n",
       "    <tr>\n",
       "      <th>2</th>\n",
       "      <td>October 8, 2020</td>\n",
       "      <td>0.600000</td>\n",
       "      <td>0.800000</td>\n",
       "      <td>1</td>\n",
       "      <td>0</td>\n",
       "    </tr>\n",
       "    <tr>\n",
       "      <th>3</th>\n",
       "      <td>October 6, 2020</td>\n",
       "      <td>0.727273</td>\n",
       "      <td>0.909091</td>\n",
       "      <td>0</td>\n",
       "      <td>1</td>\n",
       "    </tr>\n",
       "    <tr>\n",
       "      <th>4</th>\n",
       "      <td>October 5, 2020</td>\n",
       "      <td>0.222222</td>\n",
       "      <td>0.777778</td>\n",
       "      <td>1</td>\n",
       "      <td>0</td>\n",
       "    </tr>\n",
       "  </tbody>\n",
       "</table>\n",
       "</div>"
      ],
      "text/plain": [
       "               Date  Questions rating  Responses rating  practice  game\n",
       "0  October 11, 2020          0.666667          0.777778         0     1\n",
       "1   October 9, 2020          0.250000          0.250000         0     1\n",
       "2   October 8, 2020          0.600000          0.800000         1     0\n",
       "3   October 6, 2020          0.727273          0.909091         0     1\n",
       "4   October 5, 2020          0.222222          0.777778         1     0"
      ]
     },
     "execution_count": 52,
     "metadata": {},
     "output_type": "execute_result"
    }
   ],
   "source": [
    "df_rating.head()"
   ]
  },
  {
   "cell_type": "code",
   "execution_count": 53,
   "id": "da014aae",
   "metadata": {},
   "outputs": [],
   "source": [
    "### save the changes\n",
    "df_rating.to_csv('Interview_tone.csv', index = False)"
   ]
  },
  {
   "cell_type": "markdown",
   "id": "b5a8b141",
   "metadata": {},
   "source": [
    "##### get interview length"
   ]
  },
  {
   "cell_type": "code",
   "execution_count": 54,
   "id": "61c6ac32",
   "metadata": {},
   "outputs": [],
   "source": [
    "int_length = []\n",
    "for ele in questions:\n",
    "    il = len(ele)\n",
    "    int_length.append(il)"
   ]
  },
  {
   "cell_type": "code",
   "execution_count": 55,
   "id": "6301b4fe",
   "metadata": {},
   "outputs": [
    {
     "data": {
      "text/plain": [
       "12"
      ]
     },
     "execution_count": 55,
     "metadata": {},
     "output_type": "execute_result"
    }
   ],
   "source": [
    "int_length.pop(75)\n",
    "int_length.pop(74)\n",
    "int_length.pop(7)"
   ]
  },
  {
   "cell_type": "code",
   "execution_count": 56,
   "id": "5b4e46fd",
   "metadata": {},
   "outputs": [
    {
     "data": {
      "text/html": [
       "<div>\n",
       "<style scoped>\n",
       "    .dataframe tbody tr th:only-of-type {\n",
       "        vertical-align: middle;\n",
       "    }\n",
       "\n",
       "    .dataframe tbody tr th {\n",
       "        vertical-align: top;\n",
       "    }\n",
       "\n",
       "    .dataframe thead th {\n",
       "        text-align: right;\n",
       "    }\n",
       "</style>\n",
       "<table border=\"1\" class=\"dataframe\">\n",
       "  <thead>\n",
       "    <tr style=\"text-align: right;\">\n",
       "      <th></th>\n",
       "      <th>Date</th>\n",
       "      <th>interview length</th>\n",
       "      <th>Questions rating</th>\n",
       "      <th>Responses rating</th>\n",
       "      <th>practice</th>\n",
       "      <th>game</th>\n",
       "    </tr>\n",
       "  </thead>\n",
       "  <tbody>\n",
       "    <tr>\n",
       "      <th>0</th>\n",
       "      <td>October 11, 2020</td>\n",
       "      <td>9</td>\n",
       "      <td>0.666667</td>\n",
       "      <td>0.777778</td>\n",
       "      <td>0</td>\n",
       "      <td>1</td>\n",
       "    </tr>\n",
       "    <tr>\n",
       "      <th>1</th>\n",
       "      <td>October 9, 2020</td>\n",
       "      <td>8</td>\n",
       "      <td>0.250000</td>\n",
       "      <td>0.250000</td>\n",
       "      <td>0</td>\n",
       "      <td>1</td>\n",
       "    </tr>\n",
       "    <tr>\n",
       "      <th>2</th>\n",
       "      <td>October 8, 2020</td>\n",
       "      <td>10</td>\n",
       "      <td>0.600000</td>\n",
       "      <td>0.800000</td>\n",
       "      <td>1</td>\n",
       "      <td>0</td>\n",
       "    </tr>\n",
       "    <tr>\n",
       "      <th>3</th>\n",
       "      <td>October 6, 2020</td>\n",
       "      <td>11</td>\n",
       "      <td>0.727273</td>\n",
       "      <td>0.909091</td>\n",
       "      <td>0</td>\n",
       "      <td>1</td>\n",
       "    </tr>\n",
       "    <tr>\n",
       "      <th>4</th>\n",
       "      <td>October 5, 2020</td>\n",
       "      <td>9</td>\n",
       "      <td>0.222222</td>\n",
       "      <td>0.777778</td>\n",
       "      <td>1</td>\n",
       "      <td>0</td>\n",
       "    </tr>\n",
       "  </tbody>\n",
       "</table>\n",
       "</div>"
      ],
      "text/plain": [
       "               Date  interview length  Questions rating  Responses rating  \\\n",
       "0  October 11, 2020                 9          0.666667          0.777778   \n",
       "1   October 9, 2020                 8          0.250000          0.250000   \n",
       "2   October 8, 2020                10          0.600000          0.800000   \n",
       "3   October 6, 2020                11          0.727273          0.909091   \n",
       "4   October 5, 2020                 9          0.222222          0.777778   \n",
       "\n",
       "   practice  game  \n",
       "0         0     1  \n",
       "1         0     1  \n",
       "2         1     0  \n",
       "3         0     1  \n",
       "4         1     0  "
      ]
     },
     "execution_count": 56,
     "metadata": {},
     "output_type": "execute_result"
    }
   ],
   "source": [
    "df_rating.insert(1,'interview length', int_length)\n",
    "df_rating.head()"
   ]
  },
  {
   "cell_type": "code",
   "execution_count": 57,
   "id": "ff60c5e8",
   "metadata": {},
   "outputs": [],
   "source": [
    "df_rating.to_csv('Interview_tone.csv', index = False)"
   ]
  },
  {
   "cell_type": "code",
   "execution_count": 58,
   "id": "d9b29732",
   "metadata": {},
   "outputs": [
    {
     "data": {
      "text/html": [
       "<div>\n",
       "<style scoped>\n",
       "    .dataframe tbody tr th:only-of-type {\n",
       "        vertical-align: middle;\n",
       "    }\n",
       "\n",
       "    .dataframe tbody tr th {\n",
       "        vertical-align: top;\n",
       "    }\n",
       "\n",
       "    .dataframe thead th {\n",
       "        text-align: right;\n",
       "    }\n",
       "</style>\n",
       "<table border=\"1\" class=\"dataframe\">\n",
       "  <thead>\n",
       "    <tr style=\"text-align: right;\">\n",
       "      <th></th>\n",
       "      <th>interview length</th>\n",
       "      <th>Questions rating</th>\n",
       "      <th>Responses rating</th>\n",
       "      <th>practice</th>\n",
       "      <th>game</th>\n",
       "    </tr>\n",
       "  </thead>\n",
       "  <tbody>\n",
       "    <tr>\n",
       "      <th>count</th>\n",
       "      <td>103.000000</td>\n",
       "      <td>103.000000</td>\n",
       "      <td>103.000000</td>\n",
       "      <td>103.000000</td>\n",
       "      <td>103.000000</td>\n",
       "    </tr>\n",
       "    <tr>\n",
       "      <th>mean</th>\n",
       "      <td>13.543689</td>\n",
       "      <td>0.252095</td>\n",
       "      <td>0.584845</td>\n",
       "      <td>0.485437</td>\n",
       "      <td>0.514563</td>\n",
       "    </tr>\n",
       "    <tr>\n",
       "      <th>std</th>\n",
       "      <td>3.541841</td>\n",
       "      <td>0.230707</td>\n",
       "      <td>0.210398</td>\n",
       "      <td>0.502232</td>\n",
       "      <td>0.502232</td>\n",
       "    </tr>\n",
       "    <tr>\n",
       "      <th>min</th>\n",
       "      <td>6.000000</td>\n",
       "      <td>-0.250000</td>\n",
       "      <td>0.000000</td>\n",
       "      <td>0.000000</td>\n",
       "      <td>0.000000</td>\n",
       "    </tr>\n",
       "    <tr>\n",
       "      <th>25%</th>\n",
       "      <td>11.000000</td>\n",
       "      <td>0.069048</td>\n",
       "      <td>0.449495</td>\n",
       "      <td>0.000000</td>\n",
       "      <td>0.000000</td>\n",
       "    </tr>\n",
       "    <tr>\n",
       "      <th>50%</th>\n",
       "      <td>13.000000</td>\n",
       "      <td>0.222222</td>\n",
       "      <td>0.600000</td>\n",
       "      <td>0.000000</td>\n",
       "      <td>1.000000</td>\n",
       "    </tr>\n",
       "    <tr>\n",
       "      <th>75%</th>\n",
       "      <td>16.000000</td>\n",
       "      <td>0.408333</td>\n",
       "      <td>0.777778</td>\n",
       "      <td>1.000000</td>\n",
       "      <td>1.000000</td>\n",
       "    </tr>\n",
       "    <tr>\n",
       "      <th>max</th>\n",
       "      <td>23.000000</td>\n",
       "      <td>0.727273</td>\n",
       "      <td>1.000000</td>\n",
       "      <td>1.000000</td>\n",
       "      <td>1.000000</td>\n",
       "    </tr>\n",
       "  </tbody>\n",
       "</table>\n",
       "</div>"
      ],
      "text/plain": [
       "       interview length  Questions rating  Responses rating    practice  \\\n",
       "count        103.000000        103.000000        103.000000  103.000000   \n",
       "mean          13.543689          0.252095          0.584845    0.485437   \n",
       "std            3.541841          0.230707          0.210398    0.502232   \n",
       "min            6.000000         -0.250000          0.000000    0.000000   \n",
       "25%           11.000000          0.069048          0.449495    0.000000   \n",
       "50%           13.000000          0.222222          0.600000    0.000000   \n",
       "75%           16.000000          0.408333          0.777778    1.000000   \n",
       "max           23.000000          0.727273          1.000000    1.000000   \n",
       "\n",
       "             game  \n",
       "count  103.000000  \n",
       "mean     0.514563  \n",
       "std      0.502232  \n",
       "min      0.000000  \n",
       "25%      0.000000  \n",
       "50%      1.000000  \n",
       "75%      1.000000  \n",
       "max      1.000000  "
      ]
     },
     "execution_count": 58,
     "metadata": {},
     "output_type": "execute_result"
    }
   ],
   "source": [
    "df_rating.describe()"
   ]
  },
  {
   "cell_type": "code",
   "execution_count": 59,
   "id": "00a6c800",
   "metadata": {},
   "outputs": [
    {
     "data": {
      "text/plain": [
       "[6, 7, 8, 9, 10, 11, 12, 13, 14, 15, 16, 17, 18, 19, 20, 21, 23]"
      ]
     },
     "execution_count": 59,
     "metadata": {},
     "output_type": "execute_result"
    }
   ],
   "source": [
    "sorted(df_rating['interview length'].unique())"
   ]
  },
  {
   "cell_type": "markdown",
   "id": "bdd0f658",
   "metadata": {},
   "source": [
    "#### created column by hand for win/prac/loss. couldnt find consistent way for coding to check as no sources listed all finals results, and inconsistent source coding from interview website (as seen by needing to check i and hd3 tags at beginning)"
   ]
  },
  {
   "cell_type": "code",
   "execution_count": 60,
   "id": "a39ddfb7",
   "metadata": {},
   "outputs": [],
   "source": [
    "df_rating = pd.read_csv('Interview_tone_wpl.csv')"
   ]
  },
  {
   "cell_type": "code",
   "execution_count": 61,
   "id": "ce73ecd6",
   "metadata": {},
   "outputs": [
    {
     "data": {
      "text/html": [
       "<div>\n",
       "<style scoped>\n",
       "    .dataframe tbody tr th:only-of-type {\n",
       "        vertical-align: middle;\n",
       "    }\n",
       "\n",
       "    .dataframe tbody tr th {\n",
       "        vertical-align: top;\n",
       "    }\n",
       "\n",
       "    .dataframe thead th {\n",
       "        text-align: right;\n",
       "    }\n",
       "</style>\n",
       "<table border=\"1\" class=\"dataframe\">\n",
       "  <thead>\n",
       "    <tr style=\"text-align: right;\">\n",
       "      <th></th>\n",
       "      <th>Date</th>\n",
       "      <th>interview length</th>\n",
       "      <th>Questions rating</th>\n",
       "      <th>Responses rating</th>\n",
       "      <th>practice</th>\n",
       "      <th>game</th>\n",
       "      <th>win_prac_loss</th>\n",
       "    </tr>\n",
       "  </thead>\n",
       "  <tbody>\n",
       "    <tr>\n",
       "      <th>0</th>\n",
       "      <td>11-Oct-20</td>\n",
       "      <td>9</td>\n",
       "      <td>0.666667</td>\n",
       "      <td>0.777778</td>\n",
       "      <td>0</td>\n",
       "      <td>1</td>\n",
       "      <td>1</td>\n",
       "    </tr>\n",
       "    <tr>\n",
       "      <th>1</th>\n",
       "      <td>9-Oct-20</td>\n",
       "      <td>8</td>\n",
       "      <td>0.250000</td>\n",
       "      <td>0.250000</td>\n",
       "      <td>0</td>\n",
       "      <td>1</td>\n",
       "      <td>-1</td>\n",
       "    </tr>\n",
       "    <tr>\n",
       "      <th>2</th>\n",
       "      <td>8-Oct-20</td>\n",
       "      <td>10</td>\n",
       "      <td>0.600000</td>\n",
       "      <td>0.800000</td>\n",
       "      <td>1</td>\n",
       "      <td>0</td>\n",
       "      <td>0</td>\n",
       "    </tr>\n",
       "    <tr>\n",
       "      <th>3</th>\n",
       "      <td>6-Oct-20</td>\n",
       "      <td>11</td>\n",
       "      <td>0.727273</td>\n",
       "      <td>0.909091</td>\n",
       "      <td>0</td>\n",
       "      <td>1</td>\n",
       "      <td>1</td>\n",
       "    </tr>\n",
       "    <tr>\n",
       "      <th>4</th>\n",
       "      <td>5-Oct-20</td>\n",
       "      <td>9</td>\n",
       "      <td>0.222222</td>\n",
       "      <td>0.777778</td>\n",
       "      <td>1</td>\n",
       "      <td>0</td>\n",
       "      <td>0</td>\n",
       "    </tr>\n",
       "  </tbody>\n",
       "</table>\n",
       "</div>"
      ],
      "text/plain": [
       "        Date  interview length  Questions rating  Responses rating  practice  \\\n",
       "0  11-Oct-20                 9          0.666667          0.777778         0   \n",
       "1   9-Oct-20                 8          0.250000          0.250000         0   \n",
       "2   8-Oct-20                10          0.600000          0.800000         1   \n",
       "3   6-Oct-20                11          0.727273          0.909091         0   \n",
       "4   5-Oct-20                 9          0.222222          0.777778         1   \n",
       "\n",
       "   game  win_prac_loss  \n",
       "0     1              1  \n",
       "1     1             -1  \n",
       "2     0              0  \n",
       "3     1              1  \n",
       "4     0              0  "
      ]
     },
     "execution_count": 61,
     "metadata": {},
     "output_type": "execute_result"
    }
   ],
   "source": [
    "df_rating.head()"
   ]
  },
  {
   "cell_type": "markdown",
   "id": "004887be",
   "metadata": {},
   "source": [
    "##### turn w/p/l to dummy variables"
   ]
  },
  {
   "cell_type": "code",
   "execution_count": 62,
   "id": "5597d044",
   "metadata": {},
   "outputs": [],
   "source": [
    "win = []\n",
    "loss = []\n",
    "for ele in df_rating['win_prac_loss']:\n",
    "    if ele == 1:\n",
    "        win.append(1)\n",
    "        loss.append(0)\n",
    "    elif ele == -1:\n",
    "        win.append(0)\n",
    "        loss.append(1)\n",
    "    else:\n",
    "        win.append(0)\n",
    "        loss.append(0)"
   ]
  },
  {
   "cell_type": "code",
   "execution_count": 63,
   "id": "14e908d4",
   "metadata": {},
   "outputs": [],
   "source": [
    "df_rating['win'] = win\n",
    "df_rating['loss'] = loss"
   ]
  },
  {
   "cell_type": "code",
   "execution_count": 64,
   "id": "fbeec22e",
   "metadata": {},
   "outputs": [
    {
     "data": {
      "text/html": [
       "<div>\n",
       "<style scoped>\n",
       "    .dataframe tbody tr th:only-of-type {\n",
       "        vertical-align: middle;\n",
       "    }\n",
       "\n",
       "    .dataframe tbody tr th {\n",
       "        vertical-align: top;\n",
       "    }\n",
       "\n",
       "    .dataframe thead th {\n",
       "        text-align: right;\n",
       "    }\n",
       "</style>\n",
       "<table border=\"1\" class=\"dataframe\">\n",
       "  <thead>\n",
       "    <tr style=\"text-align: right;\">\n",
       "      <th></th>\n",
       "      <th>Date</th>\n",
       "      <th>interview length</th>\n",
       "      <th>Questions rating</th>\n",
       "      <th>Responses rating</th>\n",
       "      <th>practice</th>\n",
       "      <th>game</th>\n",
       "      <th>win_prac_loss</th>\n",
       "      <th>win</th>\n",
       "      <th>loss</th>\n",
       "    </tr>\n",
       "  </thead>\n",
       "  <tbody>\n",
       "    <tr>\n",
       "      <th>0</th>\n",
       "      <td>11-Oct-20</td>\n",
       "      <td>9</td>\n",
       "      <td>0.666667</td>\n",
       "      <td>0.777778</td>\n",
       "      <td>0</td>\n",
       "      <td>1</td>\n",
       "      <td>1</td>\n",
       "      <td>1</td>\n",
       "      <td>0</td>\n",
       "    </tr>\n",
       "    <tr>\n",
       "      <th>1</th>\n",
       "      <td>9-Oct-20</td>\n",
       "      <td>8</td>\n",
       "      <td>0.250000</td>\n",
       "      <td>0.250000</td>\n",
       "      <td>0</td>\n",
       "      <td>1</td>\n",
       "      <td>-1</td>\n",
       "      <td>0</td>\n",
       "      <td>1</td>\n",
       "    </tr>\n",
       "    <tr>\n",
       "      <th>2</th>\n",
       "      <td>8-Oct-20</td>\n",
       "      <td>10</td>\n",
       "      <td>0.600000</td>\n",
       "      <td>0.800000</td>\n",
       "      <td>1</td>\n",
       "      <td>0</td>\n",
       "      <td>0</td>\n",
       "      <td>0</td>\n",
       "      <td>0</td>\n",
       "    </tr>\n",
       "    <tr>\n",
       "      <th>3</th>\n",
       "      <td>6-Oct-20</td>\n",
       "      <td>11</td>\n",
       "      <td>0.727273</td>\n",
       "      <td>0.909091</td>\n",
       "      <td>0</td>\n",
       "      <td>1</td>\n",
       "      <td>1</td>\n",
       "      <td>1</td>\n",
       "      <td>0</td>\n",
       "    </tr>\n",
       "    <tr>\n",
       "      <th>4</th>\n",
       "      <td>5-Oct-20</td>\n",
       "      <td>9</td>\n",
       "      <td>0.222222</td>\n",
       "      <td>0.777778</td>\n",
       "      <td>1</td>\n",
       "      <td>0</td>\n",
       "      <td>0</td>\n",
       "      <td>0</td>\n",
       "      <td>0</td>\n",
       "    </tr>\n",
       "  </tbody>\n",
       "</table>\n",
       "</div>"
      ],
      "text/plain": [
       "        Date  interview length  Questions rating  Responses rating  practice  \\\n",
       "0  11-Oct-20                 9          0.666667          0.777778         0   \n",
       "1   9-Oct-20                 8          0.250000          0.250000         0   \n",
       "2   8-Oct-20                10          0.600000          0.800000         1   \n",
       "3   6-Oct-20                11          0.727273          0.909091         0   \n",
       "4   5-Oct-20                 9          0.222222          0.777778         1   \n",
       "\n",
       "   game  win_prac_loss  win  loss  \n",
       "0     1              1    1     0  \n",
       "1     1             -1    0     1  \n",
       "2     0              0    0     0  \n",
       "3     1              1    1     0  \n",
       "4     0              0    0     0  "
      ]
     },
     "execution_count": 64,
     "metadata": {},
     "output_type": "execute_result"
    }
   ],
   "source": [
    "df_rating.head()"
   ]
  },
  {
   "cell_type": "code",
   "execution_count": 65,
   "id": "d832b7f2",
   "metadata": {},
   "outputs": [],
   "source": [
    "df_rating.to_csv('Interview_tone_final.csv', index = False)"
   ]
  },
  {
   "cell_type": "code",
   "execution_count": 66,
   "id": "da8021a7",
   "metadata": {},
   "outputs": [
    {
     "data": {
      "text/html": [
       "<div>\n",
       "<style scoped>\n",
       "    .dataframe tbody tr th:only-of-type {\n",
       "        vertical-align: middle;\n",
       "    }\n",
       "\n",
       "    .dataframe tbody tr th {\n",
       "        vertical-align: top;\n",
       "    }\n",
       "\n",
       "    .dataframe thead th {\n",
       "        text-align: right;\n",
       "    }\n",
       "</style>\n",
       "<table border=\"1\" class=\"dataframe\">\n",
       "  <thead>\n",
       "    <tr style=\"text-align: right;\">\n",
       "      <th></th>\n",
       "      <th>interview length</th>\n",
       "      <th>Questions rating</th>\n",
       "      <th>Responses rating</th>\n",
       "      <th>practice</th>\n",
       "      <th>game</th>\n",
       "      <th>win_prac_loss</th>\n",
       "      <th>win</th>\n",
       "      <th>loss</th>\n",
       "    </tr>\n",
       "  </thead>\n",
       "  <tbody>\n",
       "    <tr>\n",
       "      <th>count</th>\n",
       "      <td>103.000000</td>\n",
       "      <td>103.000000</td>\n",
       "      <td>103.000000</td>\n",
       "      <td>103.000000</td>\n",
       "      <td>103.000000</td>\n",
       "      <td>103.000000</td>\n",
       "      <td>103.000000</td>\n",
       "      <td>103.000000</td>\n",
       "    </tr>\n",
       "    <tr>\n",
       "      <th>mean</th>\n",
       "      <td>13.543689</td>\n",
       "      <td>0.252095</td>\n",
       "      <td>0.584845</td>\n",
       "      <td>0.485437</td>\n",
       "      <td>0.514563</td>\n",
       "      <td>-0.087379</td>\n",
       "      <td>0.213592</td>\n",
       "      <td>0.300971</td>\n",
       "    </tr>\n",
       "    <tr>\n",
       "      <th>std</th>\n",
       "      <td>3.541841</td>\n",
       "      <td>0.230707</td>\n",
       "      <td>0.210398</td>\n",
       "      <td>0.502232</td>\n",
       "      <td>0.502232</td>\n",
       "      <td>0.715470</td>\n",
       "      <td>0.411846</td>\n",
       "      <td>0.460923</td>\n",
       "    </tr>\n",
       "    <tr>\n",
       "      <th>min</th>\n",
       "      <td>6.000000</td>\n",
       "      <td>-0.250000</td>\n",
       "      <td>0.000000</td>\n",
       "      <td>0.000000</td>\n",
       "      <td>0.000000</td>\n",
       "      <td>-1.000000</td>\n",
       "      <td>0.000000</td>\n",
       "      <td>0.000000</td>\n",
       "    </tr>\n",
       "    <tr>\n",
       "      <th>25%</th>\n",
       "      <td>11.000000</td>\n",
       "      <td>0.069048</td>\n",
       "      <td>0.449495</td>\n",
       "      <td>0.000000</td>\n",
       "      <td>0.000000</td>\n",
       "      <td>-1.000000</td>\n",
       "      <td>0.000000</td>\n",
       "      <td>0.000000</td>\n",
       "    </tr>\n",
       "    <tr>\n",
       "      <th>50%</th>\n",
       "      <td>13.000000</td>\n",
       "      <td>0.222222</td>\n",
       "      <td>0.600000</td>\n",
       "      <td>0.000000</td>\n",
       "      <td>1.000000</td>\n",
       "      <td>0.000000</td>\n",
       "      <td>0.000000</td>\n",
       "      <td>0.000000</td>\n",
       "    </tr>\n",
       "    <tr>\n",
       "      <th>75%</th>\n",
       "      <td>16.000000</td>\n",
       "      <td>0.408333</td>\n",
       "      <td>0.777778</td>\n",
       "      <td>1.000000</td>\n",
       "      <td>1.000000</td>\n",
       "      <td>0.000000</td>\n",
       "      <td>0.000000</td>\n",
       "      <td>1.000000</td>\n",
       "    </tr>\n",
       "    <tr>\n",
       "      <th>max</th>\n",
       "      <td>23.000000</td>\n",
       "      <td>0.727273</td>\n",
       "      <td>1.000000</td>\n",
       "      <td>1.000000</td>\n",
       "      <td>1.000000</td>\n",
       "      <td>1.000000</td>\n",
       "      <td>1.000000</td>\n",
       "      <td>1.000000</td>\n",
       "    </tr>\n",
       "  </tbody>\n",
       "</table>\n",
       "</div>"
      ],
      "text/plain": [
       "       interview length  Questions rating  Responses rating    practice  \\\n",
       "count        103.000000        103.000000        103.000000  103.000000   \n",
       "mean          13.543689          0.252095          0.584845    0.485437   \n",
       "std            3.541841          0.230707          0.210398    0.502232   \n",
       "min            6.000000         -0.250000          0.000000    0.000000   \n",
       "25%           11.000000          0.069048          0.449495    0.000000   \n",
       "50%           13.000000          0.222222          0.600000    0.000000   \n",
       "75%           16.000000          0.408333          0.777778    1.000000   \n",
       "max           23.000000          0.727273          1.000000    1.000000   \n",
       "\n",
       "             game  win_prac_loss         win        loss  \n",
       "count  103.000000     103.000000  103.000000  103.000000  \n",
       "mean     0.514563      -0.087379    0.213592    0.300971  \n",
       "std      0.502232       0.715470    0.411846    0.460923  \n",
       "min      0.000000      -1.000000    0.000000    0.000000  \n",
       "25%      0.000000      -1.000000    0.000000    0.000000  \n",
       "50%      1.000000       0.000000    0.000000    0.000000  \n",
       "75%      1.000000       0.000000    0.000000    1.000000  \n",
       "max      1.000000       1.000000    1.000000    1.000000  "
      ]
     },
     "execution_count": 66,
     "metadata": {},
     "output_type": "execute_result"
    }
   ],
   "source": [
    "df_rating.describe()"
   ]
  },
  {
   "cell_type": "markdown",
   "id": "96d4af5f",
   "metadata": {},
   "source": [
    "# Begin analysis \n",
    "## statsmodels"
   ]
  },
  {
   "cell_type": "markdown",
   "id": "4ac181ba",
   "metadata": {},
   "source": [
    "### simple linear regression"
   ]
  },
  {
   "cell_type": "markdown",
   "id": "04614e5a",
   "metadata": {},
   "source": [
    "##### define variables"
   ]
  },
  {
   "cell_type": "code",
   "execution_count": 67,
   "id": "4a36d1de",
   "metadata": {},
   "outputs": [],
   "source": [
    "y = df_rating['Responses rating']\n",
    "x1 = df_rating['Questions rating']"
   ]
  },
  {
   "cell_type": "markdown",
   "id": "690fb740",
   "metadata": {},
   "source": [
    "##### explore data"
   ]
  },
  {
   "cell_type": "code",
   "execution_count": 68,
   "id": "5cfcaf74",
   "metadata": {},
   "outputs": [],
   "source": [
    "plt.rcParams['axes.facecolor'] = 'darkgray'"
   ]
  },
  {
   "cell_type": "code",
   "execution_count": 69,
   "id": "482f1d40",
   "metadata": {},
   "outputs": [],
   "source": [
    "color = [(1, 0, 0), (0, 0, 1), (0, 1, 0)]\n",
    "from matplotlib.colors import LinearSegmentedColormap\n",
    "cmap = LinearSegmentedColormap.from_list(name = 'rgb', colors = color)"
   ]
  },
  {
   "cell_type": "code",
   "execution_count": 70,
   "id": "c56cfe4d",
   "metadata": {},
   "outputs": [
    {
     "data": {
      "image/png": "[encoded data removed]",
      "text/plain": [
       "<Figure size 432x288 with 1 Axes>"
      ]
     },
     "metadata": {},
     "output_type": "display_data"
    }
   ],
   "source": [
    "scatter = plt.scatter(x1,y,c=df_rating['win_prac_loss'], cmap=cmap)\n",
    "plt.xlabel('Question tone', fontsize=20)\n",
    "plt.ylabel('Response tone', fontsize=20)\n",
    "plt.legend(handles=scatter.legend_elements()[0], labels = ['loss','prac','win'])\n",
    "plt.savefig(\"Tone_analysis.png\", format='png', dpi=150)\n",
    "plt.show()"
   ]
  },
  {
   "cell_type": "code",
   "execution_count": 71,
   "id": "f895cfbd",
   "metadata": {
    "scrolled": true
   },
   "outputs": [
    {
     "name": "stderr",
     "output_type": "stream",
     "text": [
      "C:\\Users\\Bryce\\anaconda3\\lib\\site-packages\\seaborn\\distributions.py:2619: FutureWarning: `distplot` is a deprecated function and will be removed in a future version. Please adapt your code to use either `displot` (a figure-level function with similar flexibility) or `histplot` (an axes-level function for histograms).\n",
      "  warnings.warn(msg, FutureWarning)\n"
     ]
    },
    {
     "data": {
      "text/plain": [
       "<AxesSubplot:xlabel='Responses rating', ylabel='Density'>"
      ]
     },
     "execution_count": 71,
     "metadata": {},
     "output_type": "execute_result"
    },
    {
     "data": {
      "image/png": "[encoded data removed]",
      "text/plain": [
       "<Figure size 432x288 with 1 Axes>"
      ]
     },
     "metadata": {},
     "output_type": "display_data"
    }
   ],
   "source": [
    "sns.distplot(df_rating['Responses rating'])"
   ]
  },
  {
   "cell_type": "code",
   "execution_count": 72,
   "id": "14b05240",
   "metadata": {
    "scrolled": false
   },
   "outputs": [
    {
     "name": "stderr",
     "output_type": "stream",
     "text": [
      "C:\\Users\\Bryce\\anaconda3\\lib\\site-packages\\seaborn\\distributions.py:2619: FutureWarning: `distplot` is a deprecated function and will be removed in a future version. Please adapt your code to use either `displot` (a figure-level function with similar flexibility) or `histplot` (an axes-level function for histograms).\n",
      "  warnings.warn(msg, FutureWarning)\n"
     ]
    },
    {
     "data": {
      "text/plain": [
       "<AxesSubplot:xlabel='Questions rating', ylabel='Density'>"
      ]
     },
     "execution_count": 72,
     "metadata": {},
     "output_type": "execute_result"
    },
    {
     "data": {
      "image/png": "[encoded data removed]",
      "text/plain": [
       "<Figure size 432x288 with 1 Axes>"
      ]
     },
     "metadata": {},
     "output_type": "display_data"
    }
   ],
   "source": [
    "sns.distplot(df_rating['Questions rating'])"
   ]
  },
  {
   "cell_type": "code",
   "execution_count": 73,
   "id": "44dac850",
   "metadata": {
    "scrolled": true
   },
   "outputs": [
    {
     "name": "stderr",
     "output_type": "stream",
     "text": [
      "C:\\Users\\Bryce\\anaconda3\\lib\\site-packages\\seaborn\\distributions.py:2619: FutureWarning: `distplot` is a deprecated function and will be removed in a future version. Please adapt your code to use either `displot` (a figure-level function with similar flexibility) or `histplot` (an axes-level function for histograms).\n",
      "  warnings.warn(msg, FutureWarning)\n"
     ]
    },
    {
     "data": {
      "text/plain": [
       "<AxesSubplot:xlabel='interview length', ylabel='Density'>"
      ]
     },
     "execution_count": 73,
     "metadata": {},
     "output_type": "execute_result"
    },
    {
     "data": {
      "image/png": "[encoded data removed]",
      "text/plain": [
       "<Figure size 432x288 with 1 Axes>"
      ]
     },
     "metadata": {},
     "output_type": "display_data"
    }
   ],
   "source": [
    "sns.distplot(df_rating['interview length'])"
   ]
  },
  {
   "cell_type": "markdown",
   "id": "b7463d8a",
   "metadata": {},
   "source": [
    "##### Curves are close to normal"
   ]
  },
  {
   "cell_type": "code",
   "execution_count": 74,
   "id": "2992f58b",
   "metadata": {
    "scrolled": false
   },
   "outputs": [
    {
     "data": {
      "image/png": "[encoded data removed]",
      "text/plain": [
       "<Figure size 1080x216 with 3 Axes>"
      ]
     },
     "metadata": {},
     "output_type": "display_data"
    }
   ],
   "source": [
    "f, (ax1, ax2, ax3) = plt.subplots(1, 3, sharey=True, figsize =(15,3)) #sharey -> share 'Responses rating' as y\n",
    "ax1.scatter(df_rating['Questions rating'],df_rating['Responses rating'],c=df_rating['win_prac_loss'], cmap=cmap)\n",
    "ax1.set_title('Question and Response Tone Ratings')\n",
    "scatter2 = ax2.scatter(df_rating['win_prac_loss'],df_rating['Responses rating'],c=df_rating['win_prac_loss'],cmap=cmap)\n",
    "ax2.legend(handles=scatter2.legend_elements()[0], labels = ['loss','prac','win'])\n",
    "ax2.set_title('Response Rating and Result')\n",
    "ax3.scatter(df_rating['interview length'],df_rating['Responses rating'],c=df_rating['win_prac_loss'],cmap=cmap)\n",
    "ax3.set_title('Response Rating and Interview Length')\n",
    "plt.savefig(\"Variable_analysis.png\", format='png', dpi=150)"
   ]
  },
  {
   "cell_type": "markdown",
   "id": "5fcabb93",
   "metadata": {},
   "source": [
    "##### We observe that the ratings correlation is approx. linear. Response ratings tend to be higher in wins, mid to low in losses, and average during practice days. It appears interviews (on average) are a bit longer during practice days, which makes sense given the setting."
   ]
  },
  {
   "cell_type": "markdown",
   "id": "01e3ba7b",
   "metadata": {},
   "source": [
    "##### regression"
   ]
  },
  {
   "cell_type": "code",
   "execution_count": 75,
   "id": "91ab8f05",
   "metadata": {
    "scrolled": true
   },
   "outputs": [
    {
     "data": {
      "text/html": [
       "<table class=\"simpletable\">\n",
       "<caption>OLS Regression Results</caption>\n",
       "<tr>\n",
       "  <th>Dep. Variable:</th>    <td>Responses rating</td> <th>  R-squared:         </th> <td>   0.271</td>\n",
       "</tr>\n",
       "<tr>\n",
       "  <th>Model:</th>                   <td>OLS</td>       <th>  Adj. R-squared:    </th> <td>   0.264</td>\n",
       "</tr>\n",
       "<tr>\n",
       "  <th>Method:</th>             <td>Least Squares</td>  <th>  F-statistic:       </th> <td>   37.63</td>\n",
       "</tr>\n",
       "<tr>\n",
       "  <th>Date:</th>             <td>Tue, 02 May 2023</td> <th>  Prob (F-statistic):</th> <td>1.68e-08</td>\n",
       "</tr>\n",
       "<tr>\n",
       "  <th>Time:</th>                 <td>17:39:46</td>     <th>  Log-Likelihood:    </th> <td>  31.213</td>\n",
       "</tr>\n",
       "<tr>\n",
       "  <th>No. Observations:</th>      <td>   103</td>      <th>  AIC:               </th> <td>  -58.43</td>\n",
       "</tr>\n",
       "<tr>\n",
       "  <th>Df Residuals:</th>          <td>   101</td>      <th>  BIC:               </th> <td>  -53.16</td>\n",
       "</tr>\n",
       "<tr>\n",
       "  <th>Df Model:</th>              <td>     1</td>      <th>                     </th>     <td> </td>   \n",
       "</tr>\n",
       "<tr>\n",
       "  <th>Covariance Type:</th>      <td>nonrobust</td>    <th>                     </th>     <td> </td>   \n",
       "</tr>\n",
       "</table>\n",
       "<table class=\"simpletable\">\n",
       "<tr>\n",
       "          <td></td>            <th>coef</th>     <th>std err</th>      <th>t</th>      <th>P>|t|</th>  <th>[0.025</th>    <th>0.975]</th>  \n",
       "</tr>\n",
       "<tr>\n",
       "  <th>const</th>            <td>    0.4651</td> <td>    0.026</td> <td>   17.609</td> <td> 0.000</td> <td>    0.413</td> <td>    0.517</td>\n",
       "</tr>\n",
       "<tr>\n",
       "  <th>Questions rating</th> <td>    0.4751</td> <td>    0.077</td> <td>    6.134</td> <td> 0.000</td> <td>    0.321</td> <td>    0.629</td>\n",
       "</tr>\n",
       "</table>\n",
       "<table class=\"simpletable\">\n",
       "<tr>\n",
       "  <th>Omnibus:</th>       <td> 2.225</td> <th>  Durbin-Watson:     </th> <td>   1.906</td>\n",
       "</tr>\n",
       "<tr>\n",
       "  <th>Prob(Omnibus):</th> <td> 0.329</td> <th>  Jarque-Bera (JB):  </th> <td>   2.230</td>\n",
       "</tr>\n",
       "<tr>\n",
       "  <th>Skew:</th>          <td>-0.311</td> <th>  Prob(JB):          </th> <td>   0.328</td>\n",
       "</tr>\n",
       "<tr>\n",
       "  <th>Kurtosis:</th>      <td> 2.635</td> <th>  Cond. No.          </th> <td>    4.65</td>\n",
       "</tr>\n",
       "</table><br/><br/>Notes:<br/>[1] Standard Errors assume that the covariance matrix of the errors is correctly specified."
      ],
      "text/plain": [
       "<class 'statsmodels.iolib.summary.Summary'>\n",
       "\"\"\"\n",
       "                            OLS Regression Results                            \n",
       "==============================================================================\n",
       "Dep. Variable:       Responses rating   R-squared:                       0.271\n",
       "Model:                            OLS   Adj. R-squared:                  0.264\n",
       "Method:                 Least Squares   F-statistic:                     37.63\n",
       "Date:                Tue, 02 May 2023   Prob (F-statistic):           1.68e-08\n",
       "Time:                        17:39:46   Log-Likelihood:                 31.213\n",
       "No. Observations:                 103   AIC:                            -58.43\n",
       "Df Residuals:                     101   BIC:                            -53.16\n",
       "Df Model:                           1                                         \n",
       "Covariance Type:            nonrobust                                         \n",
       "====================================================================================\n",
       "                       coef    std err          t      P>|t|      [0.025      0.975]\n",
       "------------------------------------------------------------------------------------\n",
       "const                0.4651      0.026     17.609      0.000       0.413       0.517\n",
       "Questions rating     0.4751      0.077      6.134      0.000       0.321       0.629\n",
       "==============================================================================\n",
       "Omnibus:                        2.225   Durbin-Watson:                   1.906\n",
       "Prob(Omnibus):                  0.329   Jarque-Bera (JB):                2.230\n",
       "Skew:                          -0.311   Prob(JB):                        0.328\n",
       "Kurtosis:                       2.635   Cond. No.                         4.65\n",
       "==============================================================================\n",
       "\n",
       "Notes:\n",
       "[1] Standard Errors assume that the covariance matrix of the errors is correctly specified.\n",
       "\"\"\""
      ]
     },
     "execution_count": 75,
     "metadata": {},
     "output_type": "execute_result"
    }
   ],
   "source": [
    "x = sm.add_constant(x1)\n",
    "results = sm.OLS(y,x).fit()\n",
    "results.summary()"
   ]
  },
  {
   "cell_type": "markdown",
   "id": "dffd056e",
   "metadata": {},
   "source": [
    "##### We see that Questions rating has low standard error. This means the model is fairly accurate in its estimate. \n",
    "##### As Questions rating has a p value = 0 we confirm it is valuable in determining the Responses rating.\n",
    "##### 'low' r-squared implies we are correct in believing there are other variables which influence response tone"
   ]
  },
  {
   "cell_type": "code",
   "execution_count": 76,
   "id": "0c437749",
   "metadata": {},
   "outputs": [
    {
     "data": {
      "image/png": "[encoded data removed]",
      "text/plain": [
       "<Figure size 432x288 with 1 Axes>"
      ]
     },
     "metadata": {},
     "output_type": "display_data"
    }
   ],
   "source": [
    "scatter_lin = plt.scatter(x1,y,c=df_rating['win_prac_loss'], cmap=cmap)\n",
    "inter = 0.4651\n",
    "yhat = 0.4751*x1 + 0.4651\n",
    "fig = plt.plot(x1,yhat, lw=2, c='black')\n",
    "plt.xlabel('Question tone', fontsize=15)\n",
    "plt.ylabel('Response tone', fontsize=15)\n",
    "plt.title('Linear Regression', fontsize=20)\n",
    "plt.legend(handles=scatter_lin.legend_elements()[0], labels = ['loss','prac','win'])\n",
    "plt.savefig(\"Simple_lin_reg.png\", format='png', dpi=150)\n",
    "plt.show()"
   ]
  },
  {
   "cell_type": "markdown",
   "id": "0cfc05d3",
   "metadata": {},
   "source": [
    "### note: it is likely the same variables which impact question tone also impact the response tone. We may want to avoid this in our analysis when we consider multiple features. Let us explore the correlation coefficient on the win and loss variables."
   ]
  },
  {
   "cell_type": "code",
   "execution_count": 77,
   "id": "b4f61768",
   "metadata": {},
   "outputs": [],
   "source": [
    "y = df_rating['Responses rating']\n",
    "x1 = df_rating['win']"
   ]
  },
  {
   "cell_type": "code",
   "execution_count": 78,
   "id": "380691d1",
   "metadata": {},
   "outputs": [
    {
     "data": {
      "text/html": [
       "<table class=\"simpletable\">\n",
       "<caption>OLS Regression Results</caption>\n",
       "<tr>\n",
       "  <th>Dep. Variable:</th>    <td>Responses rating</td> <th>  R-squared:         </th> <td>   0.247</td>\n",
       "</tr>\n",
       "<tr>\n",
       "  <th>Model:</th>                   <td>OLS</td>       <th>  Adj. R-squared:    </th> <td>   0.239</td>\n",
       "</tr>\n",
       "<tr>\n",
       "  <th>Method:</th>             <td>Least Squares</td>  <th>  F-statistic:       </th> <td>   33.12</td>\n",
       "</tr>\n",
       "<tr>\n",
       "  <th>Date:</th>             <td>Tue, 02 May 2023</td> <th>  Prob (F-statistic):</th> <td>9.34e-08</td>\n",
       "</tr>\n",
       "<tr>\n",
       "  <th>Time:</th>                 <td>17:39:46</td>     <th>  Log-Likelihood:    </th> <td>  29.509</td>\n",
       "</tr>\n",
       "<tr>\n",
       "  <th>No. Observations:</th>      <td>   103</td>      <th>  AIC:               </th> <td>  -55.02</td>\n",
       "</tr>\n",
       "<tr>\n",
       "  <th>Df Residuals:</th>          <td>   101</td>      <th>  BIC:               </th> <td>  -49.75</td>\n",
       "</tr>\n",
       "<tr>\n",
       "  <th>Df Model:</th>              <td>     1</td>      <th>                     </th>     <td> </td>   \n",
       "</tr>\n",
       "<tr>\n",
       "  <th>Covariance Type:</th>      <td>nonrobust</td>    <th>                     </th>     <td> </td>   \n",
       "</tr>\n",
       "</table>\n",
       "<table class=\"simpletable\">\n",
       "<tr>\n",
       "    <td></td>       <th>coef</th>     <th>std err</th>      <th>t</th>      <th>P>|t|</th>  <th>[0.025</th>    <th>0.975]</th>  \n",
       "</tr>\n",
       "<tr>\n",
       "  <th>const</th> <td>    0.5306</td> <td>    0.020</td> <td>   26.027</td> <td> 0.000</td> <td>    0.490</td> <td>    0.571</td>\n",
       "</tr>\n",
       "<tr>\n",
       "  <th>win</th>   <td>    0.2539</td> <td>    0.044</td> <td>    5.755</td> <td> 0.000</td> <td>    0.166</td> <td>    0.341</td>\n",
       "</tr>\n",
       "</table>\n",
       "<table class=\"simpletable\">\n",
       "<tr>\n",
       "  <th>Omnibus:</th>       <td> 1.886</td> <th>  Durbin-Watson:     </th> <td>   2.180</td>\n",
       "</tr>\n",
       "<tr>\n",
       "  <th>Prob(Omnibus):</th> <td> 0.389</td> <th>  Jarque-Bera (JB):  </th> <td>   1.921</td>\n",
       "</tr>\n",
       "<tr>\n",
       "  <th>Skew:</th>          <td>-0.286</td> <th>  Prob(JB):          </th> <td>   0.383</td>\n",
       "</tr>\n",
       "<tr>\n",
       "  <th>Kurtosis:</th>      <td> 2.654</td> <th>  Cond. No.          </th> <td>    2.57</td>\n",
       "</tr>\n",
       "</table><br/><br/>Notes:<br/>[1] Standard Errors assume that the covariance matrix of the errors is correctly specified."
      ],
      "text/plain": [
       "<class 'statsmodels.iolib.summary.Summary'>\n",
       "\"\"\"\n",
       "                            OLS Regression Results                            \n",
       "==============================================================================\n",
       "Dep. Variable:       Responses rating   R-squared:                       0.247\n",
       "Model:                            OLS   Adj. R-squared:                  0.239\n",
       "Method:                 Least Squares   F-statistic:                     33.12\n",
       "Date:                Tue, 02 May 2023   Prob (F-statistic):           9.34e-08\n",
       "Time:                        17:39:46   Log-Likelihood:                 29.509\n",
       "No. Observations:                 103   AIC:                            -55.02\n",
       "Df Residuals:                     101   BIC:                            -49.75\n",
       "Df Model:                           1                                         \n",
       "Covariance Type:            nonrobust                                         \n",
       "==============================================================================\n",
       "                 coef    std err          t      P>|t|      [0.025      0.975]\n",
       "------------------------------------------------------------------------------\n",
       "const          0.5306      0.020     26.027      0.000       0.490       0.571\n",
       "win            0.2539      0.044      5.755      0.000       0.166       0.341\n",
       "==============================================================================\n",
       "Omnibus:                        1.886   Durbin-Watson:                   2.180\n",
       "Prob(Omnibus):                  0.389   Jarque-Bera (JB):                1.921\n",
       "Skew:                          -0.286   Prob(JB):                        0.383\n",
       "Kurtosis:                       2.654   Cond. No.                         2.57\n",
       "==============================================================================\n",
       "\n",
       "Notes:\n",
       "[1] Standard Errors assume that the covariance matrix of the errors is correctly specified.\n",
       "\"\"\""
      ]
     },
     "execution_count": 78,
     "metadata": {},
     "output_type": "execute_result"
    }
   ],
   "source": [
    "x = sm.add_constant(x1)\n",
    "results = sm.OLS(y,x).fit()\n",
    "results.summary()"
   ]
  },
  {
   "cell_type": "code",
   "execution_count": 79,
   "id": "e1e65a30",
   "metadata": {},
   "outputs": [],
   "source": [
    "y = df_rating['Responses rating']\n",
    "x1 = df_rating['loss']"
   ]
  },
  {
   "cell_type": "code",
   "execution_count": 80,
   "id": "07ab2fe6",
   "metadata": {},
   "outputs": [
    {
     "data": {
      "text/html": [
       "<table class=\"simpletable\">\n",
       "<caption>OLS Regression Results</caption>\n",
       "<tr>\n",
       "  <th>Dep. Variable:</th>    <td>Responses rating</td> <th>  R-squared:         </th> <td>   0.304</td>\n",
       "</tr>\n",
       "<tr>\n",
       "  <th>Model:</th>                   <td>OLS</td>       <th>  Adj. R-squared:    </th> <td>   0.297</td>\n",
       "</tr>\n",
       "<tr>\n",
       "  <th>Method:</th>             <td>Least Squares</td>  <th>  F-statistic:       </th> <td>   44.15</td>\n",
       "</tr>\n",
       "<tr>\n",
       "  <th>Date:</th>             <td>Tue, 02 May 2023</td> <th>  Prob (F-statistic):</th> <td>1.56e-09</td>\n",
       "</tr>\n",
       "<tr>\n",
       "  <th>Time:</th>                 <td>17:39:46</td>     <th>  Log-Likelihood:    </th> <td>  33.581</td>\n",
       "</tr>\n",
       "<tr>\n",
       "  <th>No. Observations:</th>      <td>   103</td>      <th>  AIC:               </th> <td>  -63.16</td>\n",
       "</tr>\n",
       "<tr>\n",
       "  <th>Df Residuals:</th>          <td>   101</td>      <th>  BIC:               </th> <td>  -57.89</td>\n",
       "</tr>\n",
       "<tr>\n",
       "  <th>Df Model:</th>              <td>     1</td>      <th>                     </th>     <td> </td>   \n",
       "</tr>\n",
       "<tr>\n",
       "  <th>Covariance Type:</th>      <td>nonrobust</td>    <th>                     </th>     <td> </td>   \n",
       "</tr>\n",
       "</table>\n",
       "<table class=\"simpletable\">\n",
       "<tr>\n",
       "    <td></td>       <th>coef</th>     <th>std err</th>      <th>t</th>      <th>P>|t|</th>  <th>[0.025</th>    <th>0.975]</th>  \n",
       "</tr>\n",
       "<tr>\n",
       "  <th>const</th> <td>    0.6606</td> <td>    0.021</td> <td>   31.783</td> <td> 0.000</td> <td>    0.619</td> <td>    0.702</td>\n",
       "</tr>\n",
       "<tr>\n",
       "  <th>loss</th>  <td>   -0.2518</td> <td>    0.038</td> <td>   -6.645</td> <td> 0.000</td> <td>   -0.327</td> <td>   -0.177</td>\n",
       "</tr>\n",
       "</table>\n",
       "<table class=\"simpletable\">\n",
       "<tr>\n",
       "  <th>Omnibus:</th>       <td> 5.705</td> <th>  Durbin-Watson:     </th> <td>   1.943</td>\n",
       "</tr>\n",
       "<tr>\n",
       "  <th>Prob(Omnibus):</th> <td> 0.058</td> <th>  Jarque-Bera (JB):  </th> <td>   5.610</td>\n",
       "</tr>\n",
       "<tr>\n",
       "  <th>Skew:</th>          <td>-0.572</td> <th>  Prob(JB):          </th> <td>  0.0605</td>\n",
       "</tr>\n",
       "<tr>\n",
       "  <th>Kurtosis:</th>      <td> 2.977</td> <th>  Cond. No.          </th> <td>    2.42</td>\n",
       "</tr>\n",
       "</table><br/><br/>Notes:<br/>[1] Standard Errors assume that the covariance matrix of the errors is correctly specified."
      ],
      "text/plain": [
       "<class 'statsmodels.iolib.summary.Summary'>\n",
       "\"\"\"\n",
       "                            OLS Regression Results                            \n",
       "==============================================================================\n",
       "Dep. Variable:       Responses rating   R-squared:                       0.304\n",
       "Model:                            OLS   Adj. R-squared:                  0.297\n",
       "Method:                 Least Squares   F-statistic:                     44.15\n",
       "Date:                Tue, 02 May 2023   Prob (F-statistic):           1.56e-09\n",
       "Time:                        17:39:46   Log-Likelihood:                 33.581\n",
       "No. Observations:                 103   AIC:                            -63.16\n",
       "Df Residuals:                     101   BIC:                            -57.89\n",
       "Df Model:                           1                                         \n",
       "Covariance Type:            nonrobust                                         \n",
       "==============================================================================\n",
       "                 coef    std err          t      P>|t|      [0.025      0.975]\n",
       "------------------------------------------------------------------------------\n",
       "const          0.6606      0.021     31.783      0.000       0.619       0.702\n",
       "loss          -0.2518      0.038     -6.645      0.000      -0.327      -0.177\n",
       "==============================================================================\n",
       "Omnibus:                        5.705   Durbin-Watson:                   1.943\n",
       "Prob(Omnibus):                  0.058   Jarque-Bera (JB):                5.610\n",
       "Skew:                          -0.572   Prob(JB):                       0.0605\n",
       "Kurtosis:                       2.977   Cond. No.                         2.42\n",
       "==============================================================================\n",
       "\n",
       "Notes:\n",
       "[1] Standard Errors assume that the covariance matrix of the errors is correctly specified.\n",
       "\"\"\""
      ]
     },
     "execution_count": 80,
     "metadata": {},
     "output_type": "execute_result"
    }
   ],
   "source": [
    "x = sm.add_constant(x1)\n",
    "results = sm.OLS(y,x).fit()\n",
    "results.summary()"
   ]
  },
  {
   "cell_type": "markdown",
   "id": "dabde957",
   "metadata": {},
   "source": [
    "### Loss has a stronger relationship to response tone than both win and question tone. Notice that win was very close to the results of question tone, it seems likely we can replace questions tone, a compound variable, by combining multiple simple variables (e.g. win and loss)."
   ]
  },
  {
   "cell_type": "markdown",
   "id": "78253327",
   "metadata": {},
   "source": [
    "## With the information available let us create further variables which may impact the response tone rating of Lebron James."
   ]
  },
  {
   "cell_type": "code",
   "execution_count": 81,
   "id": "bf3d6d60",
   "metadata": {},
   "outputs": [],
   "source": [
    "data = pd.read_csv('Interview_analysis.csv')\n",
    "df = data.copy()"
   ]
  },
  {
   "cell_type": "code",
   "execution_count": 82,
   "id": "ea8cc926",
   "metadata": {},
   "outputs": [
    {
     "data": {
      "text/html": [
       "<div>\n",
       "<style scoped>\n",
       "    .dataframe tbody tr th:only-of-type {\n",
       "        vertical-align: middle;\n",
       "    }\n",
       "\n",
       "    .dataframe tbody tr th {\n",
       "        vertical-align: top;\n",
       "    }\n",
       "\n",
       "    .dataframe thead th {\n",
       "        text-align: right;\n",
       "    }\n",
       "</style>\n",
       "<table border=\"1\" class=\"dataframe\">\n",
       "  <thead>\n",
       "    <tr style=\"text-align: right;\">\n",
       "      <th></th>\n",
       "      <th>Date</th>\n",
       "      <th>interview length</th>\n",
       "      <th>Questions rating</th>\n",
       "      <th>Responses rating</th>\n",
       "      <th>practice</th>\n",
       "      <th>game</th>\n",
       "      <th>win_prac_loss</th>\n",
       "      <th>win</th>\n",
       "      <th>loss</th>\n",
       "      <th>home</th>\n",
       "      <th>away</th>\n",
       "    </tr>\n",
       "  </thead>\n",
       "  <tbody>\n",
       "    <tr>\n",
       "      <th>0</th>\n",
       "      <td>11-Oct-20</td>\n",
       "      <td>9</td>\n",
       "      <td>0.666667</td>\n",
       "      <td>0.777778</td>\n",
       "      <td>0</td>\n",
       "      <td>1</td>\n",
       "      <td>1</td>\n",
       "      <td>1</td>\n",
       "      <td>0</td>\n",
       "      <td>0</td>\n",
       "      <td>1</td>\n",
       "    </tr>\n",
       "    <tr>\n",
       "      <th>1</th>\n",
       "      <td>9-Oct-20</td>\n",
       "      <td>8</td>\n",
       "      <td>0.250000</td>\n",
       "      <td>0.250000</td>\n",
       "      <td>0</td>\n",
       "      <td>1</td>\n",
       "      <td>-1</td>\n",
       "      <td>0</td>\n",
       "      <td>1</td>\n",
       "      <td>0</td>\n",
       "      <td>1</td>\n",
       "    </tr>\n",
       "    <tr>\n",
       "      <th>2</th>\n",
       "      <td>8-Oct-20</td>\n",
       "      <td>10</td>\n",
       "      <td>0.600000</td>\n",
       "      <td>0.800000</td>\n",
       "      <td>1</td>\n",
       "      <td>0</td>\n",
       "      <td>0</td>\n",
       "      <td>0</td>\n",
       "      <td>0</td>\n",
       "      <td>0</td>\n",
       "      <td>1</td>\n",
       "    </tr>\n",
       "    <tr>\n",
       "      <th>3</th>\n",
       "      <td>6-Oct-20</td>\n",
       "      <td>11</td>\n",
       "      <td>0.727273</td>\n",
       "      <td>0.909091</td>\n",
       "      <td>0</td>\n",
       "      <td>1</td>\n",
       "      <td>1</td>\n",
       "      <td>1</td>\n",
       "      <td>0</td>\n",
       "      <td>0</td>\n",
       "      <td>1</td>\n",
       "    </tr>\n",
       "    <tr>\n",
       "      <th>4</th>\n",
       "      <td>5-Oct-20</td>\n",
       "      <td>9</td>\n",
       "      <td>0.222222</td>\n",
       "      <td>0.777778</td>\n",
       "      <td>1</td>\n",
       "      <td>0</td>\n",
       "      <td>0</td>\n",
       "      <td>0</td>\n",
       "      <td>0</td>\n",
       "      <td>0</td>\n",
       "      <td>1</td>\n",
       "    </tr>\n",
       "    <tr>\n",
       "      <th>...</th>\n",
       "      <td>...</td>\n",
       "      <td>...</td>\n",
       "      <td>...</td>\n",
       "      <td>...</td>\n",
       "      <td>...</td>\n",
       "      <td>...</td>\n",
       "      <td>...</td>\n",
       "      <td>...</td>\n",
       "      <td>...</td>\n",
       "      <td>...</td>\n",
       "      <td>...</td>\n",
       "    </tr>\n",
       "    <tr>\n",
       "      <th>98</th>\n",
       "      <td>10-Jun-07</td>\n",
       "      <td>12</td>\n",
       "      <td>0.166667</td>\n",
       "      <td>0.583333</td>\n",
       "      <td>0</td>\n",
       "      <td>1</td>\n",
       "      <td>-1</td>\n",
       "      <td>0</td>\n",
       "      <td>1</td>\n",
       "      <td>0</td>\n",
       "      <td>1</td>\n",
       "    </tr>\n",
       "    <tr>\n",
       "      <th>99</th>\n",
       "      <td>9-Jun-07</td>\n",
       "      <td>18</td>\n",
       "      <td>0.055556</td>\n",
       "      <td>0.277778</td>\n",
       "      <td>1</td>\n",
       "      <td>0</td>\n",
       "      <td>0</td>\n",
       "      <td>0</td>\n",
       "      <td>0</td>\n",
       "      <td>0</td>\n",
       "      <td>1</td>\n",
       "    </tr>\n",
       "    <tr>\n",
       "      <th>100</th>\n",
       "      <td>8-Jun-07</td>\n",
       "      <td>13</td>\n",
       "      <td>0.461538</td>\n",
       "      <td>0.384615</td>\n",
       "      <td>1</td>\n",
       "      <td>0</td>\n",
       "      <td>0</td>\n",
       "      <td>0</td>\n",
       "      <td>0</td>\n",
       "      <td>0</td>\n",
       "      <td>1</td>\n",
       "    </tr>\n",
       "    <tr>\n",
       "      <th>101</th>\n",
       "      <td>7-Jun-07</td>\n",
       "      <td>13</td>\n",
       "      <td>-0.076923</td>\n",
       "      <td>0.615385</td>\n",
       "      <td>0</td>\n",
       "      <td>1</td>\n",
       "      <td>-1</td>\n",
       "      <td>0</td>\n",
       "      <td>1</td>\n",
       "      <td>0</td>\n",
       "      <td>1</td>\n",
       "    </tr>\n",
       "    <tr>\n",
       "      <th>102</th>\n",
       "      <td>6-Jun-07</td>\n",
       "      <td>17</td>\n",
       "      <td>0.176471</td>\n",
       "      <td>0.705882</td>\n",
       "      <td>1</td>\n",
       "      <td>0</td>\n",
       "      <td>0</td>\n",
       "      <td>0</td>\n",
       "      <td>0</td>\n",
       "      <td>0</td>\n",
       "      <td>1</td>\n",
       "    </tr>\n",
       "  </tbody>\n",
       "</table>\n",
       "<p>103 rows × 11 columns</p>\n",
       "</div>"
      ],
      "text/plain": [
       "          Date  interview length  Questions rating  Responses rating  \\\n",
       "0    11-Oct-20                 9          0.666667          0.777778   \n",
       "1     9-Oct-20                 8          0.250000          0.250000   \n",
       "2     8-Oct-20                10          0.600000          0.800000   \n",
       "3     6-Oct-20                11          0.727273          0.909091   \n",
       "4     5-Oct-20                 9          0.222222          0.777778   \n",
       "..         ...               ...               ...               ...   \n",
       "98   10-Jun-07                12          0.166667          0.583333   \n",
       "99    9-Jun-07                18          0.055556          0.277778   \n",
       "100   8-Jun-07                13          0.461538          0.384615   \n",
       "101   7-Jun-07                13         -0.076923          0.615385   \n",
       "102   6-Jun-07                17          0.176471          0.705882   \n",
       "\n",
       "     practice  game  win_prac_loss  win  loss  home  away  \n",
       "0           0     1              1    1     0     0     1  \n",
       "1           0     1             -1    0     1     0     1  \n",
       "2           1     0              0    0     0     0     1  \n",
       "3           0     1              1    1     0     0     1  \n",
       "4           1     0              0    0     0     0     1  \n",
       "..        ...   ...            ...  ...   ...   ...   ...  \n",
       "98          0     1             -1    0     1     0     1  \n",
       "99          1     0              0    0     0     0     1  \n",
       "100         1     0              0    0     0     0     1  \n",
       "101         0     1             -1    0     1     0     1  \n",
       "102         1     0              0    0     0     0     1  \n",
       "\n",
       "[103 rows x 11 columns]"
      ]
     },
     "execution_count": 82,
     "metadata": {},
     "output_type": "execute_result"
    }
   ],
   "source": [
    "df['away'] = (df['home'] == 0).astype(int)\n",
    "df"
   ]
  },
  {
   "cell_type": "code",
   "execution_count": 83,
   "id": "69da8eaf",
   "metadata": {},
   "outputs": [
    {
     "data": {
      "text/html": [
       "<div>\n",
       "<style scoped>\n",
       "    .dataframe tbody tr th:only-of-type {\n",
       "        vertical-align: middle;\n",
       "    }\n",
       "\n",
       "    .dataframe tbody tr th {\n",
       "        vertical-align: top;\n",
       "    }\n",
       "\n",
       "    .dataframe thead th {\n",
       "        text-align: right;\n",
       "    }\n",
       "</style>\n",
       "<table border=\"1\" class=\"dataframe\">\n",
       "  <thead>\n",
       "    <tr style=\"text-align: right;\">\n",
       "      <th></th>\n",
       "      <th>Date</th>\n",
       "      <th>interview length</th>\n",
       "      <th>Questions rating</th>\n",
       "      <th>Responses rating</th>\n",
       "      <th>practice</th>\n",
       "      <th>game</th>\n",
       "      <th>win_prac_loss</th>\n",
       "      <th>win</th>\n",
       "      <th>loss</th>\n",
       "      <th>home</th>\n",
       "      <th>away</th>\n",
       "    </tr>\n",
       "  </thead>\n",
       "  <tbody>\n",
       "    <tr>\n",
       "      <th>0</th>\n",
       "      <td>2020-10-11</td>\n",
       "      <td>9</td>\n",
       "      <td>0.666667</td>\n",
       "      <td>0.777778</td>\n",
       "      <td>0</td>\n",
       "      <td>1</td>\n",
       "      <td>1</td>\n",
       "      <td>1</td>\n",
       "      <td>0</td>\n",
       "      <td>0</td>\n",
       "      <td>1</td>\n",
       "    </tr>\n",
       "    <tr>\n",
       "      <th>1</th>\n",
       "      <td>2020-10-09</td>\n",
       "      <td>8</td>\n",
       "      <td>0.250000</td>\n",
       "      <td>0.250000</td>\n",
       "      <td>0</td>\n",
       "      <td>1</td>\n",
       "      <td>-1</td>\n",
       "      <td>0</td>\n",
       "      <td>1</td>\n",
       "      <td>0</td>\n",
       "      <td>1</td>\n",
       "    </tr>\n",
       "    <tr>\n",
       "      <th>2</th>\n",
       "      <td>2020-10-08</td>\n",
       "      <td>10</td>\n",
       "      <td>0.600000</td>\n",
       "      <td>0.800000</td>\n",
       "      <td>1</td>\n",
       "      <td>0</td>\n",
       "      <td>0</td>\n",
       "      <td>0</td>\n",
       "      <td>0</td>\n",
       "      <td>0</td>\n",
       "      <td>1</td>\n",
       "    </tr>\n",
       "    <tr>\n",
       "      <th>3</th>\n",
       "      <td>2020-10-06</td>\n",
       "      <td>11</td>\n",
       "      <td>0.727273</td>\n",
       "      <td>0.909091</td>\n",
       "      <td>0</td>\n",
       "      <td>1</td>\n",
       "      <td>1</td>\n",
       "      <td>1</td>\n",
       "      <td>0</td>\n",
       "      <td>0</td>\n",
       "      <td>1</td>\n",
       "    </tr>\n",
       "    <tr>\n",
       "      <th>4</th>\n",
       "      <td>2020-10-05</td>\n",
       "      <td>9</td>\n",
       "      <td>0.222222</td>\n",
       "      <td>0.777778</td>\n",
       "      <td>1</td>\n",
       "      <td>0</td>\n",
       "      <td>0</td>\n",
       "      <td>0</td>\n",
       "      <td>0</td>\n",
       "      <td>0</td>\n",
       "      <td>1</td>\n",
       "    </tr>\n",
       "    <tr>\n",
       "      <th>...</th>\n",
       "      <td>...</td>\n",
       "      <td>...</td>\n",
       "      <td>...</td>\n",
       "      <td>...</td>\n",
       "      <td>...</td>\n",
       "      <td>...</td>\n",
       "      <td>...</td>\n",
       "      <td>...</td>\n",
       "      <td>...</td>\n",
       "      <td>...</td>\n",
       "      <td>...</td>\n",
       "    </tr>\n",
       "    <tr>\n",
       "      <th>98</th>\n",
       "      <td>2007-06-10</td>\n",
       "      <td>12</td>\n",
       "      <td>0.166667</td>\n",
       "      <td>0.583333</td>\n",
       "      <td>0</td>\n",
       "      <td>1</td>\n",
       "      <td>-1</td>\n",
       "      <td>0</td>\n",
       "      <td>1</td>\n",
       "      <td>0</td>\n",
       "      <td>1</td>\n",
       "    </tr>\n",
       "    <tr>\n",
       "      <th>99</th>\n",
       "      <td>2007-06-09</td>\n",
       "      <td>18</td>\n",
       "      <td>0.055556</td>\n",
       "      <td>0.277778</td>\n",
       "      <td>1</td>\n",
       "      <td>0</td>\n",
       "      <td>0</td>\n",
       "      <td>0</td>\n",
       "      <td>0</td>\n",
       "      <td>0</td>\n",
       "      <td>1</td>\n",
       "    </tr>\n",
       "    <tr>\n",
       "      <th>100</th>\n",
       "      <td>2007-06-08</td>\n",
       "      <td>13</td>\n",
       "      <td>0.461538</td>\n",
       "      <td>0.384615</td>\n",
       "      <td>1</td>\n",
       "      <td>0</td>\n",
       "      <td>0</td>\n",
       "      <td>0</td>\n",
       "      <td>0</td>\n",
       "      <td>0</td>\n",
       "      <td>1</td>\n",
       "    </tr>\n",
       "    <tr>\n",
       "      <th>101</th>\n",
       "      <td>2007-06-07</td>\n",
       "      <td>13</td>\n",
       "      <td>-0.076923</td>\n",
       "      <td>0.615385</td>\n",
       "      <td>0</td>\n",
       "      <td>1</td>\n",
       "      <td>-1</td>\n",
       "      <td>0</td>\n",
       "      <td>1</td>\n",
       "      <td>0</td>\n",
       "      <td>1</td>\n",
       "    </tr>\n",
       "    <tr>\n",
       "      <th>102</th>\n",
       "      <td>2007-06-06</td>\n",
       "      <td>17</td>\n",
       "      <td>0.176471</td>\n",
       "      <td>0.705882</td>\n",
       "      <td>1</td>\n",
       "      <td>0</td>\n",
       "      <td>0</td>\n",
       "      <td>0</td>\n",
       "      <td>0</td>\n",
       "      <td>0</td>\n",
       "      <td>1</td>\n",
       "    </tr>\n",
       "  </tbody>\n",
       "</table>\n",
       "<p>103 rows × 11 columns</p>\n",
       "</div>"
      ],
      "text/plain": [
       "          Date  interview length  Questions rating  Responses rating  \\\n",
       "0   2020-10-11                 9          0.666667          0.777778   \n",
       "1   2020-10-09                 8          0.250000          0.250000   \n",
       "2   2020-10-08                10          0.600000          0.800000   \n",
       "3   2020-10-06                11          0.727273          0.909091   \n",
       "4   2020-10-05                 9          0.222222          0.777778   \n",
       "..         ...               ...               ...               ...   \n",
       "98  2007-06-10                12          0.166667          0.583333   \n",
       "99  2007-06-09                18          0.055556          0.277778   \n",
       "100 2007-06-08                13          0.461538          0.384615   \n",
       "101 2007-06-07                13         -0.076923          0.615385   \n",
       "102 2007-06-06                17          0.176471          0.705882   \n",
       "\n",
       "     practice  game  win_prac_loss  win  loss  home  away  \n",
       "0           0     1              1    1     0     0     1  \n",
       "1           0     1             -1    0     1     0     1  \n",
       "2           1     0              0    0     0     0     1  \n",
       "3           0     1              1    1     0     0     1  \n",
       "4           1     0              0    0     0     0     1  \n",
       "..        ...   ...            ...  ...   ...   ...   ...  \n",
       "98          0     1             -1    0     1     0     1  \n",
       "99          1     0              0    0     0     0     1  \n",
       "100         1     0              0    0     0     0     1  \n",
       "101         0     1             -1    0     1     0     1  \n",
       "102         1     0              0    0     0     0     1  \n",
       "\n",
       "[103 rows x 11 columns]"
      ]
     },
     "execution_count": 83,
     "metadata": {},
     "output_type": "execute_result"
    }
   ],
   "source": [
    "df['Date'] =  pd.to_datetime(df['Date'], infer_datetime_format = True)\n",
    "df"
   ]
  },
  {
   "cell_type": "code",
   "execution_count": 84,
   "id": "a6b537a2",
   "metadata": {},
   "outputs": [
    {
     "data": {
      "text/html": [
       "<div>\n",
       "<style scoped>\n",
       "    .dataframe tbody tr th:only-of-type {\n",
       "        vertical-align: middle;\n",
       "    }\n",
       "\n",
       "    .dataframe tbody tr th {\n",
       "        vertical-align: top;\n",
       "    }\n",
       "\n",
       "    .dataframe thead th {\n",
       "        text-align: right;\n",
       "    }\n",
       "</style>\n",
       "<table border=\"1\" class=\"dataframe\">\n",
       "  <thead>\n",
       "    <tr style=\"text-align: right;\">\n",
       "      <th></th>\n",
       "      <th>Date</th>\n",
       "      <th>interview length</th>\n",
       "      <th>Questions rating</th>\n",
       "      <th>Responses rating</th>\n",
       "      <th>practice</th>\n",
       "      <th>game</th>\n",
       "      <th>win_prac_loss</th>\n",
       "      <th>win</th>\n",
       "      <th>loss</th>\n",
       "      <th>home</th>\n",
       "      <th>away</th>\n",
       "    </tr>\n",
       "  </thead>\n",
       "  <tbody>\n",
       "    <tr>\n",
       "      <th>95</th>\n",
       "      <td>2007-06-14</td>\n",
       "      <td>11</td>\n",
       "      <td>0.363636</td>\n",
       "      <td>0.454545</td>\n",
       "      <td>0</td>\n",
       "      <td>1</td>\n",
       "      <td>-1</td>\n",
       "      <td>0</td>\n",
       "      <td>1</td>\n",
       "      <td>1</td>\n",
       "      <td>0</td>\n",
       "    </tr>\n",
       "    <tr>\n",
       "      <th>83</th>\n",
       "      <td>2011-06-12</td>\n",
       "      <td>17</td>\n",
       "      <td>-0.117647</td>\n",
       "      <td>0.470588</td>\n",
       "      <td>0</td>\n",
       "      <td>1</td>\n",
       "      <td>-1</td>\n",
       "      <td>0</td>\n",
       "      <td>1</td>\n",
       "      <td>1</td>\n",
       "      <td>0</td>\n",
       "    </tr>\n",
       "    <tr>\n",
       "      <th>73</th>\n",
       "      <td>2012-06-21</td>\n",
       "      <td>10</td>\n",
       "      <td>0.700000</td>\n",
       "      <td>1.000000</td>\n",
       "      <td>0</td>\n",
       "      <td>1</td>\n",
       "      <td>1</td>\n",
       "      <td>1</td>\n",
       "      <td>0</td>\n",
       "      <td>1</td>\n",
       "      <td>0</td>\n",
       "    </tr>\n",
       "    <tr>\n",
       "      <th>62</th>\n",
       "      <td>2013-06-20</td>\n",
       "      <td>11</td>\n",
       "      <td>0.545455</td>\n",
       "      <td>0.818182</td>\n",
       "      <td>0</td>\n",
       "      <td>1</td>\n",
       "      <td>1</td>\n",
       "      <td>1</td>\n",
       "      <td>0</td>\n",
       "      <td>1</td>\n",
       "      <td>0</td>\n",
       "    </tr>\n",
       "    <tr>\n",
       "      <th>52</th>\n",
       "      <td>2014-06-15</td>\n",
       "      <td>14</td>\n",
       "      <td>0.214286</td>\n",
       "      <td>0.428571</td>\n",
       "      <td>0</td>\n",
       "      <td>1</td>\n",
       "      <td>-1</td>\n",
       "      <td>0</td>\n",
       "      <td>1</td>\n",
       "      <td>0</td>\n",
       "      <td>1</td>\n",
       "    </tr>\n",
       "    <tr>\n",
       "      <th>41</th>\n",
       "      <td>2015-06-16</td>\n",
       "      <td>12</td>\n",
       "      <td>-0.083333</td>\n",
       "      <td>0.166667</td>\n",
       "      <td>0</td>\n",
       "      <td>1</td>\n",
       "      <td>-1</td>\n",
       "      <td>0</td>\n",
       "      <td>1</td>\n",
       "      <td>1</td>\n",
       "      <td>0</td>\n",
       "    </tr>\n",
       "    <tr>\n",
       "      <th>26</th>\n",
       "      <td>2016-06-19</td>\n",
       "      <td>12</td>\n",
       "      <td>0.583333</td>\n",
       "      <td>0.916667</td>\n",
       "      <td>0</td>\n",
       "      <td>1</td>\n",
       "      <td>1</td>\n",
       "      <td>1</td>\n",
       "      <td>0</td>\n",
       "      <td>0</td>\n",
       "      <td>1</td>\n",
       "    </tr>\n",
       "    <tr>\n",
       "      <th>17</th>\n",
       "      <td>2017-06-12</td>\n",
       "      <td>11</td>\n",
       "      <td>0.000000</td>\n",
       "      <td>0.363636</td>\n",
       "      <td>0</td>\n",
       "      <td>1</td>\n",
       "      <td>-1</td>\n",
       "      <td>0</td>\n",
       "      <td>1</td>\n",
       "      <td>0</td>\n",
       "      <td>1</td>\n",
       "    </tr>\n",
       "    <tr>\n",
       "      <th>9</th>\n",
       "      <td>2018-06-08</td>\n",
       "      <td>14</td>\n",
       "      <td>0.571429</td>\n",
       "      <td>0.285714</td>\n",
       "      <td>0</td>\n",
       "      <td>1</td>\n",
       "      <td>-1</td>\n",
       "      <td>0</td>\n",
       "      <td>1</td>\n",
       "      <td>1</td>\n",
       "      <td>0</td>\n",
       "    </tr>\n",
       "    <tr>\n",
       "      <th>0</th>\n",
       "      <td>2020-10-11</td>\n",
       "      <td>9</td>\n",
       "      <td>0.666667</td>\n",
       "      <td>0.777778</td>\n",
       "      <td>0</td>\n",
       "      <td>1</td>\n",
       "      <td>1</td>\n",
       "      <td>1</td>\n",
       "      <td>0</td>\n",
       "      <td>0</td>\n",
       "      <td>1</td>\n",
       "    </tr>\n",
       "  </tbody>\n",
       "</table>\n",
       "</div>"
      ],
      "text/plain": [
       "         Date  interview length  Questions rating  Responses rating  practice  \\\n",
       "95 2007-06-14                11          0.363636          0.454545         0   \n",
       "83 2011-06-12                17         -0.117647          0.470588         0   \n",
       "73 2012-06-21                10          0.700000          1.000000         0   \n",
       "62 2013-06-20                11          0.545455          0.818182         0   \n",
       "52 2014-06-15                14          0.214286          0.428571         0   \n",
       "41 2015-06-16                12         -0.083333          0.166667         0   \n",
       "26 2016-06-19                12          0.583333          0.916667         0   \n",
       "17 2017-06-12                11          0.000000          0.363636         0   \n",
       "9  2018-06-08                14          0.571429          0.285714         0   \n",
       "0  2020-10-11                 9          0.666667          0.777778         0   \n",
       "\n",
       "    game  win_prac_loss  win  loss  home  away  \n",
       "95     1             -1    0     1     1     0  \n",
       "83     1             -1    0     1     1     0  \n",
       "73     1              1    1     0     1     0  \n",
       "62     1              1    1     0     1     0  \n",
       "52     1             -1    0     1     0     1  \n",
       "41     1             -1    0     1     1     0  \n",
       "26     1              1    1     0     0     1  \n",
       "17     1             -1    0     1     0     1  \n",
       "9      1             -1    0     1     1     0  \n",
       "0      1              1    1     0     0     1  "
      ]
     },
     "execution_count": 84,
     "metadata": {},
     "output_type": "execute_result"
    }
   ],
   "source": [
    "##### last game of the series may have an impact on tone, let us consider this feature.\n",
    "seriesresult = []\n",
    "lastgos = df.loc[df.groupby(df['Date'].dt.year)['Date'].idxmax()]\n",
    "lastgos"
   ]
  },
  {
   "cell_type": "code",
   "execution_count": 85,
   "id": "12132ab1",
   "metadata": {},
   "outputs": [
    {
     "data": {
      "text/plain": [
       "Int64Index([95, 83, 73, 62, 52, 41, 26, 17, 9, 0], dtype='int64')"
      ]
     },
     "execution_count": 85,
     "metadata": {},
     "output_type": "execute_result"
    }
   ],
   "source": [
    "lastgos.index"
   ]
  },
  {
   "cell_type": "code",
   "execution_count": 86,
   "id": "ece722fb",
   "metadata": {},
   "outputs": [],
   "source": [
    "i = 0\n",
    "while i < 103:\n",
    "    if i in lastgos.index:\n",
    "        q = df.loc[i]\n",
    "        seriesresult.append(q['win_prac_loss'])\n",
    "        i+=1\n",
    "    else:\n",
    "        seriesresult.append(0)\n",
    "        i+=1"
   ]
  },
  {
   "cell_type": "code",
   "execution_count": 87,
   "id": "9072e8ea",
   "metadata": {},
   "outputs": [
    {
     "data": {
      "text/html": [
       "<div>\n",
       "<style scoped>\n",
       "    .dataframe tbody tr th:only-of-type {\n",
       "        vertical-align: middle;\n",
       "    }\n",
       "\n",
       "    .dataframe tbody tr th {\n",
       "        vertical-align: top;\n",
       "    }\n",
       "\n",
       "    .dataframe thead th {\n",
       "        text-align: right;\n",
       "    }\n",
       "</style>\n",
       "<table border=\"1\" class=\"dataframe\">\n",
       "  <thead>\n",
       "    <tr style=\"text-align: right;\">\n",
       "      <th></th>\n",
       "      <th>Date</th>\n",
       "      <th>interview length</th>\n",
       "      <th>Questions rating</th>\n",
       "      <th>Responses rating</th>\n",
       "      <th>practice</th>\n",
       "      <th>game</th>\n",
       "      <th>win_prac_loss</th>\n",
       "      <th>win</th>\n",
       "      <th>loss</th>\n",
       "      <th>home</th>\n",
       "      <th>away</th>\n",
       "      <th>series result</th>\n",
       "    </tr>\n",
       "  </thead>\n",
       "  <tbody>\n",
       "    <tr>\n",
       "      <th>0</th>\n",
       "      <td>2020-10-11</td>\n",
       "      <td>9</td>\n",
       "      <td>0.666667</td>\n",
       "      <td>0.777778</td>\n",
       "      <td>0</td>\n",
       "      <td>1</td>\n",
       "      <td>1</td>\n",
       "      <td>1</td>\n",
       "      <td>0</td>\n",
       "      <td>0</td>\n",
       "      <td>1</td>\n",
       "      <td>1</td>\n",
       "    </tr>\n",
       "    <tr>\n",
       "      <th>1</th>\n",
       "      <td>2020-10-09</td>\n",
       "      <td>8</td>\n",
       "      <td>0.250000</td>\n",
       "      <td>0.250000</td>\n",
       "      <td>0</td>\n",
       "      <td>1</td>\n",
       "      <td>-1</td>\n",
       "      <td>0</td>\n",
       "      <td>1</td>\n",
       "      <td>0</td>\n",
       "      <td>1</td>\n",
       "      <td>0</td>\n",
       "    </tr>\n",
       "    <tr>\n",
       "      <th>2</th>\n",
       "      <td>2020-10-08</td>\n",
       "      <td>10</td>\n",
       "      <td>0.600000</td>\n",
       "      <td>0.800000</td>\n",
       "      <td>1</td>\n",
       "      <td>0</td>\n",
       "      <td>0</td>\n",
       "      <td>0</td>\n",
       "      <td>0</td>\n",
       "      <td>0</td>\n",
       "      <td>1</td>\n",
       "      <td>0</td>\n",
       "    </tr>\n",
       "    <tr>\n",
       "      <th>3</th>\n",
       "      <td>2020-10-06</td>\n",
       "      <td>11</td>\n",
       "      <td>0.727273</td>\n",
       "      <td>0.909091</td>\n",
       "      <td>0</td>\n",
       "      <td>1</td>\n",
       "      <td>1</td>\n",
       "      <td>1</td>\n",
       "      <td>0</td>\n",
       "      <td>0</td>\n",
       "      <td>1</td>\n",
       "      <td>0</td>\n",
       "    </tr>\n",
       "    <tr>\n",
       "      <th>4</th>\n",
       "      <td>2020-10-05</td>\n",
       "      <td>9</td>\n",
       "      <td>0.222222</td>\n",
       "      <td>0.777778</td>\n",
       "      <td>1</td>\n",
       "      <td>0</td>\n",
       "      <td>0</td>\n",
       "      <td>0</td>\n",
       "      <td>0</td>\n",
       "      <td>0</td>\n",
       "      <td>1</td>\n",
       "      <td>0</td>\n",
       "    </tr>\n",
       "    <tr>\n",
       "      <th>...</th>\n",
       "      <td>...</td>\n",
       "      <td>...</td>\n",
       "      <td>...</td>\n",
       "      <td>...</td>\n",
       "      <td>...</td>\n",
       "      <td>...</td>\n",
       "      <td>...</td>\n",
       "      <td>...</td>\n",
       "      <td>...</td>\n",
       "      <td>...</td>\n",
       "      <td>...</td>\n",
       "      <td>...</td>\n",
       "    </tr>\n",
       "    <tr>\n",
       "      <th>98</th>\n",
       "      <td>2007-06-10</td>\n",
       "      <td>12</td>\n",
       "      <td>0.166667</td>\n",
       "      <td>0.583333</td>\n",
       "      <td>0</td>\n",
       "      <td>1</td>\n",
       "      <td>-1</td>\n",
       "      <td>0</td>\n",
       "      <td>1</td>\n",
       "      <td>0</td>\n",
       "      <td>1</td>\n",
       "      <td>0</td>\n",
       "    </tr>\n",
       "    <tr>\n",
       "      <th>99</th>\n",
       "      <td>2007-06-09</td>\n",
       "      <td>18</td>\n",
       "      <td>0.055556</td>\n",
       "      <td>0.277778</td>\n",
       "      <td>1</td>\n",
       "      <td>0</td>\n",
       "      <td>0</td>\n",
       "      <td>0</td>\n",
       "      <td>0</td>\n",
       "      <td>0</td>\n",
       "      <td>1</td>\n",
       "      <td>0</td>\n",
       "    </tr>\n",
       "    <tr>\n",
       "      <th>100</th>\n",
       "      <td>2007-06-08</td>\n",
       "      <td>13</td>\n",
       "      <td>0.461538</td>\n",
       "      <td>0.384615</td>\n",
       "      <td>1</td>\n",
       "      <td>0</td>\n",
       "      <td>0</td>\n",
       "      <td>0</td>\n",
       "      <td>0</td>\n",
       "      <td>0</td>\n",
       "      <td>1</td>\n",
       "      <td>0</td>\n",
       "    </tr>\n",
       "    <tr>\n",
       "      <th>101</th>\n",
       "      <td>2007-06-07</td>\n",
       "      <td>13</td>\n",
       "      <td>-0.076923</td>\n",
       "      <td>0.615385</td>\n",
       "      <td>0</td>\n",
       "      <td>1</td>\n",
       "      <td>-1</td>\n",
       "      <td>0</td>\n",
       "      <td>1</td>\n",
       "      <td>0</td>\n",
       "      <td>1</td>\n",
       "      <td>0</td>\n",
       "    </tr>\n",
       "    <tr>\n",
       "      <th>102</th>\n",
       "      <td>2007-06-06</td>\n",
       "      <td>17</td>\n",
       "      <td>0.176471</td>\n",
       "      <td>0.705882</td>\n",
       "      <td>1</td>\n",
       "      <td>0</td>\n",
       "      <td>0</td>\n",
       "      <td>0</td>\n",
       "      <td>0</td>\n",
       "      <td>0</td>\n",
       "      <td>1</td>\n",
       "      <td>0</td>\n",
       "    </tr>\n",
       "  </tbody>\n",
       "</table>\n",
       "<p>103 rows × 12 columns</p>\n",
       "</div>"
      ],
      "text/plain": [
       "          Date  interview length  Questions rating  Responses rating  \\\n",
       "0   2020-10-11                 9          0.666667          0.777778   \n",
       "1   2020-10-09                 8          0.250000          0.250000   \n",
       "2   2020-10-08                10          0.600000          0.800000   \n",
       "3   2020-10-06                11          0.727273          0.909091   \n",
       "4   2020-10-05                 9          0.222222          0.777778   \n",
       "..         ...               ...               ...               ...   \n",
       "98  2007-06-10                12          0.166667          0.583333   \n",
       "99  2007-06-09                18          0.055556          0.277778   \n",
       "100 2007-06-08                13          0.461538          0.384615   \n",
       "101 2007-06-07                13         -0.076923          0.615385   \n",
       "102 2007-06-06                17          0.176471          0.705882   \n",
       "\n",
       "     practice  game  win_prac_loss  win  loss  home  away  series result  \n",
       "0           0     1              1    1     0     0     1              1  \n",
       "1           0     1             -1    0     1     0     1              0  \n",
       "2           1     0              0    0     0     0     1              0  \n",
       "3           0     1              1    1     0     0     1              0  \n",
       "4           1     0              0    0     0     0     1              0  \n",
       "..        ...   ...            ...  ...   ...   ...   ...            ...  \n",
       "98          0     1             -1    0     1     0     1              0  \n",
       "99          1     0              0    0     0     0     1              0  \n",
       "100         1     0              0    0     0     0     1              0  \n",
       "101         0     1             -1    0     1     0     1              0  \n",
       "102         1     0              0    0     0     0     1              0  \n",
       "\n",
       "[103 rows x 12 columns]"
      ]
     },
     "execution_count": 87,
     "metadata": {},
     "output_type": "execute_result"
    }
   ],
   "source": [
    "df['series result'] = seriesresult\n",
    "df"
   ]
  },
  {
   "cell_type": "markdown",
   "id": "c209912f",
   "metadata": {},
   "source": [
    "#### Depending on how the series is going, one loss may have a larger impact on tone than another. Let us consider the cumulative wins and losses in a series."
   ]
  },
  {
   "cell_type": "code",
   "execution_count": 88,
   "id": "0d1deecb",
   "metadata": {
    "scrolled": true
   },
   "outputs": [
    {
     "data": {
      "text/html": [
       "<div>\n",
       "<style scoped>\n",
       "    .dataframe tbody tr th:only-of-type {\n",
       "        vertical-align: middle;\n",
       "    }\n",
       "\n",
       "    .dataframe tbody tr th {\n",
       "        vertical-align: top;\n",
       "    }\n",
       "\n",
       "    .dataframe thead th {\n",
       "        text-align: right;\n",
       "    }\n",
       "</style>\n",
       "<table border=\"1\" class=\"dataframe\">\n",
       "  <thead>\n",
       "    <tr style=\"text-align: right;\">\n",
       "      <th></th>\n",
       "      <th>Date</th>\n",
       "      <th>interview length</th>\n",
       "      <th>Questions rating</th>\n",
       "      <th>Responses rating</th>\n",
       "      <th>practice</th>\n",
       "      <th>game</th>\n",
       "      <th>win_prac_loss</th>\n",
       "      <th>win</th>\n",
       "      <th>loss</th>\n",
       "      <th>home</th>\n",
       "      <th>away</th>\n",
       "      <th>series result</th>\n",
       "      <th>cumulative wins</th>\n",
       "      <th>cumulative losses</th>\n",
       "    </tr>\n",
       "  </thead>\n",
       "  <tbody>\n",
       "    <tr>\n",
       "      <th>0</th>\n",
       "      <td>2020-10-11</td>\n",
       "      <td>9</td>\n",
       "      <td>0.666667</td>\n",
       "      <td>0.777778</td>\n",
       "      <td>0</td>\n",
       "      <td>1</td>\n",
       "      <td>1</td>\n",
       "      <td>1</td>\n",
       "      <td>0</td>\n",
       "      <td>0</td>\n",
       "      <td>1</td>\n",
       "      <td>1</td>\n",
       "      <td>4</td>\n",
       "      <td>2</td>\n",
       "    </tr>\n",
       "    <tr>\n",
       "      <th>1</th>\n",
       "      <td>2020-10-09</td>\n",
       "      <td>8</td>\n",
       "      <td>0.250000</td>\n",
       "      <td>0.250000</td>\n",
       "      <td>0</td>\n",
       "      <td>1</td>\n",
       "      <td>-1</td>\n",
       "      <td>0</td>\n",
       "      <td>1</td>\n",
       "      <td>0</td>\n",
       "      <td>1</td>\n",
       "      <td>0</td>\n",
       "      <td>3</td>\n",
       "      <td>2</td>\n",
       "    </tr>\n",
       "    <tr>\n",
       "      <th>2</th>\n",
       "      <td>2020-10-08</td>\n",
       "      <td>10</td>\n",
       "      <td>0.600000</td>\n",
       "      <td>0.800000</td>\n",
       "      <td>1</td>\n",
       "      <td>0</td>\n",
       "      <td>0</td>\n",
       "      <td>0</td>\n",
       "      <td>0</td>\n",
       "      <td>0</td>\n",
       "      <td>1</td>\n",
       "      <td>0</td>\n",
       "      <td>3</td>\n",
       "      <td>1</td>\n",
       "    </tr>\n",
       "    <tr>\n",
       "      <th>3</th>\n",
       "      <td>2020-10-06</td>\n",
       "      <td>11</td>\n",
       "      <td>0.727273</td>\n",
       "      <td>0.909091</td>\n",
       "      <td>0</td>\n",
       "      <td>1</td>\n",
       "      <td>1</td>\n",
       "      <td>1</td>\n",
       "      <td>0</td>\n",
       "      <td>0</td>\n",
       "      <td>1</td>\n",
       "      <td>0</td>\n",
       "      <td>3</td>\n",
       "      <td>1</td>\n",
       "    </tr>\n",
       "    <tr>\n",
       "      <th>4</th>\n",
       "      <td>2020-10-05</td>\n",
       "      <td>9</td>\n",
       "      <td>0.222222</td>\n",
       "      <td>0.777778</td>\n",
       "      <td>1</td>\n",
       "      <td>0</td>\n",
       "      <td>0</td>\n",
       "      <td>0</td>\n",
       "      <td>0</td>\n",
       "      <td>0</td>\n",
       "      <td>1</td>\n",
       "      <td>0</td>\n",
       "      <td>2</td>\n",
       "      <td>1</td>\n",
       "    </tr>\n",
       "    <tr>\n",
       "      <th>...</th>\n",
       "      <td>...</td>\n",
       "      <td>...</td>\n",
       "      <td>...</td>\n",
       "      <td>...</td>\n",
       "      <td>...</td>\n",
       "      <td>...</td>\n",
       "      <td>...</td>\n",
       "      <td>...</td>\n",
       "      <td>...</td>\n",
       "      <td>...</td>\n",
       "      <td>...</td>\n",
       "      <td>...</td>\n",
       "      <td>...</td>\n",
       "      <td>...</td>\n",
       "    </tr>\n",
       "    <tr>\n",
       "      <th>98</th>\n",
       "      <td>2007-06-10</td>\n",
       "      <td>12</td>\n",
       "      <td>0.166667</td>\n",
       "      <td>0.583333</td>\n",
       "      <td>0</td>\n",
       "      <td>1</td>\n",
       "      <td>-1</td>\n",
       "      <td>0</td>\n",
       "      <td>1</td>\n",
       "      <td>0</td>\n",
       "      <td>1</td>\n",
       "      <td>0</td>\n",
       "      <td>0</td>\n",
       "      <td>2</td>\n",
       "    </tr>\n",
       "    <tr>\n",
       "      <th>99</th>\n",
       "      <td>2007-06-09</td>\n",
       "      <td>18</td>\n",
       "      <td>0.055556</td>\n",
       "      <td>0.277778</td>\n",
       "      <td>1</td>\n",
       "      <td>0</td>\n",
       "      <td>0</td>\n",
       "      <td>0</td>\n",
       "      <td>0</td>\n",
       "      <td>0</td>\n",
       "      <td>1</td>\n",
       "      <td>0</td>\n",
       "      <td>0</td>\n",
       "      <td>1</td>\n",
       "    </tr>\n",
       "    <tr>\n",
       "      <th>100</th>\n",
       "      <td>2007-06-08</td>\n",
       "      <td>13</td>\n",
       "      <td>0.461538</td>\n",
       "      <td>0.384615</td>\n",
       "      <td>1</td>\n",
       "      <td>0</td>\n",
       "      <td>0</td>\n",
       "      <td>0</td>\n",
       "      <td>0</td>\n",
       "      <td>0</td>\n",
       "      <td>1</td>\n",
       "      <td>0</td>\n",
       "      <td>0</td>\n",
       "      <td>1</td>\n",
       "    </tr>\n",
       "    <tr>\n",
       "      <th>101</th>\n",
       "      <td>2007-06-07</td>\n",
       "      <td>13</td>\n",
       "      <td>-0.076923</td>\n",
       "      <td>0.615385</td>\n",
       "      <td>0</td>\n",
       "      <td>1</td>\n",
       "      <td>-1</td>\n",
       "      <td>0</td>\n",
       "      <td>1</td>\n",
       "      <td>0</td>\n",
       "      <td>1</td>\n",
       "      <td>0</td>\n",
       "      <td>0</td>\n",
       "      <td>1</td>\n",
       "    </tr>\n",
       "    <tr>\n",
       "      <th>102</th>\n",
       "      <td>2007-06-06</td>\n",
       "      <td>17</td>\n",
       "      <td>0.176471</td>\n",
       "      <td>0.705882</td>\n",
       "      <td>1</td>\n",
       "      <td>0</td>\n",
       "      <td>0</td>\n",
       "      <td>0</td>\n",
       "      <td>0</td>\n",
       "      <td>0</td>\n",
       "      <td>1</td>\n",
       "      <td>0</td>\n",
       "      <td>0</td>\n",
       "      <td>0</td>\n",
       "    </tr>\n",
       "  </tbody>\n",
       "</table>\n",
       "<p>103 rows × 14 columns</p>\n",
       "</div>"
      ],
      "text/plain": [
       "          Date  interview length  Questions rating  Responses rating  \\\n",
       "0   2020-10-11                 9          0.666667          0.777778   \n",
       "1   2020-10-09                 8          0.250000          0.250000   \n",
       "2   2020-10-08                10          0.600000          0.800000   \n",
       "3   2020-10-06                11          0.727273          0.909091   \n",
       "4   2020-10-05                 9          0.222222          0.777778   \n",
       "..         ...               ...               ...               ...   \n",
       "98  2007-06-10                12          0.166667          0.583333   \n",
       "99  2007-06-09                18          0.055556          0.277778   \n",
       "100 2007-06-08                13          0.461538          0.384615   \n",
       "101 2007-06-07                13         -0.076923          0.615385   \n",
       "102 2007-06-06                17          0.176471          0.705882   \n",
       "\n",
       "     practice  game  win_prac_loss  win  loss  home  away  series result  \\\n",
       "0           0     1              1    1     0     0     1              1   \n",
       "1           0     1             -1    0     1     0     1              0   \n",
       "2           1     0              0    0     0     0     1              0   \n",
       "3           0     1              1    1     0     0     1              0   \n",
       "4           1     0              0    0     0     0     1              0   \n",
       "..        ...   ...            ...  ...   ...   ...   ...            ...   \n",
       "98          0     1             -1    0     1     0     1              0   \n",
       "99          1     0              0    0     0     0     1              0   \n",
       "100         1     0              0    0     0     0     1              0   \n",
       "101         0     1             -1    0     1     0     1              0   \n",
       "102         1     0              0    0     0     0     1              0   \n",
       "\n",
       "     cumulative wins  cumulative losses  \n",
       "0                  4                  2  \n",
       "1                  3                  2  \n",
       "2                  3                  1  \n",
       "3                  3                  1  \n",
       "4                  2                  1  \n",
       "..               ...                ...  \n",
       "98                 0                  2  \n",
       "99                 0                  1  \n",
       "100                0                  1  \n",
       "101                0                  1  \n",
       "102                0                  0  \n",
       "\n",
       "[103 rows x 14 columns]"
      ]
     },
     "execution_count": 88,
     "metadata": {},
     "output_type": "execute_result"
    }
   ],
   "source": [
    "cwins = df.groupby(pd.Grouper(key='Date', axis=0, freq='1Y'))['win'].cumsum()\n",
    "closs = df.groupby(pd.Grouper(key='Date', axis=0, freq='1Y'))['loss'].cumsum()\n",
    "df['cumulative wins'] = cwins\n",
    "df['cumulative losses'] = closs\n",
    "df"
   ]
  },
  {
   "cell_type": "code",
   "execution_count": 89,
   "id": "2b8c6bca",
   "metadata": {},
   "outputs": [],
   "source": [
    "df.to_csv('Interview_analysis_final.csv', index = False)"
   ]
  },
  {
   "cell_type": "code",
   "execution_count": 90,
   "id": "cb5927c9",
   "metadata": {
    "scrolled": true
   },
   "outputs": [
    {
     "data": {
      "text/html": [
       "<div>\n",
       "<style scoped>\n",
       "    .dataframe tbody tr th:only-of-type {\n",
       "        vertical-align: middle;\n",
       "    }\n",
       "\n",
       "    .dataframe tbody tr th {\n",
       "        vertical-align: top;\n",
       "    }\n",
       "\n",
       "    .dataframe thead th {\n",
       "        text-align: right;\n",
       "    }\n",
       "</style>\n",
       "<table border=\"1\" class=\"dataframe\">\n",
       "  <thead>\n",
       "    <tr style=\"text-align: right;\">\n",
       "      <th></th>\n",
       "      <th>interview length</th>\n",
       "      <th>Questions rating</th>\n",
       "      <th>Responses rating</th>\n",
       "      <th>practice</th>\n",
       "      <th>game</th>\n",
       "      <th>win_prac_loss</th>\n",
       "      <th>win</th>\n",
       "      <th>loss</th>\n",
       "      <th>home</th>\n",
       "      <th>away</th>\n",
       "      <th>series result</th>\n",
       "      <th>cumulative wins</th>\n",
       "      <th>cumulative losses</th>\n",
       "    </tr>\n",
       "  </thead>\n",
       "  <tbody>\n",
       "    <tr>\n",
       "      <th>count</th>\n",
       "      <td>103.000000</td>\n",
       "      <td>103.000000</td>\n",
       "      <td>103.000000</td>\n",
       "      <td>103.000000</td>\n",
       "      <td>103.000000</td>\n",
       "      <td>103.000000</td>\n",
       "      <td>103.000000</td>\n",
       "      <td>103.000000</td>\n",
       "      <td>103.000000</td>\n",
       "      <td>103.000000</td>\n",
       "      <td>103.000000</td>\n",
       "      <td>103.000000</td>\n",
       "      <td>103.000000</td>\n",
       "    </tr>\n",
       "    <tr>\n",
       "      <th>mean</th>\n",
       "      <td>13.543689</td>\n",
       "      <td>0.252095</td>\n",
       "      <td>0.584845</td>\n",
       "      <td>0.485437</td>\n",
       "      <td>0.514563</td>\n",
       "      <td>-0.087379</td>\n",
       "      <td>0.213592</td>\n",
       "      <td>0.300971</td>\n",
       "      <td>0.417476</td>\n",
       "      <td>0.582524</td>\n",
       "      <td>-0.019417</td>\n",
       "      <td>1.087379</td>\n",
       "      <td>1.572816</td>\n",
       "    </tr>\n",
       "    <tr>\n",
       "      <th>std</th>\n",
       "      <td>3.541841</td>\n",
       "      <td>0.230707</td>\n",
       "      <td>0.210398</td>\n",
       "      <td>0.502232</td>\n",
       "      <td>0.502232</td>\n",
       "      <td>0.715470</td>\n",
       "      <td>0.411846</td>\n",
       "      <td>0.460923</td>\n",
       "      <td>0.495554</td>\n",
       "      <td>0.495554</td>\n",
       "      <td>0.312504</td>\n",
       "      <td>1.164060</td>\n",
       "      <td>1.062756</td>\n",
       "    </tr>\n",
       "    <tr>\n",
       "      <th>min</th>\n",
       "      <td>6.000000</td>\n",
       "      <td>-0.250000</td>\n",
       "      <td>0.000000</td>\n",
       "      <td>0.000000</td>\n",
       "      <td>0.000000</td>\n",
       "      <td>-1.000000</td>\n",
       "      <td>0.000000</td>\n",
       "      <td>0.000000</td>\n",
       "      <td>0.000000</td>\n",
       "      <td>0.000000</td>\n",
       "      <td>-1.000000</td>\n",
       "      <td>0.000000</td>\n",
       "      <td>0.000000</td>\n",
       "    </tr>\n",
       "    <tr>\n",
       "      <th>25%</th>\n",
       "      <td>11.000000</td>\n",
       "      <td>0.069048</td>\n",
       "      <td>0.449495</td>\n",
       "      <td>0.000000</td>\n",
       "      <td>0.000000</td>\n",
       "      <td>-1.000000</td>\n",
       "      <td>0.000000</td>\n",
       "      <td>0.000000</td>\n",
       "      <td>0.000000</td>\n",
       "      <td>0.000000</td>\n",
       "      <td>0.000000</td>\n",
       "      <td>0.000000</td>\n",
       "      <td>1.000000</td>\n",
       "    </tr>\n",
       "    <tr>\n",
       "      <th>50%</th>\n",
       "      <td>13.000000</td>\n",
       "      <td>0.222222</td>\n",
       "      <td>0.600000</td>\n",
       "      <td>0.000000</td>\n",
       "      <td>1.000000</td>\n",
       "      <td>0.000000</td>\n",
       "      <td>0.000000</td>\n",
       "      <td>0.000000</td>\n",
       "      <td>0.000000</td>\n",
       "      <td>1.000000</td>\n",
       "      <td>0.000000</td>\n",
       "      <td>1.000000</td>\n",
       "      <td>1.000000</td>\n",
       "    </tr>\n",
       "    <tr>\n",
       "      <th>75%</th>\n",
       "      <td>16.000000</td>\n",
       "      <td>0.408333</td>\n",
       "      <td>0.777778</td>\n",
       "      <td>1.000000</td>\n",
       "      <td>1.000000</td>\n",
       "      <td>0.000000</td>\n",
       "      <td>0.000000</td>\n",
       "      <td>1.000000</td>\n",
       "      <td>1.000000</td>\n",
       "      <td>1.000000</td>\n",
       "      <td>0.000000</td>\n",
       "      <td>2.000000</td>\n",
       "      <td>2.000000</td>\n",
       "    </tr>\n",
       "    <tr>\n",
       "      <th>max</th>\n",
       "      <td>23.000000</td>\n",
       "      <td>0.727273</td>\n",
       "      <td>1.000000</td>\n",
       "      <td>1.000000</td>\n",
       "      <td>1.000000</td>\n",
       "      <td>1.000000</td>\n",
       "      <td>1.000000</td>\n",
       "      <td>1.000000</td>\n",
       "      <td>1.000000</td>\n",
       "      <td>1.000000</td>\n",
       "      <td>1.000000</td>\n",
       "      <td>4.000000</td>\n",
       "      <td>4.000000</td>\n",
       "    </tr>\n",
       "  </tbody>\n",
       "</table>\n",
       "</div>"
      ],
      "text/plain": [
       "       interview length  Questions rating  Responses rating    practice  \\\n",
       "count        103.000000        103.000000        103.000000  103.000000   \n",
       "mean          13.543689          0.252095          0.584845    0.485437   \n",
       "std            3.541841          0.230707          0.210398    0.502232   \n",
       "min            6.000000         -0.250000          0.000000    0.000000   \n",
       "25%           11.000000          0.069048          0.449495    0.000000   \n",
       "50%           13.000000          0.222222          0.600000    0.000000   \n",
       "75%           16.000000          0.408333          0.777778    1.000000   \n",
       "max           23.000000          0.727273          1.000000    1.000000   \n",
       "\n",
       "             game  win_prac_loss         win        loss        home  \\\n",
       "count  103.000000     103.000000  103.000000  103.000000  103.000000   \n",
       "mean     0.514563      -0.087379    0.213592    0.300971    0.417476   \n",
       "std      0.502232       0.715470    0.411846    0.460923    0.495554   \n",
       "min      0.000000      -1.000000    0.000000    0.000000    0.000000   \n",
       "25%      0.000000      -1.000000    0.000000    0.000000    0.000000   \n",
       "50%      1.000000       0.000000    0.000000    0.000000    0.000000   \n",
       "75%      1.000000       0.000000    0.000000    1.000000    1.000000   \n",
       "max      1.000000       1.000000    1.000000    1.000000    1.000000   \n",
       "\n",
       "             away  series result  cumulative wins  cumulative losses  \n",
       "count  103.000000     103.000000       103.000000         103.000000  \n",
       "mean     0.582524      -0.019417         1.087379           1.572816  \n",
       "std      0.495554       0.312504         1.164060           1.062756  \n",
       "min      0.000000      -1.000000         0.000000           0.000000  \n",
       "25%      0.000000       0.000000         0.000000           1.000000  \n",
       "50%      1.000000       0.000000         1.000000           1.000000  \n",
       "75%      1.000000       0.000000         2.000000           2.000000  \n",
       "max      1.000000       1.000000         4.000000           4.000000  "
      ]
     },
     "execution_count": 90,
     "metadata": {},
     "output_type": "execute_result"
    }
   ],
   "source": [
    "df.describe()"
   ]
  },
  {
   "cell_type": "markdown",
   "id": "d49e79c6",
   "metadata": {},
   "source": [
    "### Multivariate Regression"
   ]
  },
  {
   "cell_type": "markdown",
   "id": "a288868f",
   "metadata": {},
   "source": [
    "##### we begin by running a regression utilizing all features available (while avoiding multicollinearity)"
   ]
  },
  {
   "cell_type": "code",
   "execution_count": 91,
   "id": "3fc03910",
   "metadata": {},
   "outputs": [],
   "source": [
    "y = df['Responses rating']\n",
    "x1 = df[['interview length', 'Questions rating', 'win', 'loss', 'home', 'series result', 'cumulative wins', 'cumulative losses']]"
   ]
  },
  {
   "cell_type": "code",
   "execution_count": 92,
   "id": "27332a26",
   "metadata": {
    "scrolled": true
   },
   "outputs": [
    {
     "data": {
      "text/html": [
       "<table class=\"simpletable\">\n",
       "<caption>OLS Regression Results</caption>\n",
       "<tr>\n",
       "  <th>Dep. Variable:</th>    <td>Responses rating</td> <th>  R-squared:         </th> <td>   0.481</td>\n",
       "</tr>\n",
       "<tr>\n",
       "  <th>Model:</th>                   <td>OLS</td>       <th>  Adj. R-squared:    </th> <td>   0.437</td>\n",
       "</tr>\n",
       "<tr>\n",
       "  <th>Method:</th>             <td>Least Squares</td>  <th>  F-statistic:       </th> <td>   10.90</td>\n",
       "</tr>\n",
       "<tr>\n",
       "  <th>Date:</th>             <td>Tue, 02 May 2023</td> <th>  Prob (F-statistic):</th> <td>9.39e-11</td>\n",
       "</tr>\n",
       "<tr>\n",
       "  <th>Time:</th>                 <td>17:39:46</td>     <th>  Log-Likelihood:    </th> <td>  48.703</td>\n",
       "</tr>\n",
       "<tr>\n",
       "  <th>No. Observations:</th>      <td>   103</td>      <th>  AIC:               </th> <td>  -79.41</td>\n",
       "</tr>\n",
       "<tr>\n",
       "  <th>Df Residuals:</th>          <td>    94</td>      <th>  BIC:               </th> <td>  -55.69</td>\n",
       "</tr>\n",
       "<tr>\n",
       "  <th>Df Model:</th>              <td>     8</td>      <th>                     </th>     <td> </td>   \n",
       "</tr>\n",
       "<tr>\n",
       "  <th>Covariance Type:</th>      <td>nonrobust</td>    <th>                     </th>     <td> </td>   \n",
       "</tr>\n",
       "</table>\n",
       "<table class=\"simpletable\">\n",
       "<tr>\n",
       "          <td></td>             <th>coef</th>     <th>std err</th>      <th>t</th>      <th>P>|t|</th>  <th>[0.025</th>    <th>0.975]</th>  \n",
       "</tr>\n",
       "<tr>\n",
       "  <th>const</th>             <td>    0.5309</td> <td>    0.075</td> <td>    7.110</td> <td> 0.000</td> <td>    0.383</td> <td>    0.679</td>\n",
       "</tr>\n",
       "<tr>\n",
       "  <th>interview length</th>  <td>    0.0013</td> <td>    0.005</td> <td>    0.254</td> <td> 0.800</td> <td>   -0.009</td> <td>    0.011</td>\n",
       "</tr>\n",
       "<tr>\n",
       "  <th>Questions rating</th>  <td>    0.2099</td> <td>    0.085</td> <td>    2.460</td> <td> 0.016</td> <td>    0.041</td> <td>    0.379</td>\n",
       "</tr>\n",
       "<tr>\n",
       "  <th>win</th>               <td>    0.0733</td> <td>    0.050</td> <td>    1.457</td> <td> 0.148</td> <td>   -0.027</td> <td>    0.173</td>\n",
       "</tr>\n",
       "<tr>\n",
       "  <th>loss</th>              <td>   -0.1437</td> <td>    0.045</td> <td>   -3.162</td> <td> 0.002</td> <td>   -0.234</td> <td>   -0.053</td>\n",
       "</tr>\n",
       "<tr>\n",
       "  <th>home</th>              <td>    0.0188</td> <td>    0.033</td> <td>    0.561</td> <td> 0.576</td> <td>   -0.048</td> <td>    0.085</td>\n",
       "</tr>\n",
       "<tr>\n",
       "  <th>series result</th>     <td>    0.0379</td> <td>    0.061</td> <td>    0.623</td> <td> 0.535</td> <td>   -0.083</td> <td>    0.159</td>\n",
       "</tr>\n",
       "<tr>\n",
       "  <th>cumulative wins</th>   <td>    0.0330</td> <td>    0.018</td> <td>    1.865</td> <td> 0.065</td> <td>   -0.002</td> <td>    0.068</td>\n",
       "</tr>\n",
       "<tr>\n",
       "  <th>cumulative losses</th> <td>   -0.0200</td> <td>    0.021</td> <td>   -0.971</td> <td> 0.334</td> <td>   -0.061</td> <td>    0.021</td>\n",
       "</tr>\n",
       "</table>\n",
       "<table class=\"simpletable\">\n",
       "<tr>\n",
       "  <th>Omnibus:</th>       <td> 2.058</td> <th>  Durbin-Watson:     </th> <td>   2.181</td>\n",
       "</tr>\n",
       "<tr>\n",
       "  <th>Prob(Omnibus):</th> <td> 0.357</td> <th>  Jarque-Bera (JB):  </th> <td>   2.039</td>\n",
       "</tr>\n",
       "<tr>\n",
       "  <th>Skew:</th>          <td>-0.282</td> <th>  Prob(JB):          </th> <td>   0.361</td>\n",
       "</tr>\n",
       "<tr>\n",
       "  <th>Kurtosis:</th>      <td> 2.602</td> <th>  Cond. No.          </th> <td>    88.3</td>\n",
       "</tr>\n",
       "</table><br/><br/>Notes:<br/>[1] Standard Errors assume that the covariance matrix of the errors is correctly specified."
      ],
      "text/plain": [
       "<class 'statsmodels.iolib.summary.Summary'>\n",
       "\"\"\"\n",
       "                            OLS Regression Results                            \n",
       "==============================================================================\n",
       "Dep. Variable:       Responses rating   R-squared:                       0.481\n",
       "Model:                            OLS   Adj. R-squared:                  0.437\n",
       "Method:                 Least Squares   F-statistic:                     10.90\n",
       "Date:                Tue, 02 May 2023   Prob (F-statistic):           9.39e-11\n",
       "Time:                        17:39:46   Log-Likelihood:                 48.703\n",
       "No. Observations:                 103   AIC:                            -79.41\n",
       "Df Residuals:                      94   BIC:                            -55.69\n",
       "Df Model:                           8                                         \n",
       "Covariance Type:            nonrobust                                         \n",
       "=====================================================================================\n",
       "                        coef    std err          t      P>|t|      [0.025      0.975]\n",
       "-------------------------------------------------------------------------------------\n",
       "const                 0.5309      0.075      7.110      0.000       0.383       0.679\n",
       "interview length      0.0013      0.005      0.254      0.800      -0.009       0.011\n",
       "Questions rating      0.2099      0.085      2.460      0.016       0.041       0.379\n",
       "win                   0.0733      0.050      1.457      0.148      -0.027       0.173\n",
       "loss                 -0.1437      0.045     -3.162      0.002      -0.234      -0.053\n",
       "home                  0.0188      0.033      0.561      0.576      -0.048       0.085\n",
       "series result         0.0379      0.061      0.623      0.535      -0.083       0.159\n",
       "cumulative wins       0.0330      0.018      1.865      0.065      -0.002       0.068\n",
       "cumulative losses    -0.0200      0.021     -0.971      0.334      -0.061       0.021\n",
       "==============================================================================\n",
       "Omnibus:                        2.058   Durbin-Watson:                   2.181\n",
       "Prob(Omnibus):                  0.357   Jarque-Bera (JB):                2.039\n",
       "Skew:                          -0.282   Prob(JB):                        0.361\n",
       "Kurtosis:                       2.602   Cond. No.                         88.3\n",
       "==============================================================================\n",
       "\n",
       "Notes:\n",
       "[1] Standard Errors assume that the covariance matrix of the errors is correctly specified.\n",
       "\"\"\""
      ]
     },
     "execution_count": 92,
     "metadata": {},
     "output_type": "execute_result"
    }
   ],
   "source": [
    "x = sm.add_constant(x1)\n",
    "results = sm.OLS(y,x).fit()\n",
    "results.summary()"
   ]
  },
  {
   "cell_type": "code",
   "execution_count": 95,
   "id": "4480c7d1",
   "metadata": {},
   "outputs": [],
   "source": [
    "y = df['Responses rating']\n",
    "x1 = df[['Questions rating','win', 'loss', 'cumulative wins', 'cumulative losses']]"
   ]
  },
  {
   "cell_type": "code",
   "execution_count": 97,
   "id": "c8eef749",
   "metadata": {},
   "outputs": [
    {
     "data": {
      "text/html": [
       "<table class=\"simpletable\">\n",
       "<caption>OLS Regression Results</caption>\n",
       "<tr>\n",
       "  <th>Dep. Variable:</th>    <td>Responses rating</td> <th>  R-squared:         </th> <td>   0.477</td>\n",
       "</tr>\n",
       "<tr>\n",
       "  <th>Model:</th>                   <td>OLS</td>       <th>  Adj. R-squared:    </th> <td>   0.450</td>\n",
       "</tr>\n",
       "<tr>\n",
       "  <th>Method:</th>             <td>Least Squares</td>  <th>  F-statistic:       </th> <td>   17.69</td>\n",
       "</tr>\n",
       "<tr>\n",
       "  <th>Date:</th>             <td>Tue, 02 May 2023</td> <th>  Prob (F-statistic):</th> <td>2.00e-12</td>\n",
       "</tr>\n",
       "<tr>\n",
       "  <th>Time:</th>                 <td>17:40:54</td>     <th>  Log-Likelihood:    </th> <td>  48.285</td>\n",
       "</tr>\n",
       "<tr>\n",
       "  <th>No. Observations:</th>      <td>   103</td>      <th>  AIC:               </th> <td>  -84.57</td>\n",
       "</tr>\n",
       "<tr>\n",
       "  <th>Df Residuals:</th>          <td>    97</td>      <th>  BIC:               </th> <td>  -68.76</td>\n",
       "</tr>\n",
       "<tr>\n",
       "  <th>Df Model:</th>              <td>     5</td>      <th>                     </th>     <td> </td>   \n",
       "</tr>\n",
       "<tr>\n",
       "  <th>Covariance Type:</th>      <td>nonrobust</td>    <th>                     </th>     <td> </td>   \n",
       "</tr>\n",
       "</table>\n",
       "<table class=\"simpletable\">\n",
       "<tr>\n",
       "          <td></td>             <th>coef</th>     <th>std err</th>      <th>t</th>      <th>P>|t|</th>  <th>[0.025</th>    <th>0.975]</th>  \n",
       "</tr>\n",
       "<tr>\n",
       "  <th>const</th>             <td>    0.5523</td> <td>    0.035</td> <td>   16.005</td> <td> 0.000</td> <td>    0.484</td> <td>    0.621</td>\n",
       "</tr>\n",
       "<tr>\n",
       "  <th>Questions rating</th>  <td>    0.2138</td> <td>    0.083</td> <td>    2.561</td> <td> 0.012</td> <td>    0.048</td> <td>    0.379</td>\n",
       "</tr>\n",
       "<tr>\n",
       "  <th>win</th>               <td>    0.0770</td> <td>    0.050</td> <td>    1.554</td> <td> 0.123</td> <td>   -0.021</td> <td>    0.175</td>\n",
       "</tr>\n",
       "<tr>\n",
       "  <th>loss</th>              <td>   -0.1529</td> <td>    0.041</td> <td>   -3.725</td> <td> 0.000</td> <td>   -0.234</td> <td>   -0.071</td>\n",
       "</tr>\n",
       "<tr>\n",
       "  <th>cumulative wins</th>   <td>    0.0353</td> <td>    0.016</td> <td>    2.169</td> <td> 0.033</td> <td>    0.003</td> <td>    0.068</td>\n",
       "</tr>\n",
       "<tr>\n",
       "  <th>cumulative losses</th> <td>   -0.0192</td> <td>    0.017</td> <td>   -1.125</td> <td> 0.263</td> <td>   -0.053</td> <td>    0.015</td>\n",
       "</tr>\n",
       "</table>\n",
       "<table class=\"simpletable\">\n",
       "<tr>\n",
       "  <th>Omnibus:</th>       <td> 2.087</td> <th>  Durbin-Watson:     </th> <td>   2.150</td>\n",
       "</tr>\n",
       "<tr>\n",
       "  <th>Prob(Omnibus):</th> <td> 0.352</td> <th>  Jarque-Bera (JB):  </th> <td>   2.103</td>\n",
       "</tr>\n",
       "<tr>\n",
       "  <th>Skew:</th>          <td>-0.300</td> <th>  Prob(JB):          </th> <td>   0.349</td>\n",
       "</tr>\n",
       "<tr>\n",
       "  <th>Kurtosis:</th>      <td> 2.641</td> <th>  Cond. No.          </th> <td>    14.3</td>\n",
       "</tr>\n",
       "</table><br/><br/>Notes:<br/>[1] Standard Errors assume that the covariance matrix of the errors is correctly specified."
      ],
      "text/plain": [
       "<class 'statsmodels.iolib.summary.Summary'>\n",
       "\"\"\"\n",
       "                            OLS Regression Results                            \n",
       "==============================================================================\n",
       "Dep. Variable:       Responses rating   R-squared:                       0.477\n",
       "Model:                            OLS   Adj. R-squared:                  0.450\n",
       "Method:                 Least Squares   F-statistic:                     17.69\n",
       "Date:                Tue, 02 May 2023   Prob (F-statistic):           2.00e-12\n",
       "Time:                        17:40:54   Log-Likelihood:                 48.285\n",
       "No. Observations:                 103   AIC:                            -84.57\n",
       "Df Residuals:                      97   BIC:                            -68.76\n",
       "Df Model:                           5                                         \n",
       "Covariance Type:            nonrobust                                         \n",
       "=====================================================================================\n",
       "                        coef    std err          t      P>|t|      [0.025      0.975]\n",
       "-------------------------------------------------------------------------------------\n",
       "const                 0.5523      0.035     16.005      0.000       0.484       0.621\n",
       "Questions rating      0.2138      0.083      2.561      0.012       0.048       0.379\n",
       "win                   0.0770      0.050      1.554      0.123      -0.021       0.175\n",
       "loss                 -0.1529      0.041     -3.725      0.000      -0.234      -0.071\n",
       "cumulative wins       0.0353      0.016      2.169      0.033       0.003       0.068\n",
       "cumulative losses    -0.0192      0.017     -1.125      0.263      -0.053       0.015\n",
       "==============================================================================\n",
       "Omnibus:                        2.087   Durbin-Watson:                   2.150\n",
       "Prob(Omnibus):                  0.352   Jarque-Bera (JB):                2.103\n",
       "Skew:                          -0.300   Prob(JB):                        0.349\n",
       "Kurtosis:                       2.641   Cond. No.                         14.3\n",
       "==============================================================================\n",
       "\n",
       "Notes:\n",
       "[1] Standard Errors assume that the covariance matrix of the errors is correctly specified.\n",
       "\"\"\""
      ]
     },
     "execution_count": 97,
     "metadata": {},
     "output_type": "execute_result"
    }
   ],
   "source": [
    "x = sm.add_constant(x1)\n",
    "results = sm.OLS(y,x).fit()\n",
    "results.summary()\n",
    "##### highest adj R-sq value"
   ]
  },
  {
   "cell_type": "code",
   "execution_count": 98,
   "id": "9c7a36da",
   "metadata": {},
   "outputs": [],
   "source": [
    "##### let's remove question rating for previously mentioned concerns (and interview length due to it having lowest probability of relationship)\n",
    "y = df['Responses rating']\n",
    "x1 = df[['win', 'loss', 'home', 'series result', 'cumulative wins', 'cumulative losses']]"
   ]
  },
  {
   "cell_type": "code",
   "execution_count": 99,
   "id": "157f246d",
   "metadata": {},
   "outputs": [
    {
     "data": {
      "text/html": [
       "<table class=\"simpletable\">\n",
       "<caption>OLS Regression Results</caption>\n",
       "<tr>\n",
       "  <th>Dep. Variable:</th>    <td>Responses rating</td> <th>  R-squared:         </th> <td>   0.448</td>\n",
       "</tr>\n",
       "<tr>\n",
       "  <th>Model:</th>                   <td>OLS</td>       <th>  Adj. R-squared:    </th> <td>   0.413</td>\n",
       "</tr>\n",
       "<tr>\n",
       "  <th>Method:</th>             <td>Least Squares</td>  <th>  F-statistic:       </th> <td>   12.98</td>\n",
       "</tr>\n",
       "<tr>\n",
       "  <th>Date:</th>             <td>Tue, 02 May 2023</td> <th>  Prob (F-statistic):</th> <td>1.08e-10</td>\n",
       "</tr>\n",
       "<tr>\n",
       "  <th>Time:</th>                 <td>17:40:55</td>     <th>  Log-Likelihood:    </th> <td>  45.488</td>\n",
       "</tr>\n",
       "<tr>\n",
       "  <th>No. Observations:</th>      <td>   103</td>      <th>  AIC:               </th> <td>  -76.98</td>\n",
       "</tr>\n",
       "<tr>\n",
       "  <th>Df Residuals:</th>          <td>    96</td>      <th>  BIC:               </th> <td>  -58.53</td>\n",
       "</tr>\n",
       "<tr>\n",
       "  <th>Df Model:</th>              <td>     6</td>      <th>                     </th>     <td> </td>   \n",
       "</tr>\n",
       "<tr>\n",
       "  <th>Covariance Type:</th>      <td>nonrobust</td>    <th>                     </th>     <td> </td>   \n",
       "</tr>\n",
       "</table>\n",
       "<table class=\"simpletable\">\n",
       "<tr>\n",
       "          <td></td>             <th>coef</th>     <th>std err</th>      <th>t</th>      <th>P>|t|</th>  <th>[0.025</th>    <th>0.975]</th>  \n",
       "</tr>\n",
       "<tr>\n",
       "  <th>const</th>             <td>    0.5872</td> <td>    0.032</td> <td>   18.255</td> <td> 0.000</td> <td>    0.523</td> <td>    0.651</td>\n",
       "</tr>\n",
       "<tr>\n",
       "  <th>win</th>               <td>    0.1203</td> <td>    0.048</td> <td>    2.529</td> <td> 0.013</td> <td>    0.026</td> <td>    0.215</td>\n",
       "</tr>\n",
       "<tr>\n",
       "  <th>loss</th>              <td>   -0.1769</td> <td>    0.041</td> <td>   -4.307</td> <td> 0.000</td> <td>   -0.258</td> <td>   -0.095</td>\n",
       "</tr>\n",
       "<tr>\n",
       "  <th>home</th>              <td>    0.0238</td> <td>    0.034</td> <td>    0.698</td> <td> 0.487</td> <td>   -0.044</td> <td>    0.091</td>\n",
       "</tr>\n",
       "<tr>\n",
       "  <th>series result</th>     <td>    0.0481</td> <td>    0.062</td> <td>    0.777</td> <td> 0.439</td> <td>   -0.075</td> <td>    0.171</td>\n",
       "</tr>\n",
       "<tr>\n",
       "  <th>cumulative wins</th>   <td>    0.0341</td> <td>    0.018</td> <td>    1.920</td> <td> 0.058</td> <td>   -0.001</td> <td>    0.069</td>\n",
       "</tr>\n",
       "<tr>\n",
       "  <th>cumulative losses</th> <td>   -0.0133</td> <td>    0.020</td> <td>   -0.680</td> <td> 0.498</td> <td>   -0.052</td> <td>    0.025</td>\n",
       "</tr>\n",
       "</table>\n",
       "<table class=\"simpletable\">\n",
       "<tr>\n",
       "  <th>Omnibus:</th>       <td> 3.895</td> <th>  Durbin-Watson:     </th> <td>   2.171</td>\n",
       "</tr>\n",
       "<tr>\n",
       "  <th>Prob(Omnibus):</th> <td> 0.143</td> <th>  Jarque-Bera (JB):  </th> <td>   3.733</td>\n",
       "</tr>\n",
       "<tr>\n",
       "  <th>Skew:</th>          <td>-0.465</td> <th>  Prob(JB):          </th> <td>   0.155</td>\n",
       "</tr>\n",
       "<tr>\n",
       "  <th>Kurtosis:</th>      <td> 2.932</td> <th>  Cond. No.          </th> <td>    9.93</td>\n",
       "</tr>\n",
       "</table><br/><br/>Notes:<br/>[1] Standard Errors assume that the covariance matrix of the errors is correctly specified."
      ],
      "text/plain": [
       "<class 'statsmodels.iolib.summary.Summary'>\n",
       "\"\"\"\n",
       "                            OLS Regression Results                            \n",
       "==============================================================================\n",
       "Dep. Variable:       Responses rating   R-squared:                       0.448\n",
       "Model:                            OLS   Adj. R-squared:                  0.413\n",
       "Method:                 Least Squares   F-statistic:                     12.98\n",
       "Date:                Tue, 02 May 2023   Prob (F-statistic):           1.08e-10\n",
       "Time:                        17:40:55   Log-Likelihood:                 45.488\n",
       "No. Observations:                 103   AIC:                            -76.98\n",
       "Df Residuals:                      96   BIC:                            -58.53\n",
       "Df Model:                           6                                         \n",
       "Covariance Type:            nonrobust                                         \n",
       "=====================================================================================\n",
       "                        coef    std err          t      P>|t|      [0.025      0.975]\n",
       "-------------------------------------------------------------------------------------\n",
       "const                 0.5872      0.032     18.255      0.000       0.523       0.651\n",
       "win                   0.1203      0.048      2.529      0.013       0.026       0.215\n",
       "loss                 -0.1769      0.041     -4.307      0.000      -0.258      -0.095\n",
       "home                  0.0238      0.034      0.698      0.487      -0.044       0.091\n",
       "series result         0.0481      0.062      0.777      0.439      -0.075       0.171\n",
       "cumulative wins       0.0341      0.018      1.920      0.058      -0.001       0.069\n",
       "cumulative losses    -0.0133      0.020     -0.680      0.498      -0.052       0.025\n",
       "==============================================================================\n",
       "Omnibus:                        3.895   Durbin-Watson:                   2.171\n",
       "Prob(Omnibus):                  0.143   Jarque-Bera (JB):                3.733\n",
       "Skew:                          -0.465   Prob(JB):                        0.155\n",
       "Kurtosis:                       2.932   Cond. No.                         9.93\n",
       "==============================================================================\n",
       "\n",
       "Notes:\n",
       "[1] Standard Errors assume that the covariance matrix of the errors is correctly specified.\n",
       "\"\"\""
      ]
     },
     "execution_count": 99,
     "metadata": {},
     "output_type": "execute_result"
    }
   ],
   "source": [
    "x = sm.add_constant(x1)\n",
    "results = sm.OLS(y,x).fit()\n",
    "results.summary()"
   ]
  },
  {
   "cell_type": "code",
   "execution_count": 100,
   "id": "5eff1b4f",
   "metadata": {},
   "outputs": [],
   "source": [
    "# refine variables based on level of significance\n",
    "y = df['Responses rating']\n",
    "x1 = df[['win', 'loss', 'cumulative wins', 'cumulative losses']]"
   ]
  },
  {
   "cell_type": "code",
   "execution_count": 101,
   "id": "fda08c4e",
   "metadata": {},
   "outputs": [
    {
     "data": {
      "text/html": [
       "<table class=\"simpletable\">\n",
       "<caption>OLS Regression Results</caption>\n",
       "<tr>\n",
       "  <th>Dep. Variable:</th>    <td>Responses rating</td> <th>  R-squared:         </th> <td>   0.442</td>\n",
       "</tr>\n",
       "<tr>\n",
       "  <th>Model:</th>                   <td>OLS</td>       <th>  Adj. R-squared:    </th> <td>   0.419</td>\n",
       "</tr>\n",
       "<tr>\n",
       "  <th>Method:</th>             <td>Least Squares</td>  <th>  F-statistic:       </th> <td>   19.38</td>\n",
       "</tr>\n",
       "<tr>\n",
       "  <th>Date:</th>             <td>Tue, 02 May 2023</td> <th>  Prob (F-statistic):</th> <td>8.98e-12</td>\n",
       "</tr>\n",
       "<tr>\n",
       "  <th>Time:</th>                 <td>17:40:56</td>     <th>  Log-Likelihood:    </th> <td>  44.916</td>\n",
       "</tr>\n",
       "<tr>\n",
       "  <th>No. Observations:</th>      <td>   103</td>      <th>  AIC:               </th> <td>  -79.83</td>\n",
       "</tr>\n",
       "<tr>\n",
       "  <th>Df Residuals:</th>          <td>    98</td>      <th>  BIC:               </th> <td>  -66.66</td>\n",
       "</tr>\n",
       "<tr>\n",
       "  <th>Df Model:</th>              <td>     4</td>      <th>                     </th>     <td> </td>   \n",
       "</tr>\n",
       "<tr>\n",
       "  <th>Covariance Type:</th>      <td>nonrobust</td>    <th>                     </th>     <td> </td>   \n",
       "</tr>\n",
       "</table>\n",
       "<table class=\"simpletable\">\n",
       "<tr>\n",
       "          <td></td>             <th>coef</th>     <th>std err</th>      <th>t</th>      <th>P>|t|</th>  <th>[0.025</th>    <th>0.975]</th>  \n",
       "</tr>\n",
       "<tr>\n",
       "  <th>const</th>             <td>    0.5947</td> <td>    0.031</td> <td>   19.106</td> <td> 0.000</td> <td>    0.533</td> <td>    0.656</td>\n",
       "</tr>\n",
       "<tr>\n",
       "  <th>win</th>               <td>    0.1263</td> <td>    0.047</td> <td>    2.689</td> <td> 0.008</td> <td>    0.033</td> <td>    0.220</td>\n",
       "</tr>\n",
       "<tr>\n",
       "  <th>loss</th>              <td>   -0.1842</td> <td>    0.040</td> <td>   -4.572</td> <td> 0.000</td> <td>   -0.264</td> <td>   -0.104</td>\n",
       "</tr>\n",
       "<tr>\n",
       "  <th>cumulative wins</th>   <td>    0.0382</td> <td>    0.017</td> <td>    2.287</td> <td> 0.024</td> <td>    0.005</td> <td>    0.071</td>\n",
       "</tr>\n",
       "<tr>\n",
       "  <th>cumulative losses</th> <td>   -0.0146</td> <td>    0.017</td> <td>   -0.836</td> <td> 0.405</td> <td>   -0.049</td> <td>    0.020</td>\n",
       "</tr>\n",
       "</table>\n",
       "<table class=\"simpletable\">\n",
       "<tr>\n",
       "  <th>Omnibus:</th>       <td> 3.786</td> <th>  Durbin-Watson:     </th> <td>   2.125</td>\n",
       "</tr>\n",
       "<tr>\n",
       "  <th>Prob(Omnibus):</th> <td> 0.151</td> <th>  Jarque-Bera (JB):  </th> <td>   3.696</td>\n",
       "</tr>\n",
       "<tr>\n",
       "  <th>Skew:</th>          <td>-0.460</td> <th>  Prob(JB):          </th> <td>   0.158</td>\n",
       "</tr>\n",
       "<tr>\n",
       "  <th>Kurtosis:</th>      <td> 2.873</td> <th>  Cond. No.          </th> <td>    7.87</td>\n",
       "</tr>\n",
       "</table><br/><br/>Notes:<br/>[1] Standard Errors assume that the covariance matrix of the errors is correctly specified."
      ],
      "text/plain": [
       "<class 'statsmodels.iolib.summary.Summary'>\n",
       "\"\"\"\n",
       "                            OLS Regression Results                            \n",
       "==============================================================================\n",
       "Dep. Variable:       Responses rating   R-squared:                       0.442\n",
       "Model:                            OLS   Adj. R-squared:                  0.419\n",
       "Method:                 Least Squares   F-statistic:                     19.38\n",
       "Date:                Tue, 02 May 2023   Prob (F-statistic):           8.98e-12\n",
       "Time:                        17:40:56   Log-Likelihood:                 44.916\n",
       "No. Observations:                 103   AIC:                            -79.83\n",
       "Df Residuals:                      98   BIC:                            -66.66\n",
       "Df Model:                           4                                         \n",
       "Covariance Type:            nonrobust                                         \n",
       "=====================================================================================\n",
       "                        coef    std err          t      P>|t|      [0.025      0.975]\n",
       "-------------------------------------------------------------------------------------\n",
       "const                 0.5947      0.031     19.106      0.000       0.533       0.656\n",
       "win                   0.1263      0.047      2.689      0.008       0.033       0.220\n",
       "loss                 -0.1842      0.040     -4.572      0.000      -0.264      -0.104\n",
       "cumulative wins       0.0382      0.017      2.287      0.024       0.005       0.071\n",
       "cumulative losses    -0.0146      0.017     -0.836      0.405      -0.049       0.020\n",
       "==============================================================================\n",
       "Omnibus:                        3.786   Durbin-Watson:                   2.125\n",
       "Prob(Omnibus):                  0.151   Jarque-Bera (JB):                3.696\n",
       "Skew:                          -0.460   Prob(JB):                        0.158\n",
       "Kurtosis:                       2.873   Cond. No.                         7.87\n",
       "==============================================================================\n",
       "\n",
       "Notes:\n",
       "[1] Standard Errors assume that the covariance matrix of the errors is correctly specified.\n",
       "\"\"\""
      ]
     },
     "execution_count": 101,
     "metadata": {},
     "output_type": "execute_result"
    }
   ],
   "source": [
    "x = sm.add_constant(x1)\n",
    "results = sm.OLS(y,x).fit()\n",
    "results.summary()"
   ]
  },
  {
   "cell_type": "markdown",
   "id": "a16f5448",
   "metadata": {},
   "source": [
    "##### large increase in adj R-squared and each variable is significant. Durbin-Watson variable implies we are safe from autocorrelation. Our F-statistic is large and thus implies that our model is significant.\n",
    "##### however, clearly the tone of Lebron James' responses is a complex variable to predict. Notice that all of the adj. R-squared statistics are in the 0.4 to 0.5 range. For social sciences, and the study of response tone, this is an acceptable range.\n",
    "##### other combination of independent variables were tested and this was determined to be the best for predicting future tones with easily accessible data (question tone would require querying ChatGPT and calculations to be made.)"
   ]
  },
  {
   "cell_type": "code",
   "execution_count": 102,
   "id": "c718904b",
   "metadata": {},
   "outputs": [
    {
     "data": {
      "image/png": "[encoded data removed]",
      "text/plain": [
       "<Figure size 1080x216 with 3 Axes>"
      ]
     },
     "metadata": {},
     "output_type": "display_data"
    }
   ],
   "source": [
    "f, (ax1, ax2, ax3) = plt.subplots(1, 3, sharey=True, figsize =(15,3)) \n",
    "scatter1 = ax1.scatter(df['cumulative wins'],df['Responses rating'],c=df['win_prac_loss'],cmap=cmap)\n",
    "ax1.set_title('Response Rating and Cumulative wins')\n",
    "scatter2 = ax2.scatter(df_rating['win_prac_loss'],df_rating['Responses rating'],c=df_rating['win_prac_loss'],cmap=cmap)\n",
    "ax2.legend(handles=scatter2.legend_elements()[0], labels = ['loss','prac','win'])\n",
    "ax2.set_title('Response Rating and Result')\n",
    "ax3.scatter(df['cumulative losses'],df['Responses rating'],c=df['win_prac_loss'],cmap=cmap)\n",
    "ax3.set_title('Response Rating and Cumulative losses')\n",
    "plt.savefig(\"Chosen_Variable_analysis.png\", format='png', dpi=200)"
   ]
  },
  {
   "cell_type": "markdown",
   "id": "a2204892",
   "metadata": {},
   "source": [
    "### Feature analysis"
   ]
  },
  {
   "cell_type": "code",
   "execution_count": 103,
   "id": "1b1ce964",
   "metadata": {},
   "outputs": [],
   "source": [
    "y = df['Responses rating']\n",
    "x = df[['cumulative wins', 'cumulative losses', 'win', 'loss']]"
   ]
  },
  {
   "cell_type": "code",
   "execution_count": 104,
   "id": "a6fb8b6b",
   "metadata": {},
   "outputs": [],
   "source": [
    "from sklearn.feature_selection import f_regression"
   ]
  },
  {
   "cell_type": "code",
   "execution_count": 105,
   "id": "e4c96901",
   "metadata": {},
   "outputs": [
    {
     "data": {
      "text/plain": [
       "(array([17.10249848,  4.8613282 , 33.11870828, 44.15443711]),\n",
       " array([7.33400480e-05, 2.97340136e-02, 9.34094984e-08, 1.56228842e-09]))"
      ]
     },
     "execution_count": 105,
     "metadata": {},
     "output_type": "execute_result"
    }
   ],
   "source": [
    "f_regression(x,y)"
   ]
  },
  {
   "cell_type": "markdown",
   "id": "b527295a",
   "metadata": {},
   "source": [
    "### Multivariate Regression Predictions"
   ]
  },
  {
   "cell_type": "code",
   "execution_count": 117,
   "id": "e2b0883b",
   "metadata": {},
   "outputs": [],
   "source": [
    "reg = LinearRegression()\n",
    "reg.fit(x,y)\n",
    "scaler = StandardScaler()\n",
    "scaler.fit(x)\n",
    "x_scaled = scaler.transform(x)"
   ]
  },
  {
   "cell_type": "code",
   "execution_count": 118,
   "id": "c368af9f",
   "metadata": {},
   "outputs": [
    {
     "data": {
      "text/html": [
       "<div>\n",
       "<style scoped>\n",
       "    .dataframe tbody tr th:only-of-type {\n",
       "        vertical-align: middle;\n",
       "    }\n",
       "\n",
       "    .dataframe tbody tr th {\n",
       "        vertical-align: top;\n",
       "    }\n",
       "\n",
       "    .dataframe thead th {\n",
       "        text-align: right;\n",
       "    }\n",
       "</style>\n",
       "<table border=\"1\" class=\"dataframe\">\n",
       "  <thead>\n",
       "    <tr style=\"text-align: right;\">\n",
       "      <th></th>\n",
       "      <th>cumulative wins</th>\n",
       "      <th>cumulative losses</th>\n",
       "      <th>win</th>\n",
       "      <th>loss</th>\n",
       "    </tr>\n",
       "  </thead>\n",
       "  <tbody>\n",
       "    <tr>\n",
       "      <th>0</th>\n",
       "      <td>2.514359</td>\n",
       "      <td>0.403925</td>\n",
       "      <td>1.918806</td>\n",
       "      <td>-0.656167</td>\n",
       "    </tr>\n",
       "    <tr>\n",
       "      <th>1</th>\n",
       "      <td>1.651096</td>\n",
       "      <td>0.403925</td>\n",
       "      <td>-0.521157</td>\n",
       "      <td>1.524002</td>\n",
       "    </tr>\n",
       "    <tr>\n",
       "      <th>2</th>\n",
       "      <td>1.651096</td>\n",
       "      <td>-0.541626</td>\n",
       "      <td>-0.521157</td>\n",
       "      <td>-0.656167</td>\n",
       "    </tr>\n",
       "    <tr>\n",
       "      <th>3</th>\n",
       "      <td>1.651096</td>\n",
       "      <td>-0.541626</td>\n",
       "      <td>1.918806</td>\n",
       "      <td>-0.656167</td>\n",
       "    </tr>\n",
       "    <tr>\n",
       "      <th>4</th>\n",
       "      <td>0.787832</td>\n",
       "      <td>-0.541626</td>\n",
       "      <td>-0.521157</td>\n",
       "      <td>-0.656167</td>\n",
       "    </tr>\n",
       "  </tbody>\n",
       "</table>\n",
       "</div>"
      ],
      "text/plain": [
       "   cumulative wins  cumulative losses       win      loss\n",
       "0         2.514359           0.403925  1.918806 -0.656167\n",
       "1         1.651096           0.403925 -0.521157  1.524002\n",
       "2         1.651096          -0.541626 -0.521157 -0.656167\n",
       "3         1.651096          -0.541626  1.918806 -0.656167\n",
       "4         0.787832          -0.541626 -0.521157 -0.656167"
      ]
     },
     "execution_count": 118,
     "metadata": {},
     "output_type": "execute_result"
    }
   ],
   "source": [
    "df_x_scaled = pd.DataFrame(x_scaled, columns = ['cumulative wins', 'cumulative losses', 'win', 'loss'])\n",
    "df_x_scaled.head()"
   ]
  },
  {
   "cell_type": "code",
   "execution_count": 120,
   "id": "0baf0986",
   "metadata": {},
   "outputs": [
    {
     "data": {
      "text/html": [
       "<div>\n",
       "<style scoped>\n",
       "    .dataframe tbody tr th:only-of-type {\n",
       "        vertical-align: middle;\n",
       "    }\n",
       "\n",
       "    .dataframe tbody tr th {\n",
       "        vertical-align: top;\n",
       "    }\n",
       "\n",
       "    .dataframe thead th {\n",
       "        text-align: right;\n",
       "    }\n",
       "</style>\n",
       "<table border=\"1\" class=\"dataframe\">\n",
       "  <thead>\n",
       "    <tr style=\"text-align: right;\">\n",
       "      <th></th>\n",
       "      <th>Features</th>\n",
       "      <th>weights</th>\n",
       "    </tr>\n",
       "  </thead>\n",
       "  <tbody>\n",
       "    <tr>\n",
       "      <th>0</th>\n",
       "      <td>Bias</td>\n",
       "      <td>0.594684</td>\n",
       "    </tr>\n",
       "    <tr>\n",
       "      <th>1</th>\n",
       "      <td>win</td>\n",
       "      <td>0.038215</td>\n",
       "    </tr>\n",
       "    <tr>\n",
       "      <th>2</th>\n",
       "      <td>loss</td>\n",
       "      <td>-0.014584</td>\n",
       "    </tr>\n",
       "    <tr>\n",
       "      <th>3</th>\n",
       "      <td>cumulative wins</td>\n",
       "      <td>0.126310</td>\n",
       "    </tr>\n",
       "    <tr>\n",
       "      <th>4</th>\n",
       "      <td>cumulative losses</td>\n",
       "      <td>-0.184183</td>\n",
       "    </tr>\n",
       "  </tbody>\n",
       "</table>\n",
       "</div>"
      ],
      "text/plain": [
       "            Features   weights\n",
       "0               Bias  0.594684\n",
       "1                win  0.038215\n",
       "2               loss -0.014584\n",
       "3    cumulative wins  0.126310\n",
       "4  cumulative losses -0.184183"
      ]
     },
     "execution_count": 120,
     "metadata": {},
     "output_type": "execute_result"
    }
   ],
   "source": [
    "reg_summary = pd.DataFrame([['Bias'], ['win'], ['loss'], ['cumulative wins'], ['cumulative losses']], columns=['Features'])\n",
    "reg_summary['weights'] = reg.intercept_, reg.coef_[0], reg.coef_[1], reg.coef_[2], reg.coef_[3]\n",
    "reg_summary"
   ]
  },
  {
   "cell_type": "code",
   "execution_count": 146,
   "id": "2fa18fc3",
   "metadata": {},
   "outputs": [],
   "source": [
    "x_train, x_test, y_train, y_test = train_test_split(x_scaled, y, test_size=0.2, random_state=37)\n",
    "reg.fit(x_train,y_train)\n",
    "y_hat = reg.predict(x_train)"
   ]
  },
  {
   "cell_type": "code",
   "execution_count": 147,
   "id": "572f9225",
   "metadata": {},
   "outputs": [
    {
     "data": {
      "image/png": "[encoded data removed]",
      "text/plain": [
       "<Figure size 432x288 with 1 Axes>"
      ]
     },
     "metadata": {},
     "output_type": "display_data"
    }
   ],
   "source": [
    "plt.scatter(y_train, y_hat)\n",
    "# name the axes\n",
    "plt.xlabel('Targets',size=18)\n",
    "plt.ylabel('Predictions',size=18)\n",
    "# same axis values\n",
    "plt.xlim(0,1)\n",
    "plt.ylim(0,1)\n",
    "plt.show()"
   ]
  },
  {
   "cell_type": "code",
   "execution_count": 148,
   "id": "4a07e900",
   "metadata": {},
   "outputs": [
    {
     "name": "stderr",
     "output_type": "stream",
     "text": [
      "C:\\Users\\Bryce\\anaconda3\\lib\\site-packages\\seaborn\\distributions.py:2619: FutureWarning: `distplot` is a deprecated function and will be removed in a future version. Please adapt your code to use either `displot` (a figure-level function with similar flexibility) or `histplot` (an axes-level function for histograms).\n",
      "  warnings.warn(msg, FutureWarning)\n"
     ]
    },
    {
     "data": {
      "text/plain": [
       "Text(0.5, 1.0, 'Residuals PDF')"
      ]
     },
     "execution_count": 148,
     "metadata": {},
     "output_type": "execute_result"
    },
    {
     "data": {
      "image/png": "[encoded data removed]",
      "text/plain": [
       "<Figure size 432x288 with 1 Axes>"
      ]
     },
     "metadata": {},
     "output_type": "display_data"
    }
   ],
   "source": [
    "sns.distplot(y_train - y_hat)\n",
    "plt.title(\"Residuals PDF\", size=18)"
   ]
  },
  {
   "cell_type": "code",
   "execution_count": 149,
   "id": "d1326240",
   "metadata": {},
   "outputs": [
    {
     "data": {
      "text/plain": [
       "0.46912660135818307"
      ]
     },
     "execution_count": 149,
     "metadata": {},
     "output_type": "execute_result"
    }
   ],
   "source": [
    "reg.score(x_train, y_train)\n",
    "##### note this is not the adjusted R-squared value. Also, Adj R^2 is always less than R^2. "
   ]
  },
  {
   "cell_type": "code",
   "execution_count": 150,
   "id": "0498cca0",
   "metadata": {},
   "outputs": [
    {
     "data": {
      "text/plain": [
       "0.595348272490062"
      ]
     },
     "execution_count": 150,
     "metadata": {},
     "output_type": "execute_result"
    }
   ],
   "source": [
    "reg.intercept_"
   ]
  },
  {
   "cell_type": "code",
   "execution_count": 151,
   "id": "3da2217d",
   "metadata": {},
   "outputs": [
    {
     "data": {
      "text/plain": [
       "array([ 0.04867218,  0.00040308,  0.03451384, -0.09998345])"
      ]
     },
     "execution_count": 151,
     "metadata": {},
     "output_type": "execute_result"
    }
   ],
   "source": [
    "reg.coef_"
   ]
  },
  {
   "cell_type": "code",
   "execution_count": 152,
   "id": "3ac88324",
   "metadata": {},
   "outputs": [
    {
     "data": {
      "text/html": [
       "<div>\n",
       "<style scoped>\n",
       "    .dataframe tbody tr th:only-of-type {\n",
       "        vertical-align: middle;\n",
       "    }\n",
       "\n",
       "    .dataframe tbody tr th {\n",
       "        vertical-align: top;\n",
       "    }\n",
       "\n",
       "    .dataframe thead th {\n",
       "        text-align: right;\n",
       "    }\n",
       "</style>\n",
       "<table border=\"1\" class=\"dataframe\">\n",
       "  <thead>\n",
       "    <tr style=\"text-align: right;\">\n",
       "      <th></th>\n",
       "      <th>Features</th>\n",
       "      <th>Weights</th>\n",
       "    </tr>\n",
       "  </thead>\n",
       "  <tbody>\n",
       "    <tr>\n",
       "      <th>0</th>\n",
       "      <td>cumulative wins</td>\n",
       "      <td>0.05</td>\n",
       "    </tr>\n",
       "    <tr>\n",
       "      <th>1</th>\n",
       "      <td>cumulative losses</td>\n",
       "      <td>0.00</td>\n",
       "    </tr>\n",
       "    <tr>\n",
       "      <th>2</th>\n",
       "      <td>win</td>\n",
       "      <td>0.03</td>\n",
       "    </tr>\n",
       "    <tr>\n",
       "      <th>3</th>\n",
       "      <td>loss</td>\n",
       "      <td>-0.10</td>\n",
       "    </tr>\n",
       "  </tbody>\n",
       "</table>\n",
       "</div>"
      ],
      "text/plain": [
       "            Features  Weights\n",
       "0    cumulative wins     0.05\n",
       "1  cumulative losses     0.00\n",
       "2                win     0.03\n",
       "3               loss    -0.10"
      ]
     },
     "execution_count": 152,
     "metadata": {},
     "output_type": "execute_result"
    }
   ],
   "source": [
    "reg_summary = pd.DataFrame(x.columns.values, columns=['Features'])\n",
    "reg_summary['Weights'] = reg.coef_\n",
    "reg_summary"
   ]
  },
  {
   "cell_type": "code",
   "execution_count": 153,
   "id": "48c09ddf",
   "metadata": {},
   "outputs": [],
   "source": [
    "y_hat_test = reg.predict(x_test)"
   ]
  },
  {
   "cell_type": "code",
   "execution_count": 154,
   "id": "9698bd61",
   "metadata": {},
   "outputs": [
    {
     "data": {
      "image/png": "[encoded data removed]",
      "text/plain": [
       "<Figure size 432x288 with 1 Axes>"
      ]
     },
     "metadata": {},
     "output_type": "display_data"
    }
   ],
   "source": [
    "plt.scatter(y_test, y_hat_test, alpha=0.7)\n",
    "plt.xlabel('Targets',size=18)\n",
    "plt.ylabel('Predictions',size=18)\n",
    "plt.xlim(0,1)\n",
    "plt.ylim(0,1)\n",
    "plt.show()"
   ]
  },
  {
   "cell_type": "code",
   "execution_count": 155,
   "id": "f088e118",
   "metadata": {},
   "outputs": [
    {
     "data": {
      "text/html": [
       "<div>\n",
       "<style scoped>\n",
       "    .dataframe tbody tr th:only-of-type {\n",
       "        vertical-align: middle;\n",
       "    }\n",
       "\n",
       "    .dataframe tbody tr th {\n",
       "        vertical-align: top;\n",
       "    }\n",
       "\n",
       "    .dataframe thead th {\n",
       "        text-align: right;\n",
       "    }\n",
       "</style>\n",
       "<table border=\"1\" class=\"dataframe\">\n",
       "  <thead>\n",
       "    <tr style=\"text-align: right;\">\n",
       "      <th></th>\n",
       "      <th>Prediction</th>\n",
       "    </tr>\n",
       "  </thead>\n",
       "  <tbody>\n",
       "    <tr>\n",
       "      <th>0</th>\n",
       "      <td>0.38</td>\n",
       "    </tr>\n",
       "    <tr>\n",
       "      <th>1</th>\n",
       "      <td>0.60</td>\n",
       "    </tr>\n",
       "    <tr>\n",
       "      <th>2</th>\n",
       "      <td>0.38</td>\n",
       "    </tr>\n",
       "    <tr>\n",
       "      <th>3</th>\n",
       "      <td>0.77</td>\n",
       "    </tr>\n",
       "    <tr>\n",
       "      <th>4</th>\n",
       "      <td>0.46</td>\n",
       "    </tr>\n",
       "  </tbody>\n",
       "</table>\n",
       "</div>"
      ],
      "text/plain": [
       "   Prediction\n",
       "0        0.38\n",
       "1        0.60\n",
       "2        0.38\n",
       "3        0.77\n",
       "4        0.46"
      ]
     },
     "execution_count": 155,
     "metadata": {},
     "output_type": "execute_result"
    }
   ],
   "source": [
    "df_predictions = pd.DataFrame(y_hat_test, columns=['Prediction'])\n",
    "df_predictions.head()"
   ]
  },
  {
   "cell_type": "code",
   "execution_count": 156,
   "id": "808ec535",
   "metadata": {},
   "outputs": [
    {
     "data": {
      "text/html": [
       "<div>\n",
       "<style scoped>\n",
       "    .dataframe tbody tr th:only-of-type {\n",
       "        vertical-align: middle;\n",
       "    }\n",
       "\n",
       "    .dataframe tbody tr th {\n",
       "        vertical-align: top;\n",
       "    }\n",
       "\n",
       "    .dataframe thead th {\n",
       "        text-align: right;\n",
       "    }\n",
       "</style>\n",
       "<table border=\"1\" class=\"dataframe\">\n",
       "  <thead>\n",
       "    <tr style=\"text-align: right;\">\n",
       "      <th></th>\n",
       "      <th>Prediction</th>\n",
       "      <th>Target</th>\n",
       "    </tr>\n",
       "  </thead>\n",
       "  <tbody>\n",
       "    <tr>\n",
       "      <th>0</th>\n",
       "      <td>0.38</td>\n",
       "      <td>0.46</td>\n",
       "    </tr>\n",
       "    <tr>\n",
       "      <th>1</th>\n",
       "      <td>0.60</td>\n",
       "      <td>0.38</td>\n",
       "    </tr>\n",
       "    <tr>\n",
       "      <th>2</th>\n",
       "      <td>0.38</td>\n",
       "      <td>0.58</td>\n",
       "    </tr>\n",
       "    <tr>\n",
       "      <th>3</th>\n",
       "      <td>0.77</td>\n",
       "      <td>0.67</td>\n",
       "    </tr>\n",
       "    <tr>\n",
       "      <th>4</th>\n",
       "      <td>0.46</td>\n",
       "      <td>0.17</td>\n",
       "    </tr>\n",
       "    <tr>\n",
       "      <th>5</th>\n",
       "      <td>0.46</td>\n",
       "      <td>0.44</td>\n",
       "    </tr>\n",
       "    <tr>\n",
       "      <th>6</th>\n",
       "      <td>0.60</td>\n",
       "      <td>0.59</td>\n",
       "    </tr>\n",
       "    <tr>\n",
       "      <th>7</th>\n",
       "      <td>0.60</td>\n",
       "      <td>0.38</td>\n",
       "    </tr>\n",
       "    <tr>\n",
       "      <th>8</th>\n",
       "      <td>0.60</td>\n",
       "      <td>0.67</td>\n",
       "    </tr>\n",
       "    <tr>\n",
       "      <th>9</th>\n",
       "      <td>0.60</td>\n",
       "      <td>0.58</td>\n",
       "    </tr>\n",
       "    <tr>\n",
       "      <th>10</th>\n",
       "      <td>0.64</td>\n",
       "      <td>0.76</td>\n",
       "    </tr>\n",
       "    <tr>\n",
       "      <th>11</th>\n",
       "      <td>0.81</td>\n",
       "      <td>0.92</td>\n",
       "    </tr>\n",
       "    <tr>\n",
       "      <th>12</th>\n",
       "      <td>0.46</td>\n",
       "      <td>0.38</td>\n",
       "    </tr>\n",
       "    <tr>\n",
       "      <th>13</th>\n",
       "      <td>0.72</td>\n",
       "      <td>0.80</td>\n",
       "    </tr>\n",
       "    <tr>\n",
       "      <th>14</th>\n",
       "      <td>0.72</td>\n",
       "      <td>0.93</td>\n",
       "    </tr>\n",
       "    <tr>\n",
       "      <th>15</th>\n",
       "      <td>0.68</td>\n",
       "      <td>0.18</td>\n",
       "    </tr>\n",
       "    <tr>\n",
       "      <th>16</th>\n",
       "      <td>0.42</td>\n",
       "      <td>0.39</td>\n",
       "    </tr>\n",
       "    <tr>\n",
       "      <th>17</th>\n",
       "      <td>0.60</td>\n",
       "      <td>0.25</td>\n",
       "    </tr>\n",
       "    <tr>\n",
       "      <th>18</th>\n",
       "      <td>0.72</td>\n",
       "      <td>0.79</td>\n",
       "    </tr>\n",
       "    <tr>\n",
       "      <th>19</th>\n",
       "      <td>0.72</td>\n",
       "      <td>0.69</td>\n",
       "    </tr>\n",
       "    <tr>\n",
       "      <th>20</th>\n",
       "      <td>0.68</td>\n",
       "      <td>0.52</td>\n",
       "    </tr>\n",
       "  </tbody>\n",
       "</table>\n",
       "</div>"
      ],
      "text/plain": [
       "    Prediction  Target\n",
       "0         0.38    0.46\n",
       "1         0.60    0.38\n",
       "2         0.38    0.58\n",
       "3         0.77    0.67\n",
       "4         0.46    0.17\n",
       "5         0.46    0.44\n",
       "6         0.60    0.59\n",
       "7         0.60    0.38\n",
       "8         0.60    0.67\n",
       "9         0.60    0.58\n",
       "10        0.64    0.76\n",
       "11        0.81    0.92\n",
       "12        0.46    0.38\n",
       "13        0.72    0.80\n",
       "14        0.72    0.93\n",
       "15        0.68    0.18\n",
       "16        0.42    0.39\n",
       "17        0.60    0.25\n",
       "18        0.72    0.79\n",
       "19        0.72    0.69\n",
       "20        0.68    0.52"
      ]
     },
     "execution_count": 156,
     "metadata": {},
     "output_type": "execute_result"
    }
   ],
   "source": [
    "y_test = y_test.reset_index(drop=True)\n",
    "df_predictions['Target'] = y_test\n",
    "df_predictions"
   ]
  },
  {
   "cell_type": "code",
   "execution_count": 157,
   "id": "2d01dca5",
   "metadata": {},
   "outputs": [
    {
     "data": {
      "text/html": [
       "<div>\n",
       "<style scoped>\n",
       "    .dataframe tbody tr th:only-of-type {\n",
       "        vertical-align: middle;\n",
       "    }\n",
       "\n",
       "    .dataframe tbody tr th {\n",
       "        vertical-align: top;\n",
       "    }\n",
       "\n",
       "    .dataframe thead th {\n",
       "        text-align: right;\n",
       "    }\n",
       "</style>\n",
       "<table border=\"1\" class=\"dataframe\">\n",
       "  <thead>\n",
       "    <tr style=\"text-align: right;\">\n",
       "      <th></th>\n",
       "      <th>Prediction</th>\n",
       "      <th>Target</th>\n",
       "      <th>Residual</th>\n",
       "      <th>Difference%</th>\n",
       "    </tr>\n",
       "  </thead>\n",
       "  <tbody>\n",
       "    <tr>\n",
       "      <th>0</th>\n",
       "      <td>0.38</td>\n",
       "      <td>0.46</td>\n",
       "      <td>0.08</td>\n",
       "      <td>17.87</td>\n",
       "    </tr>\n",
       "    <tr>\n",
       "      <th>1</th>\n",
       "      <td>0.60</td>\n",
       "      <td>0.38</td>\n",
       "      <td>-0.22</td>\n",
       "      <td>59.42</td>\n",
       "    </tr>\n",
       "    <tr>\n",
       "      <th>2</th>\n",
       "      <td>0.38</td>\n",
       "      <td>0.58</td>\n",
       "      <td>0.20</td>\n",
       "      <td>34.95</td>\n",
       "    </tr>\n",
       "    <tr>\n",
       "      <th>3</th>\n",
       "      <td>0.77</td>\n",
       "      <td>0.67</td>\n",
       "      <td>-0.10</td>\n",
       "      <td>14.80</td>\n",
       "    </tr>\n",
       "    <tr>\n",
       "      <th>4</th>\n",
       "      <td>0.46</td>\n",
       "      <td>0.17</td>\n",
       "      <td>-0.30</td>\n",
       "      <td>178.55</td>\n",
       "    </tr>\n",
       "    <tr>\n",
       "      <th>5</th>\n",
       "      <td>0.46</td>\n",
       "      <td>0.44</td>\n",
       "      <td>-0.02</td>\n",
       "      <td>4.20</td>\n",
       "    </tr>\n",
       "    <tr>\n",
       "      <th>6</th>\n",
       "      <td>0.60</td>\n",
       "      <td>0.59</td>\n",
       "      <td>-0.01</td>\n",
       "      <td>1.50</td>\n",
       "    </tr>\n",
       "    <tr>\n",
       "      <th>7</th>\n",
       "      <td>0.60</td>\n",
       "      <td>0.38</td>\n",
       "      <td>-0.21</td>\n",
       "      <td>55.24</td>\n",
       "    </tr>\n",
       "    <tr>\n",
       "      <th>8</th>\n",
       "      <td>0.60</td>\n",
       "      <td>0.67</td>\n",
       "      <td>0.07</td>\n",
       "      <td>10.50</td>\n",
       "    </tr>\n",
       "    <tr>\n",
       "      <th>9</th>\n",
       "      <td>0.60</td>\n",
       "      <td>0.58</td>\n",
       "      <td>-0.01</td>\n",
       "      <td>2.35</td>\n",
       "    </tr>\n",
       "    <tr>\n",
       "      <th>10</th>\n",
       "      <td>0.64</td>\n",
       "      <td>0.76</td>\n",
       "      <td>0.13</td>\n",
       "      <td>16.38</td>\n",
       "    </tr>\n",
       "    <tr>\n",
       "      <th>11</th>\n",
       "      <td>0.81</td>\n",
       "      <td>0.92</td>\n",
       "      <td>0.11</td>\n",
       "      <td>11.89</td>\n",
       "    </tr>\n",
       "    <tr>\n",
       "      <th>12</th>\n",
       "      <td>0.46</td>\n",
       "      <td>0.38</td>\n",
       "      <td>-0.08</td>\n",
       "      <td>20.51</td>\n",
       "    </tr>\n",
       "    <tr>\n",
       "      <th>13</th>\n",
       "      <td>0.72</td>\n",
       "      <td>0.80</td>\n",
       "      <td>0.08</td>\n",
       "      <td>9.52</td>\n",
       "    </tr>\n",
       "    <tr>\n",
       "      <th>14</th>\n",
       "      <td>0.72</td>\n",
       "      <td>0.93</td>\n",
       "      <td>0.21</td>\n",
       "      <td>22.11</td>\n",
       "    </tr>\n",
       "    <tr>\n",
       "      <th>15</th>\n",
       "      <td>0.68</td>\n",
       "      <td>0.18</td>\n",
       "      <td>-0.50</td>\n",
       "      <td>275.02</td>\n",
       "    </tr>\n",
       "    <tr>\n",
       "      <th>16</th>\n",
       "      <td>0.42</td>\n",
       "      <td>0.39</td>\n",
       "      <td>-0.03</td>\n",
       "      <td>8.48</td>\n",
       "    </tr>\n",
       "    <tr>\n",
       "      <th>17</th>\n",
       "      <td>0.60</td>\n",
       "      <td>0.25</td>\n",
       "      <td>-0.35</td>\n",
       "      <td>138.82</td>\n",
       "    </tr>\n",
       "    <tr>\n",
       "      <th>18</th>\n",
       "      <td>0.72</td>\n",
       "      <td>0.79</td>\n",
       "      <td>0.07</td>\n",
       "      <td>8.38</td>\n",
       "    </tr>\n",
       "    <tr>\n",
       "      <th>19</th>\n",
       "      <td>0.72</td>\n",
       "      <td>0.69</td>\n",
       "      <td>-0.03</td>\n",
       "      <td>4.48</td>\n",
       "    </tr>\n",
       "    <tr>\n",
       "      <th>20</th>\n",
       "      <td>0.68</td>\n",
       "      <td>0.52</td>\n",
       "      <td>-0.16</td>\n",
       "      <td>30.03</td>\n",
       "    </tr>\n",
       "  </tbody>\n",
       "</table>\n",
       "</div>"
      ],
      "text/plain": [
       "    Prediction  Target  Residual  Difference%\n",
       "0         0.38    0.46      0.08        17.87\n",
       "1         0.60    0.38     -0.22        59.42\n",
       "2         0.38    0.58      0.20        34.95\n",
       "3         0.77    0.67     -0.10        14.80\n",
       "4         0.46    0.17     -0.30       178.55\n",
       "5         0.46    0.44     -0.02         4.20\n",
       "6         0.60    0.59     -0.01         1.50\n",
       "7         0.60    0.38     -0.21        55.24\n",
       "8         0.60    0.67      0.07        10.50\n",
       "9         0.60    0.58     -0.01         2.35\n",
       "10        0.64    0.76      0.13        16.38\n",
       "11        0.81    0.92      0.11        11.89\n",
       "12        0.46    0.38     -0.08        20.51\n",
       "13        0.72    0.80      0.08         9.52\n",
       "14        0.72    0.93      0.21        22.11\n",
       "15        0.68    0.18     -0.50       275.02\n",
       "16        0.42    0.39     -0.03         8.48\n",
       "17        0.60    0.25     -0.35       138.82\n",
       "18        0.72    0.79      0.07         8.38\n",
       "19        0.72    0.69     -0.03         4.48\n",
       "20        0.68    0.52     -0.16        30.03"
      ]
     },
     "execution_count": 157,
     "metadata": {},
     "output_type": "execute_result"
    }
   ],
   "source": [
    "df_predictions['Residual'] = df_predictions['Target'] - df_predictions['Prediction']\n",
    "df_predictions['Difference%'] = np.absolute(df_predictions['Residual']/df_predictions['Target']*100)\n",
    "df_predictions"
   ]
  },
  {
   "cell_type": "code",
   "execution_count": 158,
   "id": "f040abf3",
   "metadata": {
    "scrolled": false
   },
   "outputs": [
    {
     "data": {
      "text/html": [
       "<div>\n",
       "<style scoped>\n",
       "    .dataframe tbody tr th:only-of-type {\n",
       "        vertical-align: middle;\n",
       "    }\n",
       "\n",
       "    .dataframe tbody tr th {\n",
       "        vertical-align: top;\n",
       "    }\n",
       "\n",
       "    .dataframe thead th {\n",
       "        text-align: right;\n",
       "    }\n",
       "</style>\n",
       "<table border=\"1\" class=\"dataframe\">\n",
       "  <thead>\n",
       "    <tr style=\"text-align: right;\">\n",
       "      <th></th>\n",
       "      <th>Prediction</th>\n",
       "      <th>Target</th>\n",
       "      <th>Residual</th>\n",
       "      <th>Difference%</th>\n",
       "    </tr>\n",
       "  </thead>\n",
       "  <tbody>\n",
       "    <tr>\n",
       "      <th>6</th>\n",
       "      <td>0.60</td>\n",
       "      <td>0.59</td>\n",
       "      <td>-0.01</td>\n",
       "      <td>1.50</td>\n",
       "    </tr>\n",
       "    <tr>\n",
       "      <th>9</th>\n",
       "      <td>0.60</td>\n",
       "      <td>0.58</td>\n",
       "      <td>-0.01</td>\n",
       "      <td>2.35</td>\n",
       "    </tr>\n",
       "    <tr>\n",
       "      <th>5</th>\n",
       "      <td>0.46</td>\n",
       "      <td>0.44</td>\n",
       "      <td>-0.02</td>\n",
       "      <td>4.20</td>\n",
       "    </tr>\n",
       "    <tr>\n",
       "      <th>19</th>\n",
       "      <td>0.72</td>\n",
       "      <td>0.69</td>\n",
       "      <td>-0.03</td>\n",
       "      <td>4.48</td>\n",
       "    </tr>\n",
       "    <tr>\n",
       "      <th>18</th>\n",
       "      <td>0.72</td>\n",
       "      <td>0.79</td>\n",
       "      <td>0.07</td>\n",
       "      <td>8.38</td>\n",
       "    </tr>\n",
       "    <tr>\n",
       "      <th>16</th>\n",
       "      <td>0.42</td>\n",
       "      <td>0.39</td>\n",
       "      <td>-0.03</td>\n",
       "      <td>8.48</td>\n",
       "    </tr>\n",
       "    <tr>\n",
       "      <th>13</th>\n",
       "      <td>0.72</td>\n",
       "      <td>0.80</td>\n",
       "      <td>0.08</td>\n",
       "      <td>9.52</td>\n",
       "    </tr>\n",
       "    <tr>\n",
       "      <th>8</th>\n",
       "      <td>0.60</td>\n",
       "      <td>0.67</td>\n",
       "      <td>0.07</td>\n",
       "      <td>10.50</td>\n",
       "    </tr>\n",
       "    <tr>\n",
       "      <th>11</th>\n",
       "      <td>0.81</td>\n",
       "      <td>0.92</td>\n",
       "      <td>0.11</td>\n",
       "      <td>11.89</td>\n",
       "    </tr>\n",
       "    <tr>\n",
       "      <th>3</th>\n",
       "      <td>0.77</td>\n",
       "      <td>0.67</td>\n",
       "      <td>-0.10</td>\n",
       "      <td>14.80</td>\n",
       "    </tr>\n",
       "    <tr>\n",
       "      <th>10</th>\n",
       "      <td>0.64</td>\n",
       "      <td>0.76</td>\n",
       "      <td>0.13</td>\n",
       "      <td>16.38</td>\n",
       "    </tr>\n",
       "    <tr>\n",
       "      <th>0</th>\n",
       "      <td>0.38</td>\n",
       "      <td>0.46</td>\n",
       "      <td>0.08</td>\n",
       "      <td>17.87</td>\n",
       "    </tr>\n",
       "    <tr>\n",
       "      <th>12</th>\n",
       "      <td>0.46</td>\n",
       "      <td>0.38</td>\n",
       "      <td>-0.08</td>\n",
       "      <td>20.51</td>\n",
       "    </tr>\n",
       "    <tr>\n",
       "      <th>14</th>\n",
       "      <td>0.72</td>\n",
       "      <td>0.93</td>\n",
       "      <td>0.21</td>\n",
       "      <td>22.11</td>\n",
       "    </tr>\n",
       "    <tr>\n",
       "      <th>20</th>\n",
       "      <td>0.68</td>\n",
       "      <td>0.52</td>\n",
       "      <td>-0.16</td>\n",
       "      <td>30.03</td>\n",
       "    </tr>\n",
       "    <tr>\n",
       "      <th>2</th>\n",
       "      <td>0.38</td>\n",
       "      <td>0.58</td>\n",
       "      <td>0.20</td>\n",
       "      <td>34.95</td>\n",
       "    </tr>\n",
       "    <tr>\n",
       "      <th>7</th>\n",
       "      <td>0.60</td>\n",
       "      <td>0.38</td>\n",
       "      <td>-0.21</td>\n",
       "      <td>55.24</td>\n",
       "    </tr>\n",
       "    <tr>\n",
       "      <th>1</th>\n",
       "      <td>0.60</td>\n",
       "      <td>0.38</td>\n",
       "      <td>-0.22</td>\n",
       "      <td>59.42</td>\n",
       "    </tr>\n",
       "    <tr>\n",
       "      <th>17</th>\n",
       "      <td>0.60</td>\n",
       "      <td>0.25</td>\n",
       "      <td>-0.35</td>\n",
       "      <td>138.82</td>\n",
       "    </tr>\n",
       "    <tr>\n",
       "      <th>4</th>\n",
       "      <td>0.46</td>\n",
       "      <td>0.17</td>\n",
       "      <td>-0.30</td>\n",
       "      <td>178.55</td>\n",
       "    </tr>\n",
       "    <tr>\n",
       "      <th>15</th>\n",
       "      <td>0.68</td>\n",
       "      <td>0.18</td>\n",
       "      <td>-0.50</td>\n",
       "      <td>275.02</td>\n",
       "    </tr>\n",
       "  </tbody>\n",
       "</table>\n",
       "</div>"
      ],
      "text/plain": [
       "    Prediction  Target  Residual  Difference%\n",
       "6         0.60    0.59     -0.01         1.50\n",
       "9         0.60    0.58     -0.01         2.35\n",
       "5         0.46    0.44     -0.02         4.20\n",
       "19        0.72    0.69     -0.03         4.48\n",
       "18        0.72    0.79      0.07         8.38\n",
       "16        0.42    0.39     -0.03         8.48\n",
       "13        0.72    0.80      0.08         9.52\n",
       "8         0.60    0.67      0.07        10.50\n",
       "11        0.81    0.92      0.11        11.89\n",
       "3         0.77    0.67     -0.10        14.80\n",
       "10        0.64    0.76      0.13        16.38\n",
       "0         0.38    0.46      0.08        17.87\n",
       "12        0.46    0.38     -0.08        20.51\n",
       "14        0.72    0.93      0.21        22.11\n",
       "20        0.68    0.52     -0.16        30.03\n",
       "2         0.38    0.58      0.20        34.95\n",
       "7         0.60    0.38     -0.21        55.24\n",
       "1         0.60    0.38     -0.22        59.42\n",
       "17        0.60    0.25     -0.35       138.82\n",
       "4         0.46    0.17     -0.30       178.55\n",
       "15        0.68    0.18     -0.50       275.02"
      ]
     },
     "execution_count": 158,
     "metadata": {},
     "output_type": "execute_result"
    }
   ],
   "source": [
    "pd.options.display.max_rows = 999\n",
    "pd.set_option('display.float_format', lambda x: '%.2f' % x)\n",
    "df_predictions.sort_values(by=['Difference%'])"
   ]
  },
  {
   "cell_type": "code",
   "execution_count": 159,
   "id": "c066f092",
   "metadata": {},
   "outputs": [
    {
     "data": {
      "text/html": [
       "<div>\n",
       "<style scoped>\n",
       "    .dataframe tbody tr th:only-of-type {\n",
       "        vertical-align: middle;\n",
       "    }\n",
       "\n",
       "    .dataframe tbody tr th {\n",
       "        vertical-align: top;\n",
       "    }\n",
       "\n",
       "    .dataframe thead th {\n",
       "        text-align: right;\n",
       "    }\n",
       "</style>\n",
       "<table border=\"1\" class=\"dataframe\">\n",
       "  <thead>\n",
       "    <tr style=\"text-align: right;\">\n",
       "      <th></th>\n",
       "      <th>Prediction</th>\n",
       "      <th>Target</th>\n",
       "      <th>Residual</th>\n",
       "      <th>Difference%</th>\n",
       "    </tr>\n",
       "  </thead>\n",
       "  <tbody>\n",
       "    <tr>\n",
       "      <th>count</th>\n",
       "      <td>21.00</td>\n",
       "      <td>21.00</td>\n",
       "      <td>21.00</td>\n",
       "      <td>21.00</td>\n",
       "    </tr>\n",
       "    <tr>\n",
       "      <th>mean</th>\n",
       "      <td>0.60</td>\n",
       "      <td>0.55</td>\n",
       "      <td>-0.05</td>\n",
       "      <td>44.05</td>\n",
       "    </tr>\n",
       "    <tr>\n",
       "      <th>std</th>\n",
       "      <td>0.13</td>\n",
       "      <td>0.22</td>\n",
       "      <td>0.18</td>\n",
       "      <td>69.64</td>\n",
       "    </tr>\n",
       "    <tr>\n",
       "      <th>min</th>\n",
       "      <td>0.38</td>\n",
       "      <td>0.17</td>\n",
       "      <td>-0.50</td>\n",
       "      <td>1.50</td>\n",
       "    </tr>\n",
       "    <tr>\n",
       "      <th>25%</th>\n",
       "      <td>0.46</td>\n",
       "      <td>0.38</td>\n",
       "      <td>-0.16</td>\n",
       "      <td>8.48</td>\n",
       "    </tr>\n",
       "    <tr>\n",
       "      <th>50%</th>\n",
       "      <td>0.60</td>\n",
       "      <td>0.58</td>\n",
       "      <td>-0.02</td>\n",
       "      <td>16.38</td>\n",
       "    </tr>\n",
       "    <tr>\n",
       "      <th>75%</th>\n",
       "      <td>0.72</td>\n",
       "      <td>0.69</td>\n",
       "      <td>0.08</td>\n",
       "      <td>34.95</td>\n",
       "    </tr>\n",
       "    <tr>\n",
       "      <th>max</th>\n",
       "      <td>0.81</td>\n",
       "      <td>0.93</td>\n",
       "      <td>0.21</td>\n",
       "      <td>275.02</td>\n",
       "    </tr>\n",
       "  </tbody>\n",
       "</table>\n",
       "</div>"
      ],
      "text/plain": [
       "       Prediction  Target  Residual  Difference%\n",
       "count       21.00   21.00     21.00        21.00\n",
       "mean         0.60    0.55     -0.05        44.05\n",
       "std          0.13    0.22      0.18        69.64\n",
       "min          0.38    0.17     -0.50         1.50\n",
       "25%          0.46    0.38     -0.16         8.48\n",
       "50%          0.60    0.58     -0.02        16.38\n",
       "75%          0.72    0.69      0.08        34.95\n",
       "max          0.81    0.93      0.21       275.02"
      ]
     },
     "execution_count": 159,
     "metadata": {},
     "output_type": "execute_result"
    }
   ],
   "source": [
    "df_predictions.describe()"
   ]
  },
  {
   "cell_type": "code",
   "execution_count": 160,
   "id": "d850585b",
   "metadata": {},
   "outputs": [],
   "source": [
    "pred_tone = []\n",
    "for ele in df_predictions['Prediction']:\n",
    "    if ele > 0.5:\n",
    "        pred_tone.append(1)\n",
    "    else:\n",
    "        pred_tone.append(0)"
   ]
  },
  {
   "cell_type": "code",
   "execution_count": 161,
   "id": "e00d5fcf",
   "metadata": {},
   "outputs": [],
   "source": [
    "target_tone = []\n",
    "for ele in df_predictions['Target']:\n",
    "    if ele > 0.5:\n",
    "        target_tone.append(1)\n",
    "    else:\n",
    "        target_tone.append(0)"
   ]
  },
  {
   "cell_type": "code",
   "execution_count": 162,
   "id": "5e84f0a4",
   "metadata": {},
   "outputs": [
    {
     "data": {
      "text/html": [
       "<div>\n",
       "<style scoped>\n",
       "    .dataframe tbody tr th:only-of-type {\n",
       "        vertical-align: middle;\n",
       "    }\n",
       "\n",
       "    .dataframe tbody tr th {\n",
       "        vertical-align: top;\n",
       "    }\n",
       "\n",
       "    .dataframe thead th {\n",
       "        text-align: right;\n",
       "    }\n",
       "</style>\n",
       "<table border=\"1\" class=\"dataframe\">\n",
       "  <thead>\n",
       "    <tr style=\"text-align: right;\">\n",
       "      <th></th>\n",
       "      <th>Prediction</th>\n",
       "      <th>Target</th>\n",
       "      <th>Residual</th>\n",
       "      <th>Difference%</th>\n",
       "      <th>predicted tone</th>\n",
       "      <th>target tone</th>\n",
       "    </tr>\n",
       "  </thead>\n",
       "  <tbody>\n",
       "    <tr>\n",
       "      <th>0</th>\n",
       "      <td>0.38</td>\n",
       "      <td>0.46</td>\n",
       "      <td>0.08</td>\n",
       "      <td>17.87</td>\n",
       "      <td>0</td>\n",
       "      <td>0</td>\n",
       "    </tr>\n",
       "    <tr>\n",
       "      <th>1</th>\n",
       "      <td>0.60</td>\n",
       "      <td>0.38</td>\n",
       "      <td>-0.22</td>\n",
       "      <td>59.42</td>\n",
       "      <td>1</td>\n",
       "      <td>0</td>\n",
       "    </tr>\n",
       "    <tr>\n",
       "      <th>2</th>\n",
       "      <td>0.38</td>\n",
       "      <td>0.58</td>\n",
       "      <td>0.20</td>\n",
       "      <td>34.95</td>\n",
       "      <td>0</td>\n",
       "      <td>1</td>\n",
       "    </tr>\n",
       "    <tr>\n",
       "      <th>3</th>\n",
       "      <td>0.77</td>\n",
       "      <td>0.67</td>\n",
       "      <td>-0.10</td>\n",
       "      <td>14.80</td>\n",
       "      <td>1</td>\n",
       "      <td>1</td>\n",
       "    </tr>\n",
       "    <tr>\n",
       "      <th>4</th>\n",
       "      <td>0.46</td>\n",
       "      <td>0.17</td>\n",
       "      <td>-0.30</td>\n",
       "      <td>178.55</td>\n",
       "      <td>0</td>\n",
       "      <td>0</td>\n",
       "    </tr>\n",
       "    <tr>\n",
       "      <th>5</th>\n",
       "      <td>0.46</td>\n",
       "      <td>0.44</td>\n",
       "      <td>-0.02</td>\n",
       "      <td>4.20</td>\n",
       "      <td>0</td>\n",
       "      <td>0</td>\n",
       "    </tr>\n",
       "    <tr>\n",
       "      <th>6</th>\n",
       "      <td>0.60</td>\n",
       "      <td>0.59</td>\n",
       "      <td>-0.01</td>\n",
       "      <td>1.50</td>\n",
       "      <td>1</td>\n",
       "      <td>1</td>\n",
       "    </tr>\n",
       "    <tr>\n",
       "      <th>7</th>\n",
       "      <td>0.60</td>\n",
       "      <td>0.38</td>\n",
       "      <td>-0.21</td>\n",
       "      <td>55.24</td>\n",
       "      <td>1</td>\n",
       "      <td>0</td>\n",
       "    </tr>\n",
       "    <tr>\n",
       "      <th>8</th>\n",
       "      <td>0.60</td>\n",
       "      <td>0.67</td>\n",
       "      <td>0.07</td>\n",
       "      <td>10.50</td>\n",
       "      <td>1</td>\n",
       "      <td>1</td>\n",
       "    </tr>\n",
       "    <tr>\n",
       "      <th>9</th>\n",
       "      <td>0.60</td>\n",
       "      <td>0.58</td>\n",
       "      <td>-0.01</td>\n",
       "      <td>2.35</td>\n",
       "      <td>1</td>\n",
       "      <td>1</td>\n",
       "    </tr>\n",
       "    <tr>\n",
       "      <th>10</th>\n",
       "      <td>0.64</td>\n",
       "      <td>0.76</td>\n",
       "      <td>0.13</td>\n",
       "      <td>16.38</td>\n",
       "      <td>1</td>\n",
       "      <td>1</td>\n",
       "    </tr>\n",
       "    <tr>\n",
       "      <th>11</th>\n",
       "      <td>0.81</td>\n",
       "      <td>0.92</td>\n",
       "      <td>0.11</td>\n",
       "      <td>11.89</td>\n",
       "      <td>1</td>\n",
       "      <td>1</td>\n",
       "    </tr>\n",
       "    <tr>\n",
       "      <th>12</th>\n",
       "      <td>0.46</td>\n",
       "      <td>0.38</td>\n",
       "      <td>-0.08</td>\n",
       "      <td>20.51</td>\n",
       "      <td>0</td>\n",
       "      <td>0</td>\n",
       "    </tr>\n",
       "    <tr>\n",
       "      <th>13</th>\n",
       "      <td>0.72</td>\n",
       "      <td>0.80</td>\n",
       "      <td>0.08</td>\n",
       "      <td>9.52</td>\n",
       "      <td>1</td>\n",
       "      <td>1</td>\n",
       "    </tr>\n",
       "    <tr>\n",
       "      <th>14</th>\n",
       "      <td>0.72</td>\n",
       "      <td>0.93</td>\n",
       "      <td>0.21</td>\n",
       "      <td>22.11</td>\n",
       "      <td>1</td>\n",
       "      <td>1</td>\n",
       "    </tr>\n",
       "    <tr>\n",
       "      <th>15</th>\n",
       "      <td>0.68</td>\n",
       "      <td>0.18</td>\n",
       "      <td>-0.50</td>\n",
       "      <td>275.02</td>\n",
       "      <td>1</td>\n",
       "      <td>0</td>\n",
       "    </tr>\n",
       "    <tr>\n",
       "      <th>16</th>\n",
       "      <td>0.42</td>\n",
       "      <td>0.39</td>\n",
       "      <td>-0.03</td>\n",
       "      <td>8.48</td>\n",
       "      <td>0</td>\n",
       "      <td>0</td>\n",
       "    </tr>\n",
       "    <tr>\n",
       "      <th>17</th>\n",
       "      <td>0.60</td>\n",
       "      <td>0.25</td>\n",
       "      <td>-0.35</td>\n",
       "      <td>138.82</td>\n",
       "      <td>1</td>\n",
       "      <td>0</td>\n",
       "    </tr>\n",
       "    <tr>\n",
       "      <th>18</th>\n",
       "      <td>0.72</td>\n",
       "      <td>0.79</td>\n",
       "      <td>0.07</td>\n",
       "      <td>8.38</td>\n",
       "      <td>1</td>\n",
       "      <td>1</td>\n",
       "    </tr>\n",
       "    <tr>\n",
       "      <th>19</th>\n",
       "      <td>0.72</td>\n",
       "      <td>0.69</td>\n",
       "      <td>-0.03</td>\n",
       "      <td>4.48</td>\n",
       "      <td>1</td>\n",
       "      <td>1</td>\n",
       "    </tr>\n",
       "    <tr>\n",
       "      <th>20</th>\n",
       "      <td>0.68</td>\n",
       "      <td>0.52</td>\n",
       "      <td>-0.16</td>\n",
       "      <td>30.03</td>\n",
       "      <td>1</td>\n",
       "      <td>1</td>\n",
       "    </tr>\n",
       "  </tbody>\n",
       "</table>\n",
       "</div>"
      ],
      "text/plain": [
       "    Prediction  Target  Residual  Difference%  predicted tone  target tone\n",
       "0         0.38    0.46      0.08        17.87               0            0\n",
       "1         0.60    0.38     -0.22        59.42               1            0\n",
       "2         0.38    0.58      0.20        34.95               0            1\n",
       "3         0.77    0.67     -0.10        14.80               1            1\n",
       "4         0.46    0.17     -0.30       178.55               0            0\n",
       "5         0.46    0.44     -0.02         4.20               0            0\n",
       "6         0.60    0.59     -0.01         1.50               1            1\n",
       "7         0.60    0.38     -0.21        55.24               1            0\n",
       "8         0.60    0.67      0.07        10.50               1            1\n",
       "9         0.60    0.58     -0.01         2.35               1            1\n",
       "10        0.64    0.76      0.13        16.38               1            1\n",
       "11        0.81    0.92      0.11        11.89               1            1\n",
       "12        0.46    0.38     -0.08        20.51               0            0\n",
       "13        0.72    0.80      0.08         9.52               1            1\n",
       "14        0.72    0.93      0.21        22.11               1            1\n",
       "15        0.68    0.18     -0.50       275.02               1            0\n",
       "16        0.42    0.39     -0.03         8.48               0            0\n",
       "17        0.60    0.25     -0.35       138.82               1            0\n",
       "18        0.72    0.79      0.07         8.38               1            1\n",
       "19        0.72    0.69     -0.03         4.48               1            1\n",
       "20        0.68    0.52     -0.16        30.03               1            1"
      ]
     },
     "execution_count": 162,
     "metadata": {},
     "output_type": "execute_result"
    }
   ],
   "source": [
    "df_predictions['predicted tone'] = pred_tone\n",
    "df_predictions['target tone'] = target_tone\n",
    "df_predictions"
   ]
  },
  {
   "cell_type": "code",
   "execution_count": 163,
   "id": "8757c47a",
   "metadata": {},
   "outputs": [],
   "source": [
    "y_true = df_predictions['target tone']\n",
    "y_pred = df_predictions['predicted tone']"
   ]
  },
  {
   "cell_type": "code",
   "execution_count": 164,
   "id": "efa57271",
   "metadata": {},
   "outputs": [
    {
     "data": {
      "image/png": "[encoded data removed]",
      "text/plain": [
       "<Figure size 432x288 with 2 Axes>"
      ]
     },
     "metadata": {},
     "output_type": "display_data"
    }
   ],
   "source": [
    "from sklearn.metrics import confusion_matrix\n",
    "confusion_matrix(y_true, y_pred)\n",
    "disp = sns.heatmap(confusion_matrix(y_true, y_pred), annot=True)\n",
    "disp.set_title('Multivariate Regression Confusion Matrix')\n",
    "plt.show()"
   ]
  },
  {
   "cell_type": "code",
   "execution_count": 165,
   "id": "4f624a89",
   "metadata": {},
   "outputs": [
    {
     "data": {
      "text/plain": [
       "0.7619047619047619"
      ]
     },
     "execution_count": 165,
     "metadata": {},
     "output_type": "execute_result"
    }
   ],
   "source": [
    "from sklearn.metrics import accuracy_score\n",
    "accuracy_score(y_true, y_pred)"
   ]
  },
  {
   "cell_type": "code",
   "execution_count": 166,
   "id": "bc5097be",
   "metadata": {},
   "outputs": [
    {
     "data": {
      "text/plain": [
       "array([0.55555556, 0.91666667])"
      ]
     },
     "execution_count": 166,
     "metadata": {},
     "output_type": "execute_result"
    }
   ],
   "source": [
    "from sklearn.metrics import recall_score\n",
    "recall_score(y_true, y_pred, average=None)"
   ]
  },
  {
   "cell_type": "code",
   "execution_count": 167,
   "id": "1d34dec8",
   "metadata": {},
   "outputs": [
    {
     "data": {
      "text/plain": [
       "array([0.83333333, 0.73333333])"
      ]
     },
     "execution_count": 167,
     "metadata": {},
     "output_type": "execute_result"
    }
   ],
   "source": [
    "from sklearn.metrics import precision_score\n",
    "precision_score(y_true, y_pred, average=None)"
   ]
  },
  {
   "cell_type": "code",
   "execution_count": 168,
   "id": "09f90a47",
   "metadata": {},
   "outputs": [
    {
     "data": {
      "text/plain": [
       "array([0.66666667, 0.81481481])"
      ]
     },
     "execution_count": 168,
     "metadata": {},
     "output_type": "execute_result"
    }
   ],
   "source": [
    "from sklearn.metrics import f1_score\n",
    "f1_score(y_true, y_pred, average=None)"
   ]
  },
  {
   "cell_type": "markdown",
   "id": "3c12fa6a",
   "metadata": {},
   "source": [
    "### Next, we will test multiple ML methods and select the best performing ones to predict tone on a test set of data."
   ]
  }
 ],
 "metadata": {
  "kernelspec": {
   "display_name": "Python 3 (ipykernel)",
   "language": "python",
   "name": "python3"
  },
  "language_info": {
   "codemirror_mode": {
    "name": "ipython",
    "version": 3
   },
   "file_extension": ".py",
   "mimetype": "text/x-python",
   "name": "python",
   "nbconvert_exporter": "python",
   "pygments_lexer": "ipython3",
   "version": "3.9.12"
  }
 },
 "nbformat": 4,
 "nbformat_minor": 5
}
